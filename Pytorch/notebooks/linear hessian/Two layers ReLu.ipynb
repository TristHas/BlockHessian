{
 "cells": [
  {
   "cell_type": "code",
   "execution_count": 1,
   "metadata": {},
   "outputs": [],
   "source": [
    "import sys\n",
    "import numpy as np\n",
    "import torch\n",
    "import matplotlib.pyplot as plt\n",
    "\n",
    "plt.style.use(\"dark_background\")\n",
    "%matplotlib inline"
   ]
  },
  {
   "cell_type": "code",
   "execution_count": 2,
   "metadata": {},
   "outputs": [],
   "source": [
    "sys.path.append(\"../../src\")\n",
    "from models import MLP\n",
    "from data import gen_rnd_ds\n",
    "from losses import LinearClassification, SquaredClassification\n",
    "from block_analysis import *\n",
    "from derivation import hessian, jacobian"
   ]
  },
  {
   "cell_type": "markdown",
   "metadata": {},
   "source": [
    "## Params"
   ]
  },
  {
   "cell_type": "code",
   "execution_count": 3,
   "metadata": {},
   "outputs": [],
   "source": [
    "# Model\n",
    "mode = \"relu\"\n",
    "bias = False\n",
    "nlayer = 2\n",
    "inp_dim = 2\n",
    "out_dim = 3\n",
    "hid_dim = 4\n",
    "\n",
    "# Data parameters\n",
    "nsamp = 1000\n",
    "inp_mean = 0\n",
    "inp_var = 1\n",
    "\n",
    "\n",
    "# Others\n",
    "device = 0\n",
    "lr = 1"
   ]
  },
  {
   "cell_type": "code",
   "execution_count": 4,
   "metadata": {},
   "outputs": [],
   "source": [
    "from derivation import infer_layer_idx\n",
    "\n",
    "def kronecker_product(t1, t2):\n",
    "    \"\"\"\n",
    "    \"\"\"\n",
    "    t1_height, t1_width = t1.size()\n",
    "    t2_height, t2_width = t2.size()\n",
    "    out_height = t1_height * t2_height\n",
    "    out_width = t1_width * t2_width\n",
    "\n",
    "    tiled_t2 = t2.repeat(t1_height, t1_width)\n",
    "    expanded_t1 = (\n",
    "        t1.unsqueeze(2)\n",
    "          .unsqueeze(3)\n",
    "          .repeat(1, t2_height, t2_width, 1)\n",
    "          .view(out_height, out_width)\n",
    "    )\n",
    "\n",
    "    return expanded_t1 * tiled_t2\n",
    "\n",
    "def H22(model, x):\n",
    "    \"\"\"\n",
    "    \"\"\"\n",
    "    out_dim = model.out.fc.weight.shape[0]\n",
    "    with torch.no_grad():\n",
    "        wx = model.l1(x)\n",
    "        wxxw = wx.t().mm(wx)\n",
    "        Id = torch.eye(out_dim).cuda()\n",
    "        return kronecker_product(Id, wxxw)\n",
    "    \n",
    "def H11(model, x):\n",
    "    \"\"\"\n",
    "    \"\"\"\n",
    "    with torch.no_grad():\n",
    "        xx = x.t().mm(x)\n",
    "        \n",
    "        act = model.l1.act.last_msk\n",
    "        act = act.t().mm(act)\n",
    "        w2 = model.out.fc.weight\n",
    "        ww2 = w2.t().mm(w2)\n",
    "        return kronecker_product(ww2*act, xx)\n",
    "        \n",
    "def H12(model, x, y, loss=\"linear\"):\n",
    "    \"\"\"\n",
    "    \"\"\"    \n",
    "    hlin = Hij_linear(model, x, y)\n",
    "    if loss == \"linear\":\n",
    "        return hlin\n",
    "    else:\n",
    "        return hlin + Hij_squared(model, x)\n",
    "\n",
    "def Hij_linear(model, x, y):\n",
    "    \"\"\"\n",
    "    \"\"\"\n",
    "    with torch.no_grad():\n",
    "        xy = get_xy(x, y, loss_fn)\n",
    "        ks = [kronecker_product(torch.eye(10).cuda(), xy[:,i:i+1]) for i in range(xy.shape[1])]\n",
    "        return torch.cat(ks, 1)\n",
    "        \n",
    "def Hij_squared(model, x):\n",
    "    \"\"\"\n",
    "    \"\"\"\n",
    "    B = model.out.fc.weight.t()\n",
    "    shared_dim = B.shape[0]\n",
    "    out_dim = B.shape[1]\n",
    "    with torch.no_grad():\n",
    "        # Asymetric path\n",
    "        Axxt = model.l1(x.t().mm(x))\n",
    "        asympath = kronecker_product(B, Axxt)\n",
    "        # Symetric path\n",
    "        out = x.t().mm(model(x))\n",
    "        sympath = torch.cat([kronecker_product(torch.eye(shared_dim, shared_dim).cuda(), out[:,i][:,None]) \\\n",
    "                             for i in range(out_dim)], 1)\n",
    "        return asympath + sympath\n",
    "    \n",
    "def get_block(H, model, i, j):\n",
    "    \"\"\"\n",
    "    \"\"\"\n",
    "    idx = infer_layer_idx(model.parameters())\n",
    "    return H[idx[i]:idx[i+1], idx[j]:idx[j+1]]\n",
    "\n",
    "def get_xy(x, y, loss_fn):\n",
    "    \"\"\"\n",
    "    \"\"\"\n",
    "    Y = loss_fn.lookup[y.squeeze()]\n",
    "    return -x.t().mm(Y)"
   ]
  },
  {
   "cell_type": "code",
   "execution_count": 5,
   "metadata": {},
   "outputs": [],
   "source": [
    "import torch.nn as nn\n",
    "\n",
    "class Activation(nn.Module):\n",
    "    def __init__(self, mode=\"linear\"):\n",
    "        \"\"\"\n",
    "        \"\"\"\n",
    "        super().__init__()\n",
    "        assert mode in [\"relu\", \"linear\"]\n",
    "        self.mode = mode\n",
    "        self.last_msk = None\n",
    "        \n",
    "    def set_mode(self, mode):\n",
    "        \"\"\"\n",
    "        \"\"\"\n",
    "        assert mode in [\"relu\", \"replay\", \"linear\"]\n",
    "        self.mode=mode\n",
    "        \n",
    "    def forward(self, x):\n",
    "        \"\"\"\n",
    "        \"\"\"\n",
    "        if self.mode==\"relu\":\n",
    "            msk = (x>0).detach().to(x.dtype)\n",
    "            self.last_msk = msk\n",
    "            self.last_inp = x\n",
    "            return x*msk\n",
    "        \n",
    "        elif self.mode==\"replay\":\n",
    "            assert self.mode==\"relu\" and self.last_msk is not None\n",
    "            return x*self.last_msk\n",
    "        else:\n",
    "            return x\n",
    "\n",
    "class FC(nn.Module):\n",
    "    def __init__(self, inp, out, bias=False, mode=\"linear\"):\n",
    "        \"\"\"\n",
    "        \"\"\"\n",
    "        super().__init__()\n",
    "        self.fc = nn.Linear(inp, out, bias=bias)\n",
    "        self.act = Activation(mode)\n",
    "        \n",
    "    def forward(self, x):\n",
    "        \"\"\"\n",
    "        \"\"\"\n",
    "        return self.act(self.fc(x))\n",
    "        \n",
    "class MLP(nn.Module):\n",
    "    def __init__(self, inp, hid, out, nlayer, bias=False, mode=\"linear\"):\n",
    "        \"\"\"\n",
    "        \"\"\"\n",
    "        super().__init__()\n",
    "        self.l1 = FC(inp, hid, bias=bias, mode=mode)\n",
    "        self.layers = nn.Sequential(*[FC(hid, hid, bias=bias, mode=mode) \\\n",
    "                                      for i in range(max(0,nlayer-2))])\n",
    "        self.out = FC(hid, out, bias=bias, mode=\"linear\")\n",
    "        \n",
    "    def forward(self, x):\n",
    "        \"\"\"\n",
    "        \"\"\"\n",
    "        return self.out(self.layers(self.l1(x)))\n",
    "    \n",
    "    def get_mode(self):\n",
    "        \"\"\"\n",
    "        \"\"\"\n",
    "        return next(self._activations()).mode\n",
    "    \n",
    "    def set_mode(self, mode):\n",
    "        \"\"\"\n",
    "        \"\"\"\n",
    "        for activation in self._activations():\n",
    "            activation.set_mode(mode)\n",
    "    \n",
    "    def _activations(self):\n",
    "        \"\"\"\n",
    "        \"\"\"\n",
    "        return filter(lambda x:isinstance(x, Activation), self.modules())"
   ]
  },
  {
   "cell_type": "code",
   "execution_count": 6,
   "metadata": {},
   "outputs": [],
   "source": [
    "def get_model_ds_loss(loss=\"squared\", inp_mean=0):    \n",
    "    model =  MLP(inp_dim, hid_dim, out_dim, nlayer, bias, mode).cuda(device)\n",
    "    ds = gen_rnd_ds(inp_dim, inp_mean, inp_var, \n",
    "                   out_dim, nsamp, device)\n",
    "    loss_fn = {\"linear\":LinearClassification,\n",
    "               \"squared\":SquaredClassification}[loss](out_dim, reduce=\"sum\")\n",
    "    return model, ds, loss_fn"
   ]
  },
  {
   "cell_type": "code",
   "execution_count": 7,
   "metadata": {},
   "outputs": [],
   "source": [
    "from losses import SquaredTerm\n",
    "nsamp = 10\n",
    "model, ds, loss_fn = get_model_ds_loss(\"squared\")\n",
    "loss_fn = SquaredTerm(out_dim, reduce=\"sum\")\n",
    "\n",
    "X,Y = ds[0]\n",
    "loss_fn(model(X),Y).backward()\n",
    "out = loss_fn(model(X), Y)\n",
    "H = hessian(out, model.parameters())\n",
    "A = model.l1.act.last_msk"
   ]
  },
  {
   "cell_type": "code",
   "execution_count": 8,
   "metadata": {},
   "outputs": [],
   "source": [
    "from utils import zero_grad\n",
    "\n",
    "def block_one(i):\n",
    "    zero_grad(model)\n",
    "    X,Y,_ = slice_one(i)\n",
    "    loss_fn(model(X),Y).backward()\n",
    "    out = loss_fn(model(X), Y)\n",
    "    H = hessian(out, model.parameters())\n",
    "    return get_block(H, model, 0, 0)\n",
    "\n",
    "def slice_one(i):\n",
    "    \"\"\"\n",
    "    \"\"\"\n",
    "    return X[i:i+1], Y[i:i+1], A[i:i+1]\n",
    "\n",
    "def get_one(i):\n",
    "    x,_, act = slice_one(i)\n",
    "    with torch.no_grad():\n",
    "        xx = x.t().mm(x)\n",
    "        act = act.t().mm(act)\n",
    "        \n",
    "        w2 = model.out.fc.weight\n",
    "        ww2 = w2.t().mm(w2)\n",
    "\n",
    "        return kronecker_product(act*ww2, xx)"
   ]
  },
  {
   "cell_type": "code",
   "execution_count": 12,
   "metadata": {},
   "outputs": [],
   "source": [
    "x = X\n",
    "act = A\n",
    "xx = x.t().mm(x)\n",
    "#act = act.t().mm(act)\n",
    "\n",
    "w2 = model.out.fc.weight\n",
    "ww2 = w2.t().mm(w2)\n",
    "\n",
    "#return kronecker_product(act*ww2, xx)"
   ]
  },
  {
   "cell_type": "code",
   "execution_count": null,
   "metadata": {},
   "outputs": [],
   "source": []
  },
  {
   "cell_type": "code",
   "execution_count": null,
   "metadata": {},
   "outputs": [],
   "source": []
  },
  {
   "cell_type": "code",
   "execution_count": null,
   "metadata": {},
   "outputs": [],
   "source": []
  },
  {
   "cell_type": "code",
   "execution_count": null,
   "metadata": {},
   "outputs": [],
   "source": []
  },
  {
   "cell_type": "code",
   "execution_count": null,
   "metadata": {},
   "outputs": [],
   "source": []
  },
  {
   "cell_type": "code",
   "execution_count": 16,
   "metadata": {},
   "outputs": [],
   "source": [
    "act = act[:,:,None].bmm(act[:,None,:])"
   ]
  },
  {
   "cell_type": "code",
   "execution_count": 20,
   "metadata": {},
   "outputs": [],
   "source": [
    "of = act*ww2[None,:,:]"
   ]
  },
  {
   "cell_type": "code",
   "execution_count": 28,
   "metadata": {},
   "outputs": [
    {
     "data": {
      "text/plain": [
       "tensor([[0.0000, 0.0000, 0.0000, 0.0000, 0.0000, 0.0000, 0.0000, 0.0000],\n",
       "        [0.0000, 0.0000, 0.0000, 0.0000, 0.0000, 0.0000, 0.0000, 0.0000],\n",
       "        [0.0000, 0.0000, 0.0489, 0.0193, 0.0000, 0.0000, 0.0000, 0.0000],\n",
       "        [0.0000, 0.0000, 0.0193, 0.0076, 0.0000, 0.0000, 0.0000, 0.0000],\n",
       "        [0.0000, 0.0000, 0.0000, 0.0000, 0.0000, 0.0000, 0.0000, 0.0000],\n",
       "        [0.0000, 0.0000, 0.0000, 0.0000, 0.0000, 0.0000, 0.0000, 0.0000],\n",
       "        [0.0000, 0.0000, 0.0000, 0.0000, 0.0000, 0.0000, 0.0000, 0.0000],\n",
       "        [0.0000, 0.0000, 0.0000, 0.0000, 0.0000, 0.0000, 0.0000, 0.0000]],\n",
       "       device='cuda:0', grad_fn=<ThMulBackward>)"
      ]
     },
     "execution_count": 28,
     "metadata": {},
     "output_type": "execute_result"
    }
   ],
   "source": [
    "x = X[:1]\n",
    "xx = x.t().mm(x)\n",
    "kronecker_product(act[0]*ww2, xx)"
   ]
  },
  {
   "cell_type": "code",
   "execution_count": 30,
   "metadata": {},
   "outputs": [],
   "source": [
    "#ww2.shape, act.shape\n",
    "#kronecker_product(of.sum(0), xx) /get_block(H, model, 0, 0)#.shape\n",
    "#kronecker_product(act*ww2, xx)"
   ]
  },
  {
   "cell_type": "code",
   "execution_count": null,
   "metadata": {},
   "outputs": [],
   "source": []
  },
  {
   "cell_type": "code",
   "execution_count": null,
   "metadata": {},
   "outputs": [],
   "source": []
  },
  {
   "cell_type": "code",
   "execution_count": 9,
   "metadata": {},
   "outputs": [],
   "source": [
    "idx = 0\n",
    "Hs = []\n",
    "hs = []\n",
    "for idx in range(nsamp):\n",
    "    Hs.append(block_one(idx)[None,:])\n",
    "    hs.append(get_one(idx)[None,:])\n"
   ]
  },
  {
   "cell_type": "code",
   "execution_count": 10,
   "metadata": {},
   "outputs": [
    {
     "data": {
      "text/plain": [
       "tensor([[1.0000, 1.0000, 1.0000, 1.0000,    nan,    nan, 1.0000, 1.0000],\n",
       "        [1.0000, 1.0000, 1.0000, 1.0000,    nan,    nan, 1.0000, 1.0000],\n",
       "        [1.0000, 1.0000, 1.0000, 1.0000, 1.0000, 1.0000, 1.0000, 1.0000],\n",
       "        [1.0000, 1.0000, 1.0000, 1.0000, 1.0000, 1.0000, 1.0000, 1.0000],\n",
       "        [   nan,    nan, 1.0000, 1.0000, 1.0000, 1.0000, 1.0000, 1.0000],\n",
       "        [   nan,    nan, 1.0000, 1.0000, 1.0000, 1.0000, 1.0000, 1.0000],\n",
       "        [1.0000, 1.0000, 1.0000, 1.0000, 1.0000, 1.0000, 1.0000, 1.0000],\n",
       "        [1.0000, 1.0000, 1.0000, 1.0000, 1.0000, 1.0000, 1.0000, 1.0000]],\n",
       "       device='cuda:0')"
      ]
     },
     "execution_count": 10,
     "metadata": {},
     "output_type": "execute_result"
    }
   ],
   "source": [
    "torch.cat(Hs).sum(0)/get_block(H, model, 0, 0)\n",
    "#torch.cat(hs).sum(0)/get_block(H, model, 0, 0)"
   ]
  },
  {
   "cell_type": "code",
   "execution_count": 11,
   "metadata": {},
   "outputs": [
    {
     "data": {
      "text/plain": [
       "10"
      ]
     },
     "execution_count": 11,
     "metadata": {},
     "output_type": "execute_result"
    }
   ],
   "source": [
    "nsamp"
   ]
  },
  {
   "cell_type": "code",
   "execution_count": 122,
   "metadata": {},
   "outputs": [],
   "source": [
    "J = jacobian(out, model.l1.act.last_inp)\n",
    "J = J.view(nsamp, hid_dim).t()\n",
    "JJ = J.t().mm(J)\n",
    "xx = x.t().mm(x)\n",
    "\n",
    "h1 = kronecker_product(torch.eye(JJ.shape[0]).cuda(), xx)\n",
    "\n",
    "H1 = get_block(H, model, 0, 0)"
   ]
  },
  {
   "cell_type": "code",
   "execution_count": null,
   "metadata": {},
   "outputs": [],
   "source": []
  },
  {
   "cell_type": "code",
   "execution_count": 123,
   "metadata": {},
   "outputs": [
    {
     "data": {
      "text/plain": [
       "tensor([[ 0.0000],\n",
       "        [ 0.0318],\n",
       "        [ 0.0000],\n",
       "        [-0.0000]], device='cuda:0')"
      ]
     },
     "execution_count": 123,
     "metadata": {},
     "output_type": "execute_result"
    }
   ],
   "source": [
    "J"
   ]
  },
  {
   "cell_type": "code",
   "execution_count": 124,
   "metadata": {},
   "outputs": [
    {
     "data": {
      "text/plain": [
       "tensor([[ 0.0204,  0.0052, -0.0146, -0.0286]], device='cuda:0', grad_fn=<MmBackward>)"
      ]
     },
     "execution_count": 124,
     "metadata": {},
     "output_type": "execute_result"
    }
   ],
   "source": [
    "model(x).mm(w2)"
   ]
  },
  {
   "cell_type": "code",
   "execution_count": null,
   "metadata": {},
   "outputs": [],
   "source": [
    "A = model.l1.act.last_msk\n",
    "X = x\n",
    "\n"
   ]
  },
  {
   "cell_type": "code",
   "execution_count": null,
   "metadata": {},
   "outputs": [],
   "source": []
  },
  {
   "cell_type": "code",
   "execution_count": null,
   "metadata": {},
   "outputs": [],
   "source": []
  },
  {
   "cell_type": "code",
   "execution_count": 126,
   "metadata": {},
   "outputs": [
    {
     "data": {
      "text/plain": [
       "tensor([[ 0.0000, -0.0000,  0.0000, -0.0000,  0.0000, -0.0000,  0.0000, -0.0000],\n",
       "        [-0.0000,  0.0000, -0.0000,  0.0000, -0.0000,  0.0000, -0.0000,  0.0000],\n",
       "        [ 0.0000, -0.0000,  0.0069, -0.0064,  0.0000, -0.0000, -0.0000,  0.0000],\n",
       "        [-0.0000,  0.0000, -0.0064,  0.0060, -0.0000,  0.0000,  0.0000, -0.0000],\n",
       "        [ 0.0000, -0.0000,  0.0000, -0.0000,  0.0000, -0.0000, -0.0000,  0.0000],\n",
       "        [-0.0000,  0.0000, -0.0000,  0.0000, -0.0000,  0.0000,  0.0000, -0.0000],\n",
       "        [ 0.0000, -0.0000, -0.0000,  0.0000, -0.0000,  0.0000,  0.0000, -0.0000],\n",
       "        [-0.0000,  0.0000,  0.0000, -0.0000,  0.0000, -0.0000, -0.0000,  0.0000]],\n",
       "       device='cuda:0')"
      ]
     },
     "execution_count": 126,
     "metadata": {},
     "output_type": "execute_result"
    }
   ],
   "source": [
    "d"
   ]
  },
  {
   "cell_type": "code",
   "execution_count": 106,
   "metadata": {},
   "outputs": [
    {
     "data": {
      "text/plain": [
       "tensor([[0., 0., 0., 0.],\n",
       "        [0., 0., 0., 0.],\n",
       "        [0., 0., 0., 0.],\n",
       "        [0., 0., 0., 1.]], device='cuda:0')"
      ]
     },
     "execution_count": 106,
     "metadata": {},
     "output_type": "execute_result"
    }
   ],
   "source": [
    "act"
   ]
  },
  {
   "cell_type": "code",
   "execution_count": 100,
   "metadata": {},
   "outputs": [
    {
     "data": {
      "text/plain": [
       "tensor([[0.0000, 0.0000, 0.0000, 0.0000, 0.0000, 0.0000, 0.0000, 0.0000],\n",
       "        [0.0000, 0.0000, 0.0000, 0.0000, 0.0000, 0.0000, 0.0000, 0.0000],\n",
       "        [0.0000, 0.0000, 0.0000, 0.0000, 0.0000, 0.0000, 0.0000, 0.0000],\n",
       "        [0.0000, 0.0000, 0.0000, 0.0000, 0.0000, 0.0000, 0.0000, 0.0000],\n",
       "        [0.0000, 0.0000, 0.0000, 0.0000, 0.0000, 0.0000, 0.0000, 0.0000],\n",
       "        [0.0000, 0.0000, 0.0000, 0.0000, 0.0000, 0.0000, 0.0000, 0.0000],\n",
       "        [0.0000, 0.0000, 0.0000, 0.0000, 0.0000, 0.0000, 0.4234, 0.1414],\n",
       "        [0.0000, 0.0000, 0.0000, 0.0000, 0.0000, 0.0000, 0.1414, 0.0472]],\n",
       "       device='cuda:0')"
      ]
     },
     "execution_count": 100,
     "metadata": {},
     "output_type": "execute_result"
    }
   ],
   "source": [
    "#h1  = H11(model, x)\n",
    "#h2  = H22(model, x)\n",
    "#h12 = H12(model, x, y, \"squared\")\n",
    "H1"
   ]
  },
  {
   "cell_type": "code",
   "execution_count": 103,
   "metadata": {},
   "outputs": [
    {
     "data": {
      "text/plain": [
       "tensor([[1.2919, 0.4314, 0.0000, 0.0000, 0.0000, 0.0000, 0.0000, 0.0000],\n",
       "        [0.4314, 0.1440, 0.0000, 0.0000, 0.0000, 0.0000, 0.0000, 0.0000],\n",
       "        [0.0000, 0.0000, 1.2919, 0.4314, 0.0000, 0.0000, 0.0000, 0.0000],\n",
       "        [0.0000, 0.0000, 0.4314, 0.1440, 0.0000, 0.0000, 0.0000, 0.0000],\n",
       "        [0.0000, 0.0000, 0.0000, 0.0000, 1.2919, 0.4314, 0.0000, 0.0000],\n",
       "        [0.0000, 0.0000, 0.0000, 0.0000, 0.4314, 0.1440, 0.0000, 0.0000],\n",
       "        [0.0000, 0.0000, 0.0000, 0.0000, 0.0000, 0.0000, 1.2919, 0.4314],\n",
       "        [0.0000, 0.0000, 0.0000, 0.0000, 0.0000, 0.0000, 0.4314, 0.1440]],\n",
       "       device='cuda:0')"
      ]
     },
     "execution_count": 103,
     "metadata": {},
     "output_type": "execute_result"
    }
   ],
   "source": [
    "h1"
   ]
  },
  {
   "cell_type": "code",
   "execution_count": null,
   "metadata": {},
   "outputs": [],
   "source": []
  },
  {
   "cell_type": "markdown",
   "metadata": {},
   "source": [
    "### Done\n",
    "\n",
    "Formulas for diagonal and linear term of the off-diagonal"
   ]
  },
  {
   "cell_type": "code",
   "execution_count": 38,
   "metadata": {},
   "outputs": [
    {
     "data": {
      "text/plain": [
       "<matplotlib.image.AxesImage at 0x7facf578e2b0>"
      ]
     },
     "execution_count": 38,
     "metadata": {},
     "output_type": "execute_result"
    },
    {
     "data": {
      "image/png": "[encoded data removed]",
      "text/plain": [
       "<Figure size 1440x1440 with 4 Axes>"
      ]
     },
     "metadata": {},
     "output_type": "display_data"
    }
   ],
   "source": [
    "fig, ax = plt.subplots(2,2, figsize=(20, 20))\n",
    "ax[0,1].imshow(H.abs())\n",
    "ax[0,0].imshow(get_block(H, model, 0, 0).abs())\n",
    "#ax[1,0].imshow(h12.abs())\n",
    "#ax[1,1].imshow(h2.abs())"
   ]
  },
  {
   "cell_type": "code",
   "execution_count": 11,
   "metadata": {},
   "outputs": [],
   "source": [
    "def H11(model, x):\n",
    "    \"\"\"\n",
    "    \"\"\"\n",
    "    with torch.no_grad():\n",
    "        xx = x.t().mm(x)\n",
    "        \n",
    "        w2 = model.out.fc.weight\n",
    "        ww2 = w2.t().mm(w2)\n",
    "        \n",
    "        return kronecker_product(ww2, xx)"
   ]
  },
  {
   "cell_type": "code",
   "execution_count": 12,
   "metadata": {},
   "outputs": [],
   "source": [
    "#dim = xx.shape[0]\n",
    "#a = get_block(H, model, 0, 0)[:dim,:dim]\n",
    "#b = get_block(H, model, 0, 0)[dim:dim*2,dim:dim*2]"
   ]
  },
  {
   "cell_type": "code",
   "execution_count": 16,
   "metadata": {},
   "outputs": [
    {
     "data": {
      "text/plain": [
       "torch.Size([1000, 4])"
      ]
     },
     "execution_count": 16,
     "metadata": {},
     "output_type": "execute_result"
    }
   ],
   "source": [
    "xx = x.t().mm(x)\n",
    "w2 = model.out.fc.weight\n",
    "ww2 = w2.t().mm(w2)\n",
    "ww2.shape\n",
    "act = model.l1.act.last_msk\n",
    "act.shape"
   ]
  },
  {
   "cell_type": "code",
   "execution_count": 27,
   "metadata": {},
   "outputs": [],
   "source": [
    "W = (act[:,None,:] * w2[None,:,:]).sum(0)\n",
    "WW = W.t().mm(W)"
   ]
  },
  {
   "cell_type": "code",
   "execution_count": 33,
   "metadata": {},
   "outputs": [
    {
     "data": {
      "text/plain": [
       "torch.Size([8, 8])"
      ]
     },
     "execution_count": 33,
     "metadata": {},
     "output_type": "execute_result"
    }
   ],
   "source": [
    "h11 = kronecker_product(WW, xx)\n",
    "h11.shape"
   ]
  },
  {
   "cell_type": "code",
   "execution_count": 34,
   "metadata": {},
   "outputs": [],
   "source": [
    "H11 = get_block(H, model, 0, 0)"
   ]
  },
  {
   "cell_type": "code",
   "execution_count": null,
   "metadata": {},
   "outputs": [],
   "source": []
  },
  {
   "cell_type": "code",
   "execution_count": null,
   "metadata": {},
   "outputs": [],
   "source": []
  },
  {
   "cell_type": "code",
   "execution_count": null,
   "metadata": {},
   "outputs": [],
   "source": []
  },
  {
   "cell_type": "code",
   "execution_count": null,
   "metadata": {},
   "outputs": [],
   "source": []
  },
  {
   "cell_type": "code",
   "execution_count": 10,
   "metadata": {},
   "outputs": [],
   "source": [
    "with torch.no_grad():\n",
    "    xx = x.t().mm(x)\n",
    "\n",
    "    act = model.l1.act.last_msk\n",
    "    act = act.t().mm(act)\n",
    "    w2 = model.out.fc.weight\n",
    "    ww2 = w2.t().mm(w2)\n",
    " "
   ]
  },
  {
   "cell_type": "code",
   "execution_count": null,
   "metadata": {},
   "outputs": [],
   "source": []
  },
  {
   "cell_type": "code",
   "execution_count": null,
   "metadata": {},
   "outputs": [],
   "source": [
    "shared_dim = hid_dims\n",
    "Id = torch.eye(out_dim).cuda()"
   ]
  },
  {
   "cell_type": "code",
   "execution_count": 14,
   "metadata": {},
   "outputs": [],
   "source": [
    "jacob = act.mm(w2.t())\n",
    "jcov = jacob.t().mm(jacob)"
   ]
  },
  {
   "cell_type": "code",
   "execution_count": 9,
   "metadata": {},
   "outputs": [
    {
     "ename": "NameError",
     "evalue": "name 'w2' is not defined",
     "output_type": "error",
     "traceback": [
      "\u001b[0;31m---------------------------------------------------------------------------\u001b[0m",
      "\u001b[0;31mNameError\u001b[0m                                 Traceback (most recent call last)",
      "\u001b[0;32m<ipython-input-9-9d33dffa6cfc>\u001b[0m in \u001b[0;36m<module>\u001b[0;34m()\u001b[0m\n\u001b[0;32m----> 1\u001b[0;31m \u001b[0mw2\u001b[0m\u001b[0;34m\u001b[0m\u001b[0m\n\u001b[0m",
      "\u001b[0;31mNameError\u001b[0m: name 'w2' is not defined"
     ]
    }
   ],
   "source": [
    "w2"
   ]
  },
  {
   "cell_type": "code",
   "execution_count": 18,
   "metadata": {},
   "outputs": [],
   "source": [
    "h = kronecker_product(jcov, xx)"
   ]
  },
  {
   "cell_type": "code",
   "execution_count": null,
   "metadata": {},
   "outputs": [],
   "source": []
  },
  {
   "cell_type": "code",
   "execution_count": 12,
   "metadata": {},
   "outputs": [
    {
     "data": {
      "text/plain": [
       "torch.Size([7, 7])"
      ]
     },
     "execution_count": 12,
     "metadata": {},
     "output_type": "execute_result"
    }
   ],
   "source": [
    "xx.shape"
   ]
  },
  {
   "cell_type": "code",
   "execution_count": 13,
   "metadata": {},
   "outputs": [
    {
     "data": {
      "text/plain": [
       "torch.Size([3, 10])"
      ]
     },
     "execution_count": 13,
     "metadata": {},
     "output_type": "execute_result"
    }
   ],
   "source": [
    "w2.shape"
   ]
  },
  {
   "cell_type": "code",
   "execution_count": 39,
   "metadata": {},
   "outputs": [
    {
     "data": {
      "text/plain": [
       "torch.Size([3, 10])"
      ]
     },
     "execution_count": 39,
     "metadata": {},
     "output_type": "execute_result"
    }
   ],
   "source": [
    "w2 = model.out.fc.weight\n",
    "w2.shape"
   ]
  },
  {
   "cell_type": "code",
   "execution_count": 42,
   "metadata": {},
   "outputs": [
    {
     "data": {
      "text/plain": [
       "torch.Size([1000, 10])"
      ]
     },
     "execution_count": 42,
     "metadata": {},
     "output_type": "execute_result"
    }
   ],
   "source": [
    "act.shape"
   ]
  },
  {
   "cell_type": "code",
   "execution_count": 20,
   "metadata": {},
   "outputs": [
    {
     "data": {
      "text/plain": [
       "torch.Size([21, 21])"
      ]
     },
     "execution_count": 20,
     "metadata": {},
     "output_type": "execute_result"
    }
   ],
   "source": [
    "h.shape"
   ]
  },
  {
   "cell_type": "code",
   "execution_count": 19,
   "metadata": {},
   "outputs": [
    {
     "ename": "RuntimeError",
     "evalue": "The size of tensor a (70) must match the size of tensor b (21) at non-singleton dimension 1",
     "output_type": "error",
     "traceback": [
      "\u001b[0;31m---------------------------------------------------------------------------\u001b[0m",
      "\u001b[0;31mRuntimeError\u001b[0m                              Traceback (most recent call last)",
      "\u001b[0;32m<ipython-input-19-3e2164618dd3>\u001b[0m in \u001b[0;36m<module>\u001b[0;34m()\u001b[0m\n\u001b[0;32m----> 1\u001b[0;31m \u001b[0mget_block\u001b[0m\u001b[0;34m(\u001b[0m\u001b[0mH\u001b[0m\u001b[0;34m,\u001b[0m \u001b[0mmodel\u001b[0m\u001b[0;34m,\u001b[0m \u001b[0;36m0\u001b[0m\u001b[0;34m,\u001b[0m \u001b[0;36m0\u001b[0m\u001b[0;34m)\u001b[0m \u001b[0;34m/\u001b[0m \u001b[0mh\u001b[0m\u001b[0;34m\u001b[0m\u001b[0m\n\u001b[0m",
      "\u001b[0;31mRuntimeError\u001b[0m: The size of tensor a (70) must match the size of tensor b (21) at non-singleton dimension 1"
     ]
    }
   ],
   "source": [
    "#get_block(H, model, 0, 0) / h"
   ]
  },
  {
   "cell_type": "code",
   "execution_count": 28,
   "metadata": {},
   "outputs": [
    {
     "data": {
      "text/plain": [
       "tensor([[1.0000, 1.0000, 1.0000, 1.0000, 1.0000, 1.0000, 1.0000, 1.0000, 1.0000,\n",
       "         1.0000,    nan,    nan,    nan,    nan,    nan,    nan,    nan,    nan,\n",
       "            nan,    nan,    nan,    nan,    nan,    nan,    nan,    nan,    nan,\n",
       "            nan,    nan,    nan],\n",
       "        [1.0000, 1.0000, 1.0000, 1.0000, 1.0000, 1.0000, 1.0000, 1.0000, 1.0000,\n",
       "         1.0000,    nan,    nan,    nan,    nan,    nan,    nan,    nan,    nan,\n",
       "            nan,    nan,    nan,    nan,    nan,    nan,    nan,    nan,    nan,\n",
       "            nan,    nan,    nan],\n",
       "        [1.0000, 1.0000, 1.0000, 1.0000, 1.0000, 1.0000, 1.0000, 1.0000, 1.0000,\n",
       "         1.0000,    nan,    nan,    nan,    nan,    nan,    nan,    nan,    nan,\n",
       "            nan,    nan,    nan,    nan,    nan,    nan,    nan,    nan,    nan,\n",
       "            nan,    nan,    nan],\n",
       "        [1.0000, 1.0000, 1.0000, 1.0000, 1.0000, 1.0000, 1.0000, 1.0000, 1.0000,\n",
       "         1.0000,    nan,    nan,    nan,    nan,    nan,    nan,    nan,    nan,\n",
       "            nan,    nan,    nan,    nan,    nan,    nan,    nan,    nan,    nan,\n",
       "            nan,    nan,    nan],\n",
       "        [1.0000, 1.0000, 1.0000, 1.0000, 1.0000, 1.0000, 1.0000, 1.0000, 1.0000,\n",
       "         1.0000,    nan,    nan,    nan,    nan,    nan,    nan,    nan,    nan,\n",
       "            nan,    nan,    nan,    nan,    nan,    nan,    nan,    nan,    nan,\n",
       "            nan,    nan,    nan],\n",
       "        [1.0000, 1.0000, 1.0000, 1.0000, 1.0000, 1.0000, 1.0000, 1.0000, 1.0000,\n",
       "         1.0000,    nan,    nan,    nan,    nan,    nan,    nan,    nan,    nan,\n",
       "            nan,    nan,    nan,    nan,    nan,    nan,    nan,    nan,    nan,\n",
       "            nan,    nan,    nan],\n",
       "        [1.0000, 1.0000, 1.0000, 1.0000, 1.0000, 1.0000, 1.0000, 1.0000, 1.0000,\n",
       "         1.0000,    nan,    nan,    nan,    nan,    nan,    nan,    nan,    nan,\n",
       "            nan,    nan,    nan,    nan,    nan,    nan,    nan,    nan,    nan,\n",
       "            nan,    nan,    nan],\n",
       "        [1.0000, 1.0000, 1.0000, 1.0000, 1.0000, 1.0000, 1.0000, 1.0000, 1.0000,\n",
       "         1.0000,    nan,    nan,    nan,    nan,    nan,    nan,    nan,    nan,\n",
       "            nan,    nan,    nan,    nan,    nan,    nan,    nan,    nan,    nan,\n",
       "            nan,    nan,    nan],\n",
       "        [1.0000, 1.0000, 1.0000, 1.0000, 1.0000, 1.0000, 1.0000, 1.0000, 1.0000,\n",
       "         1.0000,    nan,    nan,    nan,    nan,    nan,    nan,    nan,    nan,\n",
       "            nan,    nan,    nan,    nan,    nan,    nan,    nan,    nan,    nan,\n",
       "            nan,    nan,    nan],\n",
       "        [1.0000, 1.0000, 1.0000, 1.0000, 1.0000, 1.0000, 1.0000, 1.0000, 1.0000,\n",
       "         1.0000,    nan,    nan,    nan,    nan,    nan,    nan,    nan,    nan,\n",
       "            nan,    nan,    nan,    nan,    nan,    nan,    nan,    nan,    nan,\n",
       "            nan,    nan,    nan],\n",
       "        [   nan,    nan,    nan,    nan,    nan,    nan,    nan,    nan,    nan,\n",
       "            nan, 1.0000, 1.0000, 1.0000, 1.0000, 1.0000, 1.0000, 1.0000, 1.0000,\n",
       "         1.0000, 1.0000,    nan,    nan,    nan,    nan,    nan,    nan,    nan,\n",
       "            nan,    nan,    nan],\n",
       "        [   nan,    nan,    nan,    nan,    nan,    nan,    nan,    nan,    nan,\n",
       "            nan, 1.0000, 1.0000, 1.0000, 1.0000, 1.0000, 1.0000, 1.0000, 1.0000,\n",
       "         1.0000, 1.0000,    nan,    nan,    nan,    nan,    nan,    nan,    nan,\n",
       "            nan,    nan,    nan],\n",
       "        [   nan,    nan,    nan,    nan,    nan,    nan,    nan,    nan,    nan,\n",
       "            nan, 1.0000, 1.0000, 1.0000, 1.0000, 1.0000, 1.0000, 1.0000, 1.0000,\n",
       "         1.0000, 1.0000,    nan,    nan,    nan,    nan,    nan,    nan,    nan,\n",
       "            nan,    nan,    nan],\n",
       "        [   nan,    nan,    nan,    nan,    nan,    nan,    nan,    nan,    nan,\n",
       "            nan, 1.0000, 1.0000, 1.0000, 1.0000, 1.0000, 1.0000, 1.0000, 1.0000,\n",
       "         1.0000, 1.0000,    nan,    nan,    nan,    nan,    nan,    nan,    nan,\n",
       "            nan,    nan,    nan],\n",
       "        [   nan,    nan,    nan,    nan,    nan,    nan,    nan,    nan,    nan,\n",
       "            nan, 1.0000, 1.0000, 1.0000, 1.0000, 1.0000, 1.0000, 1.0000, 1.0000,\n",
       "         1.0000, 1.0000,    nan,    nan,    nan,    nan,    nan,    nan,    nan,\n",
       "            nan,    nan,    nan],\n",
       "        [   nan,    nan,    nan,    nan,    nan,    nan,    nan,    nan,    nan,\n",
       "            nan, 1.0000, 1.0000, 1.0000, 1.0000, 1.0000, 1.0000, 1.0000, 1.0000,\n",
       "         1.0000, 1.0000,    nan,    nan,    nan,    nan,    nan,    nan,    nan,\n",
       "            nan,    nan,    nan],\n",
       "        [   nan,    nan,    nan,    nan,    nan,    nan,    nan,    nan,    nan,\n",
       "            nan, 1.0000, 1.0000, 1.0000, 1.0000, 1.0000, 1.0000, 1.0000, 1.0000,\n",
       "         1.0000, 1.0000,    nan,    nan,    nan,    nan,    nan,    nan,    nan,\n",
       "            nan,    nan,    nan],\n",
       "        [   nan,    nan,    nan,    nan,    nan,    nan,    nan,    nan,    nan,\n",
       "            nan, 1.0000, 1.0000, 1.0000, 1.0000, 1.0000, 1.0000, 1.0000, 1.0000,\n",
       "         1.0000, 1.0000,    nan,    nan,    nan,    nan,    nan,    nan,    nan,\n",
       "            nan,    nan,    nan],\n",
       "        [   nan,    nan,    nan,    nan,    nan,    nan,    nan,    nan,    nan,\n",
       "            nan, 1.0000, 1.0000, 1.0000, 1.0000, 1.0000, 1.0000, 1.0000, 1.0000,\n",
       "         1.0000, 1.0000,    nan,    nan,    nan,    nan,    nan,    nan,    nan,\n",
       "            nan,    nan,    nan],\n",
       "        [   nan,    nan,    nan,    nan,    nan,    nan,    nan,    nan,    nan,\n",
       "            nan, 1.0000, 1.0000, 1.0000, 1.0000, 1.0000, 1.0000, 1.0000, 1.0000,\n",
       "         1.0000, 1.0000,    nan,    nan,    nan,    nan,    nan,    nan,    nan,\n",
       "            nan,    nan,    nan],\n",
       "        [   nan,    nan,    nan,    nan,    nan,    nan,    nan,    nan,    nan,\n",
       "            nan,    nan,    nan,    nan,    nan,    nan,    nan,    nan,    nan,\n",
       "            nan,    nan, 1.0000, 1.0000, 1.0000, 1.0000, 1.0000, 1.0000, 1.0000,\n",
       "         1.0000, 1.0000, 1.0000],\n",
       "        [   nan,    nan,    nan,    nan,    nan,    nan,    nan,    nan,    nan,\n",
       "            nan,    nan,    nan,    nan,    nan,    nan,    nan,    nan,    nan,\n",
       "            nan,    nan, 1.0000, 1.0000, 1.0000, 1.0000, 1.0000, 1.0000, 1.0000,\n",
       "         1.0000, 1.0000, 1.0000],\n",
       "        [   nan,    nan,    nan,    nan,    nan,    nan,    nan,    nan,    nan,\n",
       "            nan,    nan,    nan,    nan,    nan,    nan,    nan,    nan,    nan,\n",
       "            nan,    nan, 1.0000, 1.0000, 1.0000, 1.0000, 1.0000, 1.0000, 1.0000,\n",
       "         1.0000, 1.0000, 1.0000],\n",
       "        [   nan,    nan,    nan,    nan,    nan,    nan,    nan,    nan,    nan,\n",
       "            nan,    nan,    nan,    nan,    nan,    nan,    nan,    nan,    nan,\n",
       "            nan,    nan, 1.0000, 1.0000, 1.0000, 1.0000, 1.0000, 1.0000, 1.0000,\n",
       "         1.0000, 1.0000, 1.0000],\n",
       "        [   nan,    nan,    nan,    nan,    nan,    nan,    nan,    nan,    nan,\n",
       "            nan,    nan,    nan,    nan,    nan,    nan,    nan,    nan,    nan,\n",
       "            nan,    nan, 1.0000, 1.0000, 1.0000, 1.0000, 1.0000, 1.0000, 1.0000,\n",
       "         1.0000, 1.0000, 1.0000],\n",
       "        [   nan,    nan,    nan,    nan,    nan,    nan,    nan,    nan,    nan,\n",
       "            nan,    nan,    nan,    nan,    nan,    nan,    nan,    nan,    nan,\n",
       "            nan,    nan, 1.0000, 1.0000, 1.0000, 1.0000, 1.0000, 1.0000, 1.0000,\n",
       "         1.0000, 1.0000, 1.0000],\n",
       "        [   nan,    nan,    nan,    nan,    nan,    nan,    nan,    nan,    nan,\n",
       "            nan,    nan,    nan,    nan,    nan,    nan,    nan,    nan,    nan,\n",
       "            nan,    nan, 1.0000, 1.0000, 1.0000, 1.0000, 1.0000, 1.0000, 1.0000,\n",
       "         1.0000, 1.0000, 1.0000],\n",
       "        [   nan,    nan,    nan,    nan,    nan,    nan,    nan,    nan,    nan,\n",
       "            nan,    nan,    nan,    nan,    nan,    nan,    nan,    nan,    nan,\n",
       "            nan,    nan, 1.0000, 1.0000, 1.0000, 1.0000, 1.0000, 1.0000, 1.0000,\n",
       "         1.0000, 1.0000, 1.0000],\n",
       "        [   nan,    nan,    nan,    nan,    nan,    nan,    nan,    nan,    nan,\n",
       "            nan,    nan,    nan,    nan,    nan,    nan,    nan,    nan,    nan,\n",
       "            nan,    nan, 1.0000, 1.0000, 1.0000, 1.0000, 1.0000, 1.0000, 1.0000,\n",
       "         1.0000, 1.0000, 1.0000],\n",
       "        [   nan,    nan,    nan,    nan,    nan,    nan,    nan,    nan,    nan,\n",
       "            nan,    nan,    nan,    nan,    nan,    nan,    nan,    nan,    nan,\n",
       "            nan,    nan, 1.0000, 1.0000, 1.0000, 1.0000, 1.0000, 1.0000, 1.0000,\n",
       "         1.0000, 1.0000, 1.0000]], device='cuda:0')"
      ]
     },
     "execution_count": 28,
     "metadata": {},
     "output_type": "execute_result"
    }
   ],
   "source": [
    "get_block(H, model, 1, 1) / h2"
   ]
  },
  {
   "cell_type": "code",
   "execution_count": 19,
   "metadata": {},
   "outputs": [],
   "source": [
    "#get_block(H, model, 0, 1) / h12"
   ]
  },
  {
   "cell_type": "code",
   "execution_count": null,
   "metadata": {},
   "outputs": [],
   "source": []
  },
  {
   "cell_type": "code",
   "execution_count": null,
   "metadata": {},
   "outputs": [],
   "source": []
  },
  {
   "cell_type": "code",
   "execution_count": null,
   "metadata": {},
   "outputs": [],
   "source": []
  },
  {
   "cell_type": "code",
   "execution_count": null,
   "metadata": {},
   "outputs": [],
   "source": []
  },
  {
   "cell_type": "code",
   "execution_count": null,
   "metadata": {},
   "outputs": [],
   "source": []
  },
  {
   "cell_type": "code",
   "execution_count": null,
   "metadata": {},
   "outputs": [],
   "source": []
  }
 ],
 "metadata": {
  "kernelspec": {
   "display_name": "Python 3",
   "language": "python",
   "name": "python3"
  },
  "language_info": {
   "codemirror_mode": {
    "name": "ipython",
    "version": 3
   },
   "file_extension": ".py",
   "mimetype": "text/x-python",
   "name": "python",
   "nbconvert_exporter": "python",
   "pygments_lexer": "ipython3",
   "version": "3.6.5"
  }
 },
 "nbformat": 4,
 "nbformat_minor": 2
}
