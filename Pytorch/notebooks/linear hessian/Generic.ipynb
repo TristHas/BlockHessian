{
 "cells": [
  {
   "cell_type": "code",
   "execution_count": 1,
   "metadata": {},
   "outputs": [],
   "source": [
    "import sys\n",
    "import numpy as np\n",
    "import torch\n",
    "import matplotlib.pyplot as plt\n",
    "import torch.nn as nn\n",
    "\n",
    "plt.style.use(\"dark_background\")\n",
    "%matplotlib inline"
   ]
  },
  {
   "cell_type": "code",
   "execution_count": 2,
   "metadata": {},
   "outputs": [],
   "source": [
    "sys.path.append(\"../../src\")\n",
    "from models import MLP, FC\n",
    "from data import gen_rnd_ds\n",
    "from losses import LinearClassification, SquaredClassification\n",
    "from block_analysis import *\n",
    "from derivation import hessian"
   ]
  },
  {
   "cell_type": "markdown",
   "metadata": {},
   "source": [
    "## Params"
   ]
  },
  {
   "cell_type": "code",
   "execution_count": 3,
   "metadata": {},
   "outputs": [],
   "source": [
    "# Model\n",
    "mode = \"linear\"\n",
    "bias = False\n",
    "nlayer = 2\n",
    "inp_dim = 7\n",
    "out_dim = 3\n",
    "hid_dim = 10\n",
    "\n",
    "# Data parameters\n",
    "nsamp = 1\n",
    "inp_mean = 0\n",
    "inp_var = 1\n",
    "\n",
    "# Others\n",
    "device = 0\n",
    "lr = 1"
   ]
  },
  {
   "cell_type": "code",
   "execution_count": 4,
   "metadata": {},
   "outputs": [],
   "source": [
    "from derivation import infer_layer_idx\n",
    "\n",
    "def kronecker_product(t1, t2):\n",
    "    \"\"\"\n",
    "    \"\"\"\n",
    "    t1_height, t1_width = t1.size()\n",
    "    t2_height, t2_width = t2.size()\n",
    "    out_height = t1_height * t2_height\n",
    "    out_width = t1_width * t2_width\n",
    "\n",
    "    tiled_t2 = t2.repeat(t1_height, t1_width)\n",
    "    expanded_t1 = (\n",
    "        t1.unsqueeze(2)\n",
    "          .unsqueeze(3)\n",
    "          .repeat(1, t2_height, t2_width, 1)\n",
    "          .view(out_height, out_width)\n",
    "    )\n",
    "\n",
    "    return expanded_t1 * tiled_t2\n",
    "\n",
    "def H22(model, x):\n",
    "    \"\"\"\n",
    "    \"\"\"\n",
    "    out_dim = model.out.fc.weight.shape[0]\n",
    "    with torch.no_grad():\n",
    "        wx = model.l1.fc(x)\n",
    "        wxxw = wx.t().mm(wx)\n",
    "        Id = torch.eye(out_dim).cuda()\n",
    "        return kronecker_product(Id, wxxw)\n",
    "    \n",
    "def H11(model, x):\n",
    "    \"\"\"\n",
    "    \"\"\"\n",
    "    with torch.no_grad():\n",
    "        xx = x.t().mm(x)\n",
    "        w2 = model.out.fc.weight\n",
    "        ww2 = w2.t().mm(w2)\n",
    "        return kronecker_product(ww2, xx)\n",
    "        \n",
    "def H12(model, x, y, loss=\"linear\"):\n",
    "    \"\"\"\n",
    "    \"\"\"    \n",
    "    hlin = Hij_linear(model, x, y)\n",
    "    if loss == \"linear\":\n",
    "        return hlin\n",
    "    else:\n",
    "        return hlin + Hij_squared(model, x)\n",
    "\n",
    "def Hij_linear(model, x, y):\n",
    "    \"\"\"\n",
    "    \"\"\"\n",
    "    with torch.no_grad():\n",
    "        xy = get_xy(x, y, loss_fn)\n",
    "        ks = [kronecker_product(torch.eye(10).cuda(), xy[:,i:i+1]) for i in range(xy.shape[1])]\n",
    "        return torch.cat(ks, 1)\n",
    "        \n",
    "def Hij_squared(model, x):\n",
    "    \"\"\"\n",
    "    \"\"\"\n",
    "    B = model.out.fc.weight.t()\n",
    "    shared_dim = B.shape[0]\n",
    "    out_dim = B.shape[1]\n",
    "    with torch.no_grad():\n",
    "        # Asymetric path\n",
    "        Axxt = model.l1(x.t().mm(x))\n",
    "        asympath = kronecker_product(B, Axxt)\n",
    "        # Symetric path\n",
    "        out = x.t().mm(model(x))\n",
    "        sympath = torch.cat([kronecker_product(torch.eye(shared_dim, shared_dim).cuda(), out[:,i][:,None]) \\\n",
    "                             for i in range(out_dim)], 1)\n",
    "        \n",
    "        return asympath + sympath\n",
    "\n",
    "    \n",
    "def get_block(H, model, i, j):\n",
    "    \"\"\"\n",
    "    \"\"\"\n",
    "    idx = infer_layer_idx(model.parameters())\n",
    "    return H[idx[i]:idx[i+1], idx[j]:idx[j+1]]\n",
    "\n",
    "def get_xy(x, y, loss_fn):\n",
    "    \"\"\"\n",
    "    \"\"\"\n",
    "    Y = loss_fn.lookup[y.squeeze()]\n",
    "    return -x.t().mm(Y)"
   ]
  },
  {
   "cell_type": "code",
   "execution_count": 5,
   "metadata": {},
   "outputs": [],
   "source": [
    "def H22(model, x):\n",
    "    \"\"\"\n",
    "    \"\"\"\n",
    "    out_dim = model.out.fc.weight.shape[0]\n",
    "    with torch.no_grad():\n",
    "        wx = model.l1.fc(x)\n",
    "        wxxw = wx.t().mm(wx)\n",
    "        Id = torch.eye(out_dim).cuda()\n",
    "        return kronecker_product(Id, wxxw)\n",
    "    \n",
    "def H11(model, x):\n",
    "    \"\"\"\n",
    "    \"\"\"\n",
    "    with torch.no_grad():\n",
    "        xx = x.t().mm(x)\n",
    "        w2 = model.out.fc.weight\n",
    "        ww2 = w2.t().mm(w2)\n",
    "        return kronecker_product(ww2, xx)"
   ]
  },
  {
   "cell_type": "code",
   "execution_count": 7,
   "metadata": {},
   "outputs": [
    {
     "ename": "NameError",
     "evalue": "name 'model' is not defined",
     "output_type": "error",
     "traceback": [
      "\u001b[0;31m---------------------------------------------------------------------------\u001b[0m",
      "\u001b[0;31mNameError\u001b[0m                                 Traceback (most recent call last)",
      "\u001b[0;32m<ipython-input-7-59d3e8f9e9f7>\u001b[0m in \u001b[0;36m<module>\u001b[0;34m()\u001b[0m\n\u001b[0;32m----> 1\u001b[0;31m \u001b[0mm\u001b[0m \u001b[0;34m=\u001b[0m \u001b[0mget_map\u001b[0m\u001b[0;34m(\u001b[0m\u001b[0mmodel\u001b[0m\u001b[0;34m)\u001b[0m\u001b[0;34m\u001b[0m\u001b[0m\n\u001b[0m",
      "\u001b[0;31mNameError\u001b[0m: name 'model' is not defined"
     ]
    }
   ],
   "source": [
    "m = get_map(model)\n",
    "x.mm(m)/model(x)"
   ]
  },
  {
   "cell_type": "code",
   "execution_count": null,
   "metadata": {},
   "outputs": [],
   "source": []
  },
  {
   "cell_type": "code",
   "execution_count": 8,
   "metadata": {},
   "outputs": [],
   "source": [
    "def get_map(model, start=0, end=None):\n",
    "    layers   = filter(lambda x:isinstance(x, FC), model.modules())\n",
    "    matrices = list(map(lambda x:x.fc.weight.t(), layers))\n",
    "    mat = matrices[0]\n",
    "    for m in matrices[1:]:\n",
    "        mat = mat.mm(m)\n",
    "    return mat\n",
    "\n",
    "def get_sequence(model, start=0, end=None):\n",
    "    \"\"\"\n",
    "    \"\"\"\n",
    "    return nn.Sequential(*filter(lambda x:isinstance(x, FC), model.modules()))\n",
    "\n",
    "def in_cov(model, x, layer):\n",
    "    \"\"\"\n",
    "    \"\"\"\n",
    "    act = x.mm(get_map(model))\n",
    "    return act.t().mm(act)\n",
    "    \n",
    "def out_cov(model, layer):\n",
    "    \"\"\"\n",
    "    \"\"\"\n",
    "    out_map = get_map(model)\n",
    "    out_dim = get_sequence(model)[0].fc.weight.shape[0]\n",
    "\n",
    "def H_diag(model, x, layer):\n",
    "    \"\"\"\n",
    "    \"\"\"\n",
    "    inmap  = get_sequence(model, end=layer)\n",
    "    outmap = get_map(model, start=layer)\n",
    "    return kronecker_product(outc, inc)"
   ]
  },
  {
   "cell_type": "code",
   "execution_count": 8,
   "metadata": {},
   "outputs": [],
   "source": [
    "def get_model_ds_loss(loss=\"squared\", inp_mean=0):    \n",
    "    model =  MLP(inp_dim, hid_dim, out_dim, nlayer, bias, mode).cuda(device)\n",
    "    ds = gen_rnd_ds(inp_dim, inp_mean, inp_var, \n",
    "                   out_dim, nsamp, device)\n",
    "    loss_fn = {\"linear\" : LinearClassification,\n",
    "               \"squared\": SquaredClassification}[loss](out_dim, reduce=\"sum\")\n",
    "    return model, ds, loss_fn"
   ]
  },
  {
   "cell_type": "code",
   "execution_count": 9,
   "metadata": {},
   "outputs": [],
   "source": [
    "model, ds, loss_fn = get_model_ds_loss(\"squared\")\n",
    "loss_fn = SquaredClassification(out_dim, reduce=\"sum\")\n",
    "x,y = ds[0]"
   ]
  },
  {
   "cell_type": "code",
   "execution_count": 10,
   "metadata": {},
   "outputs": [],
   "source": [
    "i = 0\n",
    "in_layers  = get_sequence(model, end=i)\n",
    "out_layers = get_sequence(model, start=i)"
   ]
  },
  {
   "cell_type": "code",
   "execution_count": null,
   "metadata": {},
   "outputs": [],
   "source": []
  },
  {
   "cell_type": "code",
   "execution_count": null,
   "metadata": {},
   "outputs": [],
   "source": []
  },
  {
   "cell_type": "code",
   "execution_count": null,
   "metadata": {},
   "outputs": [],
   "source": []
  },
  {
   "cell_type": "code",
   "execution_count": null,
   "metadata": {},
   "outputs": [],
   "source": []
  },
  {
   "cell_type": "code",
   "execution_count": 27,
   "metadata": {},
   "outputs": [],
   "source": [
    "model, ds, loss_fn = get_model_ds_loss(\"squared\")\n",
    "loss_fn = SquaredClassification(out_dim, reduce=\"sum\")\n",
    "\n",
    "x,y = ds[0]\n",
    "loss_fn(model(x),y).backward()\n",
    "out = loss_fn(model(x),y)\n",
    "H = hessian(out, model.parameters())"
   ]
  },
  {
   "cell_type": "code",
   "execution_count": 28,
   "metadata": {},
   "outputs": [],
   "source": [
    "h1  = H11(model, x)\n",
    "h2  = H22(model, x)\n",
    "h12 = H12(model, x, y, \"squared\")"
   ]
  },
  {
   "cell_type": "markdown",
   "metadata": {},
   "source": [
    "### Done\n",
    "\n",
    "Formulas for diagonal and linear term of the off-diagonal"
   ]
  },
  {
   "cell_type": "code",
   "execution_count": 29,
   "metadata": {},
   "outputs": [
    {
     "data": {
      "text/plain": [
       "<matplotlib.image.AxesImage at 0x7f6868012860>"
      ]
     },
     "execution_count": 29,
     "metadata": {},
     "output_type": "execute_result"
    },
    {
     "data": {
      "image/png": "[encoded data removed]",
      "text/plain": [
       "<Figure size 1440x1440 with 4 Axes>"
      ]
     },
     "metadata": {},
     "output_type": "display_data"
    }
   ],
   "source": [
    "fig, ax = plt.subplots(2,2, figsize=(20, 20))\n",
    "ax[0,1].imshow(H.abs())\n",
    "ax[0,0].imshow(h1.abs())\n",
    "ax[1,0].imshow(h12.abs())\n",
    "ax[1,1].imshow(h2.abs())"
   ]
  },
  {
   "cell_type": "code",
   "execution_count": null,
   "metadata": {},
   "outputs": [],
   "source": []
  },
  {
   "cell_type": "code",
   "execution_count": null,
   "metadata": {},
   "outputs": [],
   "source": []
  },
  {
   "cell_type": "code",
   "execution_count": null,
   "metadata": {},
   "outputs": [],
   "source": []
  },
  {
   "cell_type": "code",
   "execution_count": null,
   "metadata": {},
   "outputs": [],
   "source": []
  },
  {
   "cell_type": "code",
   "execution_count": null,
   "metadata": {},
   "outputs": [],
   "source": []
  },
  {
   "cell_type": "code",
   "execution_count": null,
   "metadata": {},
   "outputs": [],
   "source": []
  },
  {
   "cell_type": "code",
   "execution_count": null,
   "metadata": {},
   "outputs": [],
   "source": []
  },
  {
   "cell_type": "code",
   "execution_count": null,
   "metadata": {},
   "outputs": [],
   "source": []
  },
  {
   "cell_type": "code",
   "execution_count": 200,
   "metadata": {},
   "outputs": [],
   "source": [
    "def _1by1():\n",
    "    w1 = model.l1.fc.weight\n",
    "    w2 = model.out.fc.weight\n",
    "    w2w1 = w2.squeeze().view(-1,1).mm(w1.squeeze().view(1,-1))\n",
    "    #plt.imshow(w2w1.detach().abs())\n",
    "    \n",
    "    diag = torch.zeros(w1.numel(),w1.numel()).cuda()\n",
    "    idx = torch.arange(w1.numel())\n",
    "    diag[idx,idx] = (w1.squeeze()*w2.squeeze())\n",
    "    h_12 = (4*diag + 2*w2w1) * (x**2).sum() / 2\n",
    "    \n",
    "    plt.imshow(h_12.detach().abs())\n",
    "    \n",
    "    h12 - (w2w1 * (x**2).sum() )"
   ]
  },
  {
   "cell_type": "code",
   "execution_count": null,
   "metadata": {},
   "outputs": [],
   "source": []
  },
  {
   "cell_type": "code",
   "execution_count": null,
   "metadata": {},
   "outputs": [],
   "source": []
  },
  {
   "cell_type": "code",
   "execution_count": null,
   "metadata": {},
   "outputs": [],
   "source": []
  },
  {
   "cell_type": "code",
   "execution_count": null,
   "metadata": {},
   "outputs": [],
   "source": []
  },
  {
   "cell_type": "code",
   "execution_count": 201,
   "metadata": {},
   "outputs": [],
   "source": []
  },
  {
   "cell_type": "code",
   "execution_count": null,
   "metadata": {},
   "outputs": [],
   "source": []
  },
  {
   "cell_type": "code",
   "execution_count": null,
   "metadata": {},
   "outputs": [],
   "source": []
  },
  {
   "cell_type": "code",
   "execution_count": null,
   "metadata": {},
   "outputs": [],
   "source": []
  },
  {
   "cell_type": "code",
   "execution_count": null,
   "metadata": {},
   "outputs": [],
   "source": []
  },
  {
   "cell_type": "code",
   "execution_count": 72,
   "metadata": {},
   "outputs": [],
   "source": [
    "AB = x.mm(model.l1.fc.weight.t())\n",
    "print(AB.shape)\n",
    "ABC = AB.mm(model.out.fc.weight.t())\n",
    "print(ABC.shape)\n",
    "ABCCt = ABC.mm(model.out.fc.weight)\n",
    "print(ABCCt.shape)\n",
    "\n",
    "A = x\n",
    "B = model.l1.fc.weight\n",
    "C = model.out.fc.weight\n",
    "\n",
    "with torch.no_grad():\n",
    "    aa = x.t().mm(x)\n",
    "    aaBt=aa.mm(B.t())\n",
    "    aaBtC = aaBt.view(-1, 1).mm(C.view(1,-1))\n",
    "#B.shape, C.shape"
   ]
  },
  {
   "cell_type": "code",
   "execution_count": null,
   "metadata": {},
   "outputs": [],
   "source": []
  }
 ],
 "metadata": {
  "kernelspec": {
   "display_name": "Python 3",
   "language": "python",
   "name": "python3"
  },
  "language_info": {
   "codemirror_mode": {
    "name": "ipython",
    "version": 3
   },
   "file_extension": ".py",
   "mimetype": "text/x-python",
   "name": "python",
   "nbconvert_exporter": "python",
   "pygments_lexer": "ipython3",
   "version": "3.6.5"
  }
 },
 "nbformat": 4,
 "nbformat_minor": 2
}
