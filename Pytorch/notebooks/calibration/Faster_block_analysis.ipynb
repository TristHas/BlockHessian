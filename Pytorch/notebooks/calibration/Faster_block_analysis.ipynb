{
 "cells": [
  {
   "cell_type": "code",
   "execution_count": 1,
   "metadata": {},
   "outputs": [],
   "source": [
    "import sys\n",
    "import numpy as np\n",
    "import torch\n",
    "import matplotlib.pyplot as plt\n",
    "\n",
    "%matplotlib inline"
   ]
  },
  {
   "cell_type": "code",
   "execution_count": 2,
   "metadata": {},
   "outputs": [],
   "source": [
    "sys.path.append(\"../../src\")\n",
    "from lr_tools import lr_calibrate\n",
    "from models import MLP\n",
    "from data import gen_rnd_ds\n",
    "from losses import LinearClassification, SquaredClassification\n",
    "from block_analysis import block_hessian, curvature_effects"
   ]
  },
  {
   "cell_type": "markdown",
   "metadata": {},
   "source": [
    "## Helpers"
   ]
  },
  {
   "cell_type": "code",
   "execution_count": 3,
   "metadata": {},
   "outputs": [],
   "source": [
    "def get_model_ds_loss(nlayer=5, mode=\"linear\", loss=\"linear\"):    \n",
    "    model =  MLP(inp_dim, hid_dim, out_dim, nlayer, bias, mode).cuda(device)\n",
    "    ds = gen_rnd_ds(inp_dim, inp_mean, inp_var, \n",
    "                   out_dim, nsamp, device)\n",
    "    loss_fn = {\n",
    "        \"linear\":LinearClassification(out_dim),\n",
    "        \"squared\":SquaredClassification(out_dim),\n",
    "        \"ce\":torch.nn.CrossEntropyLoss()\n",
    "    }[loss]\n",
    "    return model, ds, loss_fn\n",
    "\n",
    "import time\n",
    "\n",
    "def tick():\n",
    "    torch.cuda.synchronize()\n",
    "    return time.time()\n",
    "\n",
    "def timer(func, *args):\n",
    "    start = tick()\n",
    "    func(*args)\n",
    "    return start - tick()"
   ]
  },
  {
   "cell_type": "markdown",
   "metadata": {},
   "source": [
    "## Params"
   ]
  },
  {
   "cell_type": "code",
   "execution_count": 4,
   "metadata": {},
   "outputs": [],
   "source": [
    "# Model\n",
    "mode = \"linear\"\n",
    "bias = False\n",
    "nlayer = 5\n",
    "inp_dim = 10 \n",
    "out_dim = 10\n",
    "hid_dim = 100\n",
    "\n",
    "# Data parameters\n",
    "nsamp = 100\n",
    "inp_mean = 0\n",
    "inp_var = 1\n",
    "\n",
    "# Others\n",
    "device = 0\n",
    "lr = 7"
   ]
  },
  {
   "cell_type": "code",
   "execution_count": 5,
   "metadata": {},
   "outputs": [],
   "source": [
    "from block_analysis import block_hessian, legacy_block_hessian"
   ]
  },
  {
   "cell_type": "code",
   "execution_count": 6,
   "metadata": {},
   "outputs": [
    {
     "name": "stdout",
     "output_type": "stream",
     "text": [
      "0.0 0.0\n",
      "0.0 0.0\n",
      "0.0 0.0\n",
      "0.0 0.0\n",
      "0.0 0.0\n",
      "0.0 0.0\n",
      "0.0 0.0\n",
      "0.0 0.0\n",
      "0.0 0.0\n",
      "0.0 0.0\n",
      "0.0 0.0\n",
      "0.0 0.0\n",
      "0.0 0.0\n",
      "0.0 0.0\n",
      "0.0 0.0\n",
      "0.0 0.0\n",
      "0.0 0.0\n",
      "0.0 0.0\n"
     ]
    }
   ],
   "source": [
    "for nlayer in [5, 7, 9]:\n",
    "    for mode in [\"linear\", \"relu\"]:\n",
    "        for loss in [\"linear\", \"squared\", \"ce\"]:\n",
    "            model, ds, loss_fn = get_model_ds_loss(nlayer, mode, loss)\n",
    "            H, gnorms = block_hessian(model, ds, loss_fn, lr)\n",
    "            H_l, gnorms_l = legacy_block_hessian(model, ds, loss_fn, lr)\n",
    "            print((H-H_l).abs().sum().item(), (gnorms-gnorms_l).abs().sum().item())"
   ]
  },
  {
   "cell_type": "code",
   "execution_count": 8,
   "metadata": {},
   "outputs": [
    {
     "name": "stdout",
     "output_type": "stream",
     "text": [
      "2.0767333160218127\n",
      "2.0792261752485466\n",
      "2.2810839159994103\n",
      "2.3957500144902335\n",
      "2.437676376062966\n"
     ]
    }
   ],
   "source": [
    "for nlayer in [5, 7, 9, 11, 13]:\n",
    "    for mode in [\"linear\", \"relu\"]:\n",
    "        for loss in [\"linear\", \"squared\", \"ce\"]:\n",
    "            model, ds, loss_fn = get_model_ds_loss(nlayer, mode, loss)\n",
    "            t1 = timer(legacy_block_hessian, model, ds, loss_fn, lr)\n",
    "            t2 = timer(block_hessian, model, ds, loss_fn, lr)\n",
    "            print(t1/t2)"
   ]
  },
  {
   "cell_type": "code",
   "execution_count": null,
   "metadata": {},
   "outputs": [],
   "source": []
  },
  {
   "cell_type": "markdown",
   "metadata": {},
   "source": [
    "### Line profile"
   ]
  },
  {
   "cell_type": "code",
   "execution_count": 9,
   "metadata": {},
   "outputs": [],
   "source": [
    "%load_ext line_profiler"
   ]
  },
  {
   "cell_type": "code",
   "execution_count": 13,
   "metadata": {},
   "outputs": [
    {
     "data": {
      "text/plain": [
       "Timer unit: 1e-06 s\n",
       "\n",
       "Total time: 0.349877 s\n",
       "File: ../../src/block_analysis.py\n",
       "Function: block_hessian at line 98\n",
       "\n",
       "Line #      Hits         Time  Per Hit   % Time  Line Contents\n",
       "==============================================================\n",
       "    98                                           def block_hessian(model, ds, loss_fn, lr):\n",
       "    99                                               \"\"\"\n",
       "   100                                                   Missing merge_DH(D, H)\n",
       "   101                                               \"\"\"\n",
       "   102         1      13457.0  13457.0      3.8      model = clone_model(model)\n",
       "   103         1       5809.0   5809.0      1.7      grads, loss_t = get_grad_loss(model, ds, loss_fn, lr)\n",
       "   104         1       1523.0   1523.0      0.4      gnorms = get_gnorms(grads, model)\n",
       "   105         1      46483.0  46483.0     13.3      d = _block_hessian_diag(model, ds, loss_fn, grads, loss_t, lr)\n",
       "   106         1     282314.0 282314.0     80.7      H = _block_hessian_off_diag(model, ds, loss_fn, grads, loss_t, lr)\n",
       "   107         1        289.0    289.0      0.1      H = _merge_blocks(H, d)\n",
       "   108         1          2.0      2.0      0.0      return H, gnorms"
      ]
     },
     "metadata": {},
     "output_type": "display_data"
    }
   ],
   "source": [
    "model, ds, loss_fn = get_model_ds_loss(nlayer, mode)\n",
    "%lprun -f block_hessian block_hessian(model, ds, loss_fn, lr)"
   ]
  },
  {
   "cell_type": "code",
   "execution_count": 14,
   "metadata": {},
   "outputs": [
    {
     "data": {
      "text/plain": [
       "Timer unit: 1e-06 s\n",
       "\n",
       "Total time: 1.37359 s\n",
       "File: ../../src/block_analysis.py\n",
       "Function: legacy_block_hessian at line 177\n",
       "\n",
       "Line #      Hits         Time  Per Hit   % Time  Line Contents\n",
       "==============================================================\n",
       "   177                                           def legacy_block_hessian(model, ds, loss_fn, lr):\n",
       "   178                                               \"\"\"\n",
       "   179                                                   Missing merge_DH(D, H)\n",
       "   180                                               \"\"\"\n",
       "   181         1       7349.0   7349.0      0.5      grads, loss_t = get_grad_loss(model, ds, loss_fn, lr)\n",
       "   182         1       1915.0   1915.0      0.1      gnorms = get_gnorms(grads, model)\n",
       "   183         1     198156.0 198156.0     14.4      d = legacy_block_hessian_diag(model, ds, loss_fn, grads, loss_t, lr)\n",
       "   184         1    1165883.0 1165883.0     84.9      H = legacy_block_hessian_off_diag(model, ds, loss_fn, grads, loss_t, lr)\n",
       "   185         1        282.0    282.0      0.0      H = _merge_blocks(H, d)\n",
       "   186                                               #gnorms = get_gnorms(grads, model)\n",
       "   187         1          2.0      2.0      0.0      return H, gnorms"
      ]
     },
     "metadata": {},
     "output_type": "display_data"
    }
   ],
   "source": [
    "model, ds, loss_fn = get_model_ds_loss(nlayer, mode)\n",
    "%lprun -f legacy_block_hessian legacy_block_hessian(model, ds, loss_fn, lr)"
   ]
  },
  {
   "cell_type": "code",
   "execution_count": null,
   "metadata": {},
   "outputs": [],
   "source": []
  },
  {
   "cell_type": "code",
   "execution_count": null,
   "metadata": {},
   "outputs": [],
   "source": []
  }
 ],
 "metadata": {
  "kernelspec": {
   "display_name": "Python 3",
   "language": "python",
   "name": "python3"
  },
  "language_info": {
   "codemirror_mode": {
    "name": "ipython",
    "version": 3
   },
   "file_extension": ".py",
   "mimetype": "text/x-python",
   "name": "python",
   "nbconvert_exporter": "python",
   "pygments_lexer": "ipython3",
   "version": "3.6.8"
  }
 },
 "nbformat": 4,
 "nbformat_minor": 4
}
