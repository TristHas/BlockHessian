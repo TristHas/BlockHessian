{
 "cells": [
  {
   "cell_type": "code",
   "execution_count": 53,
   "metadata": {},
   "outputs": [],
   "source": [
    "import sys\n",
    "import numpy as np\n",
    "import torch\n",
    "import matplotlib.pyplot as plt\n",
    "%matplotlib inline"
   ]
  },
  {
   "cell_type": "code",
   "execution_count": 54,
   "metadata": {},
   "outputs": [],
   "source": [
    "sys.path.append(\"../../src\")\n",
    "from lr_tools import lr_calibrate\n",
    "from models import MLP\n",
    "from data import gen_rnd_ds\n",
    "from losses import LinearClassification, SquaredClassification\n",
    "from block_analysis import block_hessian, curvature_effects"
   ]
  },
  {
   "cell_type": "markdown",
   "metadata": {},
   "source": [
    "## Helpers"
   ]
  },
  {
   "cell_type": "code",
   "execution_count": 55,
   "metadata": {},
   "outputs": [],
   "source": [
    "def get_model_ds_loss():    \n",
    "    model =  MLP(inp_dim, hid_dim, out_dim, nlayer, bias, mode).cuda(device)\n",
    "    ds = gen_rnd_ds(inp_dim, inp_mean, inp_var, \n",
    "                   out_dim, nsamp, device)\n",
    "    loss_fn = LinearClassification(out_dim)\n",
    "    return model, ds, loss_fn"
   ]
  },
  {
   "cell_type": "markdown",
   "metadata": {},
   "source": [
    "## Params"
   ]
  },
  {
   "cell_type": "code",
   "execution_count": 56,
   "metadata": {},
   "outputs": [],
   "source": [
    "# Model\n",
    "mode = \"linear\"\n",
    "bias = False\n",
    "nlayer = 5\n",
    "inp_dim = 10 \n",
    "out_dim = 10\n",
    "hid_dim = 100\n",
    "\n",
    "# Data parameters\n",
    "nsamp = 100\n",
    "inp_mean = 0\n",
    "inp_var = 1\n",
    "\n",
    "# Others\n",
    "device = 0\n",
    "lr = 7"
   ]
  },
  {
   "cell_type": "code",
   "execution_count": 57,
   "metadata": {},
   "outputs": [
    {
     "name": "stdout",
     "output_type": "stream",
     "text": [
      "LR -8.00E+00 \t || Delta=-3.92E-01\t ||Error=1.14E-01  \t|| hoe=-3.59E-04 \t|| H=-3.22E-04\t||ratio=1.11E+00\n",
      "LR -7.00E+00 \t || Delta=-3.44E-01\t ||Error=9.94E-02  \t|| hoe=-3.54E-04 \t|| H=-3.22E-04\t||ratio=1.10E+00\n",
      "LR -6.00E+00 \t || Delta=-2.96E-01\t ||Error=8.49E-02  \t|| hoe=-3.49E-04 \t|| H=-3.22E-04\t||ratio=1.08E+00\n",
      "LR -5.00E+00 \t || Delta=-2.48E-01\t ||Error=7.05E-02  \t|| hoe=-3.45E-04 \t|| H=-3.22E-04\t||ratio=1.07E+00\n",
      "LR -4.00E+00 \t || Delta=-1.99E-01\t ||Error=5.62E-02  \t|| hoe=-3.40E-04 \t|| H=-3.22E-04\t||ratio=1.06E+00\n",
      "LR -3.00E+00 \t || Delta=-1.50E-01\t ||Error=4.20E-02  \t|| hoe=-3.35E-04 \t|| H=-3.22E-04\t||ratio=1.04E+00\n",
      "LR -2.00E+00 \t || Delta=-1.00E-01\t ||Error=2.78E-02  \t|| hoe=-3.31E-04 \t|| H=-3.22E-04\t||ratio=1.03E+00\n",
      "LR -1.00E+00 \t || Delta=-5.03E-02\t ||Error=1.39E-02  \t|| hoe=-3.26E-04 \t|| H=-3.22E-04\t||ratio=1.01E+00\n",
      "LR 0.00E+00 \t || Delta=0.00E+00\t ||Error=NAN  \t|| hoe=NAN \t|| H=NAN\t||ratio=NAN\n",
      "LR 1.00E+00 \t || Delta=5.06E-02\t ||Error=1.40E-02  \t|| hoe=-3.17E-04 \t|| H=-3.22E-04\t||ratio=9.86E-01\n",
      "LR 2.00E+00 \t || Delta=1.01E-01\t ||Error=2.82E-02  \t|| hoe=-3.13E-04 \t|| H=-3.22E-04\t||ratio=9.73E-01\n",
      "LR 3.00E+00 \t || Delta=1.53E-01\t ||Error=4.27E-02  \t|| hoe=-3.09E-04 \t|| H=-3.22E-04\t||ratio=9.59E-01\n",
      "LR 4.00E+00 \t || Delta=2.04E-01\t ||Error=5.75E-02  \t|| hoe=-3.04E-04 \t|| H=-3.22E-04\t||ratio=9.46E-01\n",
      "LR 5.00E+00 \t || Delta=2.56E-01\t ||Error=7.27E-02  \t|| hoe=-3.00E-04 \t|| H=-3.22E-04\t||ratio=9.32E-01\n",
      "LR 6.00E+00 \t || Delta=3.08E-01\t ||Error=8.81E-02  \t|| hoe=-2.96E-04 \t|| H=-3.22E-04\t||ratio=9.19E-01\n",
      "LR 7.00E+00 \t || Delta=3.60E-01\t ||Error=1.04E-01  \t|| hoe=-2.92E-04 \t|| H=-3.22E-04\t||ratio=9.06E-01\n",
      "[0.11401462 0.0993798  0.08487271 0.07045199 0.05615867 0.04195846\n",
      " 0.02784219 0.01385946        nan 0.01395237 0.0282179  0.04272984\n",
      " 0.05751913 0.0726862  0.08812873 0.10386594]\n",
      "[False  True  True  True  True  True  True  True False False  True  True\n",
      "  True  True  True  True]\n",
      "-2 -1 0\n",
      "LR -2.00E+00 \t || Delta=-1.00E-01\t ||Error=2.78E-02  \t|| hoe=-3.31E-04 \t|| H=-3.22E-04\t||ratio=1.03E+00\n",
      "LR -1.80E+00 \t || Delta=-9.02E-02\t ||Error=2.50E-02  \t|| hoe=-3.30E-04 \t|| H=-3.22E-04\t||ratio=1.03E+00\n",
      "LR -1.60E+00 \t || Delta=-8.02E-02\t ||Error=2.22E-02  \t|| hoe=-3.29E-04 \t|| H=-3.22E-04\t||ratio=1.02E+00\n"
     ]
    },
    {
     "name": "stderr",
     "output_type": "stream",
     "text": [
      "../../src/lr_tools.py:36: RuntimeWarning: invalid value encountered in less\n",
      "  diff = abs(diff)<1e-4\n"
     ]
    },
    {
     "name": "stdout",
     "output_type": "stream",
     "text": [
      "LR -1.40E+00 \t || Delta=-7.03E-02\t ||Error=1.94E-02  \t|| hoe=-3.28E-04 \t|| H=-3.22E-04\t||ratio=1.02E+00\n",
      "LR -1.20E+00 \t || Delta=-6.03E-02\t ||Error=1.66E-02  \t|| hoe=-3.27E-04 \t|| H=-3.22E-04\t||ratio=1.02E+00\n",
      "LR -1.00E+00 \t || Delta=-5.03E-02\t ||Error=1.39E-02  \t|| hoe=-3.26E-04 \t|| H=-3.22E-04\t||ratio=1.01E+00\n",
      "LR -8.00E-01 \t || Delta=-4.02E-02\t ||Error=1.10E-02  \t|| hoe=-3.25E-04 \t|| H=-3.22E-04\t||ratio=1.01E+00\n",
      "LR -6.00E-01 \t || Delta=-3.02E-02\t ||Error=8.10E-03  \t|| hoe=-3.25E-04 \t|| H=-3.22E-04\t||ratio=1.01E+00\n",
      "LR -4.00E-01 \t || Delta=-2.01E-02\t ||Error=5.90E-03  \t|| hoe=-3.24E-04 \t|| H=-3.22E-04\t||ratio=1.01E+00\n",
      "LR -2.00E-01 \t || Delta=-1.01E-02\t ||Error=4.42E-04  \t|| hoe=-3.23E-04 \t|| H=-3.23E-04\t||ratio=1.00E+00\n",
      "LR -4.44E-16 \t || Delta=0.00E+00\t ||Error=7.39E-08  \t|| hoe=-2.27E+14 \t|| H=-2.27E+14\t||ratio=1.00E+00\n",
      "[2.78421913e-02 2.50436983e-02 2.22398015e-02 1.93965104e-02\n",
      " 1.65969003e-02 1.38594609e-02 1.09881167e-02 8.09980767e-03\n",
      " 5.90286730e-03 4.42178405e-04 7.38884444e-08]\n",
      "[False  True  True  True  True  True  True  True  True  True False]\n",
      "-0.40000000000000036 -0.2000000000000004 -4.440892098500626e-16\n",
      "LR -4.00E-01 \t || Delta=-2.01E-02\t ||Error=5.90E-03  \t|| hoe=-3.24E-04 \t|| H=-3.22E-04\t||ratio=1.01E+00\n",
      "LR -3.60E-01 \t || Delta=-1.81E-02\t ||Error=3.83E-03  \t|| hoe=-3.23E-04 \t|| H=-3.22E-04\t||ratio=1.00E+00\n",
      "LR -3.20E-01 \t || Delta=-1.61E-02\t ||Error=3.72E-03  \t|| hoe=-3.23E-04 \t|| H=-3.22E-04\t||ratio=1.00E+00\n",
      "LR -2.80E-01 \t || Delta=-1.41E-02\t ||Error=3.68E-03  \t|| hoe=-3.23E-04 \t|| H=-3.22E-04\t||ratio=1.00E+00\n",
      "LR -2.40E-01 \t || Delta=-1.21E-02\t ||Error=3.09E-03  \t|| hoe=-3.23E-04 \t|| H=-3.22E-04\t||ratio=1.00E+00\n",
      "LR -2.00E-01 \t || Delta=-1.01E-02\t ||Error=4.42E-04  \t|| hoe=-3.23E-04 \t|| H=-3.23E-04\t||ratio=1.00E+00\n",
      "LR -1.60E-01 \t || Delta=-8.06E-03\t ||Error=2.04E-04  \t|| hoe=-3.23E-04 \t|| H=-3.23E-04\t||ratio=1.00E+00\n",
      "LR -1.20E-01 \t || Delta=-6.05E-03\t ||Error=8.05E-03  \t|| hoe=-3.22E-04 \t|| H=-3.19E-04\t||ratio=1.01E+00\n",
      "LR -8.00E-02 \t || Delta=-4.03E-03\t ||Error=2.22E-03  \t|| hoe=-3.22E-04 \t|| H=-3.22E-04\t||ratio=1.00E+00\n",
      "LR -4.00E-02 \t || Delta=-2.02E-03\t ||Error=4.02E-02  \t|| hoe=-3.27E-04 \t|| H=-3.40E-04\t||ratio=9.61E-01\n",
      "LR -5.55E-16 \t || Delta=0.00E+00\t ||Error=9.24E-08  \t|| hoe=-1.82E+14 \t|| H=-1.82E+14\t||ratio=1.00E+00\n",
      "[5.90286730e-03 3.83406394e-03 3.71735789e-03 3.67512134e-03\n",
      " 3.08845198e-03 4.42178405e-04 2.04369982e-04 8.04775025e-03\n",
      " 2.21899245e-03 4.01905526e-02 9.23605538e-08]\n",
      "[False  True  True  True  True  True  True  True  True  True False]\n",
      "-0.20000000000000046 -0.16000000000000048 -0.1200000000000005\n",
      "LR -2.00E-01 \t || Delta=-1.01E-02\t ||Error=4.42E-04  \t|| hoe=-3.23E-04 \t|| H=-3.23E-04\t||ratio=1.00E+00\n",
      "LR -1.92E-01 \t || Delta=-9.67E-03\t ||Error=1.20E-03  \t|| hoe=-3.23E-04 \t|| H=-3.22E-04\t||ratio=1.00E+00\n",
      "LR -1.84E-01 \t || Delta=-9.27E-03\t ||Error=5.33E-04  \t|| hoe=-3.23E-04 \t|| H=-3.23E-04\t||ratio=1.00E+00\n",
      "LR -1.76E-01 \t || Delta=-8.87E-03\t ||Error=1.18E-03  \t|| hoe=-3.23E-04 \t|| H=-3.22E-04\t||ratio=1.00E+00\n",
      "LR -1.68E-01 \t || Delta=-8.47E-03\t ||Error=3.85E-05  \t|| hoe=-3.22E-04 \t|| H=-3.22E-04\t||ratio=1.00E+00\n",
      "LR -1.60E-01 \t || Delta=-8.06E-03\t ||Error=2.04E-04  \t|| hoe=-3.23E-04 \t|| H=-3.23E-04\t||ratio=1.00E+00\n",
      "LR -1.52E-01 \t || Delta=-7.66E-03\t ||Error=1.97E-03  \t|| hoe=-3.23E-04 \t|| H=-3.22E-04\t||ratio=1.00E+00\n",
      "LR -1.44E-01 \t || Delta=-7.26E-03\t ||Error=9.14E-03  \t|| hoe=-3.23E-04 \t|| H=-3.26E-04\t||ratio=9.91E-01\n",
      "LR -1.36E-01 \t || Delta=-6.85E-03\t ||Error=5.29E-03  \t|| hoe=-3.23E-04 \t|| H=-3.21E-04\t||ratio=1.01E+00\n",
      "LR -1.28E-01 \t || Delta=-6.45E-03\t ||Error=5.96E-03  \t|| hoe=-3.23E-04 \t|| H=-3.25E-04\t||ratio=9.94E-01\n",
      "LR -1.20E-01 \t || Delta=-6.05E-03\t ||Error=8.05E-03  \t|| hoe=-3.22E-04 \t|| H=-3.19E-04\t||ratio=1.01E+00\n",
      "[4.42178405e-04 1.20005579e-03 5.32981321e-04 1.18339765e-03\n",
      " 3.84592051e-05 2.04369982e-04 1.97062260e-03 9.14183404e-03\n",
      " 5.29147801e-03 5.96145832e-03 8.04775025e-03]\n",
      "[False  True  True  True  True  True  True  True  True  True  True]\n",
      "-0.17600000000000043 -0.16800000000000043 -0.16000000000000042\n",
      "LR -1.76E-01 \t || Delta=-8.87E-03\t ||Error=1.18E-03  \t|| hoe=-3.23E-04 \t|| H=-3.22E-04\t||ratio=1.00E+00\n",
      "LR -1.74E-01 \t || Delta=-8.79E-03\t ||Error=2.88E-03  \t|| hoe=-3.23E-04 \t|| H=-3.22E-04\t||ratio=1.00E+00\n",
      "LR -1.73E-01 \t || Delta=-8.71E-03\t ||Error=8.23E-04  \t|| hoe=-3.23E-04 \t|| H=-3.22E-04\t||ratio=1.00E+00\n",
      "LR -1.71E-01 \t || Delta=-8.63E-03\t ||Error=7.45E-04  \t|| hoe=-3.23E-04 \t|| H=-3.22E-04\t||ratio=1.00E+00\n",
      "LR -1.70E-01 \t || Delta=-8.55E-03\t ||Error=1.02E-03  \t|| hoe=-3.23E-04 \t|| H=-3.23E-04\t||ratio=1.00E+00\n",
      "LR -1.68E-01 \t || Delta=-8.47E-03\t ||Error=3.85E-05  \t|| hoe=-3.22E-04 \t|| H=-3.22E-04\t||ratio=1.00E+00\n",
      "LR -1.66E-01 \t || Delta=-8.39E-03\t ||Error=4.47E-03  \t|| hoe=-3.23E-04 \t|| H=-3.21E-04\t||ratio=1.00E+00\n",
      "LR -1.65E-01 \t || Delta=-8.30E-03\t ||Error=5.38E-04  \t|| hoe=-3.22E-04 \t|| H=-3.23E-04\t||ratio=9.99E-01\n",
      "LR -1.63E-01 \t || Delta=-8.22E-03\t ||Error=4.07E-03  \t|| hoe=-3.23E-04 \t|| H=-3.24E-04\t||ratio=9.96E-01\n",
      "LR -1.62E-01 \t || Delta=-8.14E-03\t ||Error=2.06E-03  \t|| hoe=-3.23E-04 \t|| H=-3.22E-04\t||ratio=1.00E+00\n",
      "LR -1.60E-01 \t || Delta=-8.06E-03\t ||Error=2.04E-04  \t|| hoe=-3.23E-04 \t|| H=-3.23E-04\t||ratio=1.00E+00\n",
      "[1.18339765e-03 2.87827743e-03 8.22796689e-04 7.45213445e-04\n",
      " 1.01637341e-03 3.84592051e-05 4.46743330e-03 5.38461497e-04\n",
      " 4.06541039e-03 2.05523648e-03 2.04369982e-04]\n",
      "[False  True  True  True  True  True  True  True  True  True  True]\n",
      "-0.16960000000000047 -0.16800000000000048 -0.1664000000000005\n",
      "LR -1.70E-01 \t || Delta=-8.55E-03\t ||Error=1.02E-03  \t|| hoe=-3.23E-04 \t|| H=-3.23E-04\t||ratio=1.00E+00\n",
      "LR -1.69E-01 \t || Delta=-8.53E-03\t ||Error=2.46E-03  \t|| hoe=-3.22E-04 \t|| H=-3.22E-04\t||ratio=1.00E+00\n",
      "LR -1.69E-01 \t || Delta=-8.51E-03\t ||Error=4.67E-04  \t|| hoe=-3.23E-04 \t|| H=-3.23E-04\t||ratio=1.00E+00\n",
      "LR -1.69E-01 \t || Delta=-8.50E-03\t ||Error=2.53E-03  \t|| hoe=-3.23E-04 \t|| H=-3.22E-04\t||ratio=1.00E+00\n",
      "LR -1.68E-01 \t || Delta=-8.48E-03\t ||Error=2.67E-04  \t|| hoe=-3.23E-04 \t|| H=-3.23E-04\t||ratio=1.00E+00\n",
      "LR -1.68E-01 \t || Delta=-8.47E-03\t ||Error=3.85E-05  \t|| hoe=-3.22E-04 \t|| H=-3.22E-04\t||ratio=1.00E+00\n",
      "LR -1.68E-01 \t || Delta=-8.45E-03\t ||Error=1.60E-03  \t|| hoe=-3.23E-04 \t|| H=-3.23E-04\t||ratio=9.98E-01\n",
      "LR -1.67E-01 \t || Delta=-8.43E-03\t ||Error=2.11E-03  \t|| hoe=-3.23E-04 \t|| H=-3.22E-04\t||ratio=1.00E+00\n",
      "LR -1.67E-01 \t || Delta=-8.42E-03\t ||Error=1.16E-04  \t|| hoe=-3.22E-04 \t|| H=-3.22E-04\t||ratio=1.00E+00\n",
      "LR -1.67E-01 \t || Delta=-8.40E-03\t ||Error=2.54E-03  \t|| hoe=-3.23E-04 \t|| H=-3.22E-04\t||ratio=1.00E+00\n",
      "LR -1.66E-01 \t || Delta=-8.39E-03\t ||Error=4.47E-03  \t|| hoe=-3.23E-04 \t|| H=-3.21E-04\t||ratio=1.00E+00\n",
      "[1.01637341e-03 2.46314646e-03 4.67423874e-04 2.53071781e-03\n",
      " 2.67357732e-04 3.84592051e-05 1.59788577e-03 2.11059595e-03\n",
      " 1.16453929e-04 2.53607878e-03 4.46743330e-03]\n",
      "[False  True  True  True  True  True  True  True  True  True  True]\n",
      "-0.16832000000000052 -0.16800000000000054 -0.16768000000000055\n",
      "LR -1.68E-01 \t || Delta=-8.48E-03\t ||Error=2.67E-04  \t|| hoe=-3.23E-04 \t|| H=-3.23E-04\t||ratio=1.00E+00\n",
      "LR -1.68E-01 \t || Delta=-8.48E-03\t ||Error=3.63E-03  \t|| hoe=-3.23E-04 \t|| H=-3.22E-04\t||ratio=1.00E+00\n",
      "LR -1.68E-01 \t || Delta=-8.48E-03\t ||Error=5.30E-03  \t|| hoe=-3.23E-04 \t|| H=-3.21E-04\t||ratio=1.01E+00\n",
      "LR -1.68E-01 \t || Delta=-8.47E-03\t ||Error=9.90E-04  \t|| hoe=-3.23E-04 \t|| H=-3.23E-04\t||ratio=9.99E-01\n",
      "LR -1.68E-01 \t || Delta=-8.47E-03\t ||Error=2.43E-03  \t|| hoe=-3.23E-04 \t|| H=-3.22E-04\t||ratio=1.00E+00\n",
      "LR -1.68E-01 \t || Delta=-8.47E-03\t ||Error=3.85E-05  \t|| hoe=-3.22E-04 \t|| H=-3.22E-04\t||ratio=1.00E+00\n",
      "LR -1.68E-01 \t || Delta=-8.46E-03\t ||Error=9.40E-04  \t|| hoe=-3.23E-04 \t|| H=-3.23E-04\t||ratio=9.99E-01\n",
      "LR -1.68E-01 \t || Delta=-8.46E-03\t ||Error=5.14E-03  \t|| hoe=-3.23E-04 \t|| H=-3.21E-04\t||ratio=1.01E+00\n",
      "LR -1.68E-01 \t || Delta=-8.46E-03\t ||Error=2.58E-03  \t|| hoe=-3.23E-04 \t|| H=-3.22E-04\t||ratio=1.00E+00\n",
      "LR -1.68E-01 \t || Delta=-8.45E-03\t ||Error=1.39E-03  \t|| hoe=-3.22E-04 \t|| H=-3.23E-04\t||ratio=9.99E-01\n",
      "LR -1.68E-01 \t || Delta=-8.45E-03\t ||Error=1.60E-03  \t|| hoe=-3.23E-04 \t|| H=-3.23E-04\t||ratio=9.98E-01\n",
      "LR -1.68E-01 \t || Delta=-8.45E-03\t ||Error=1.04E-03  \t|| hoe=-3.22E-04 \t|| H=-3.22E-04\t||ratio=1.00E+00\n",
      "[2.67357732e-04 3.63189508e-03 5.29795300e-03 9.89544323e-04\n",
      " 2.43234858e-03 3.84592051e-05 9.40414185e-04 5.14075637e-03\n",
      " 2.58140125e-03 1.38567325e-03 1.59788577e-03 1.03660775e-03]\n",
      "[False  True  True  True  True  True  True  True  True  True  True  True]\n",
      "-0.1680640000000005 -0.16800000000000048 -0.16793600000000047\n",
      "LR -1.68E-01 \t || Delta=-8.47E-03\t ||Error=2.43E-03  \t|| hoe=-3.23E-04 \t|| H=-3.22E-04\t||ratio=1.00E+00\n",
      "LR -1.68E-01 \t || Delta=-8.47E-03\t ||Error=4.34E-03  \t|| hoe=-3.23E-04 \t|| H=-3.21E-04\t||ratio=1.00E+00\n",
      "LR -1.68E-01 \t || Delta=-8.47E-03\t ||Error=3.19E-03  \t|| hoe=-3.23E-04 \t|| H=-3.22E-04\t||ratio=1.00E+00\n",
      "LR -1.68E-01 \t || Delta=-8.47E-03\t ||Error=3.24E-03  \t|| hoe=-3.23E-04 \t|| H=-3.22E-04\t||ratio=1.00E+00\n",
      "LR -1.68E-01 \t || Delta=-8.47E-03\t ||Error=3.84E-03  \t|| hoe=-3.23E-04 \t|| H=-3.21E-04\t||ratio=1.00E+00\n",
      "LR -1.68E-01 \t || Delta=-8.47E-03\t ||Error=3.85E-05  \t|| hoe=-3.22E-04 \t|| H=-3.22E-04\t||ratio=1.00E+00\n",
      "LR -1.68E-01 \t || Delta=-8.46E-03\t ||Error=1.22E-04  \t|| hoe=-3.23E-04 \t|| H=-3.22E-04\t||ratio=1.00E+00\n",
      "LR -1.68E-01 \t || Delta=-8.46E-03\t ||Error=2.02E-03  \t|| hoe=-3.23E-04 \t|| H=-3.22E-04\t||ratio=1.00E+00\n",
      "LR -1.68E-01 \t || Delta=-8.46E-03\t ||Error=3.70E-03  \t|| hoe=-3.23E-04 \t|| H=-3.22E-04\t||ratio=1.00E+00\n",
      "LR -1.68E-01 \t || Delta=-8.46E-03\t ||Error=1.02E-03  \t|| hoe=-3.23E-04 \t|| H=-3.23E-04\t||ratio=9.99E-01\n",
      "LR -1.68E-01 \t || Delta=-8.46E-03\t ||Error=9.40E-04  \t|| hoe=-3.23E-04 \t|| H=-3.23E-04\t||ratio=9.99E-01\n",
      "LR -1.68E-01 \t || Delta=-8.46E-03\t ||Error=1.40E-03  \t|| hoe=-3.23E-04 \t|| H=-3.23E-04\t||ratio=9.99E-01\n",
      "[2.43234858e-03 4.33884736e-03 3.18632070e-03 3.23577527e-03\n",
      " 3.83615990e-03 3.84592051e-05 1.21573623e-04 2.01707631e-03\n",
      " 3.69618978e-03 1.02314213e-03 9.40414185e-04 1.40040744e-03]\n",
      "[False  True  True  True  True  True  True  True  True  True  True  True]\n",
      "-0.16801280000000046 -0.16800000000000045 -0.16798720000000045\n"
     ]
    },
    {
     "data": {
      "text/plain": [
       "-0.16800000000000045"
      ]
     },
     "execution_count": 57,
     "metadata": {},
     "output_type": "execute_result"
    }
   ],
   "source": [
    "model, ds, loss_fn = get_model_ds_loss()\n",
    "lr_calibrate(model, ds, loss_fn)"
   ]
  },
  {
   "cell_type": "code",
   "execution_count": 58,
   "metadata": {},
   "outputs": [
    {
     "name": "stdout",
     "output_type": "stream",
     "text": [
      "LR -8.00E+00 \t || Delta=-1.08E+05\t ||Error=1.55E+01  \t|| hoe=3.37E+03 \t|| H=2.04E+02\t||ratio=1.65E+01\n",
      "LR -7.00E+00 \t || Delta=-5.37E+04\t ||Error=1.16E+01  \t|| hoe=2.19E+03 \t|| H=1.74E+02\t||ratio=1.26E+01\n",
      "LR -6.00E+00 \t || Delta=-2.48E+04\t ||Error=8.41E+00  \t|| hoe=1.38E+03 \t|| H=1.46E+02\t||ratio=9.41E+00\n",
      "LR -5.00E+00 \t || Delta=-1.05E+04\t ||Error=5.90E+00  \t|| hoe=8.36E+02 \t|| H=1.21E+02\t||ratio=6.90E+00\n",
      "LR -4.00E+00 \t || Delta=-3.91E+03\t ||Error=3.95E+00  \t|| hoe=4.86E+02 \t|| H=9.83E+01\t||ratio=4.95E+00\n",
      "LR -3.00E+00 \t || Delta=-1.22E+03\t ||Error=2.45E+00  \t|| hoe=2.69E+02 \t|| H=7.79E+01\t||ratio=3.45E+00\n",
      "LR -2.00E+00 \t || Delta=-2.89E+02\t ||Error=1.34E+00  \t|| hoe=1.40E+02 \t|| H=5.98E+01\t||ratio=2.34E+00\n",
      "LR -1.00E+00 \t || Delta=-3.85E+01\t ||Error=5.39E-01  \t|| hoe=6.80E+01 \t|| H=4.42E+01\t||ratio=1.54E+00\n",
      "LR 0.00E+00 \t || Delta=0.00E+00\t ||Error=NAN  \t|| hoe=NAN \t|| H=NAN\t||ratio=NAN\n",
      "LR 1.00E+00 \t || Delta=-2.43E+00\t ||Error=4.54E-01  \t|| hoe=1.39E+01 \t|| H=2.01E+01\t||ratio=6.88E-01\n",
      "LR 2.00E+00 \t || Delta=-5.30E+00\t ||Error=6.41E-01  \t|| hoe=7.15E+00 \t|| H=1.17E+01\t||ratio=6.09E-01\n",
      "LR 3.00E+00 \t || Delta=-9.57E+00\t ||Error=1.15E-01  \t|| hoe=5.12E+00 \t|| H=5.71E+00\t||ratio=8.97E-01\n",
      "LR 4.00E+00 \t || Delta=-1.96E+01\t ||Error=1.24E+00  \t|| hoe=4.70E+00 \t|| H=2.10E+00\t||ratio=2.24E+00\n",
      "LR 5.00E+00 \t || Delta=-3.35E+01\t ||Error=4.05E+00  \t|| hoe=4.48E+00 \t|| H=8.87E-01\t||ratio=5.05E+00\n",
      "LR 6.00E+00 \t || Delta=-4.60E+01\t ||Error=9.50E-01  \t|| hoe=4.06E+00 \t|| H=2.08E+00\t||ratio=1.95E+00\n",
      "LR 7.00E+00 \t || Delta=-5.44E+01\t ||Error=6.19E-01  \t|| hoe=3.51E+00 \t|| H=5.67E+00\t||ratio=6.18E-01\n",
      "[15.53134917 11.58308507  8.41388218  5.90412801  3.94810241  2.45319494\n",
      "  1.33940597  0.53940486         nan  0.45398789  0.6411594   0.11470984\n",
      "  1.24115164  4.05256357  0.95047096  0.61850129]\n",
      "[False False False False False False False False False False False False\n",
      " False False False False]\n"
     ]
    },
    {
     "ename": "ValueError",
     "evalue": "attempt to get argmin of an empty sequence",
     "output_type": "error",
     "traceback": [
      "\u001b[0;31m---------------------------------------------------------------------------\u001b[0m",
      "\u001b[0;31mValueError\u001b[0m                                Traceback (most recent call last)",
      "\u001b[0;32m<ipython-input-58-378758f5b868>\u001b[0m in \u001b[0;36m<module>\u001b[0;34m\u001b[0m\n\u001b[1;32m      1\u001b[0m \u001b[0mmodel\u001b[0m\u001b[0;34m,\u001b[0m \u001b[0mds\u001b[0m\u001b[0;34m,\u001b[0m \u001b[0mloss_fn\u001b[0m \u001b[0;34m=\u001b[0m \u001b[0mget_model_ds_loss\u001b[0m\u001b[0;34m(\u001b[0m\u001b[0;34m)\u001b[0m\u001b[0;34m\u001b[0m\u001b[0;34m\u001b[0m\u001b[0m\n\u001b[1;32m      2\u001b[0m \u001b[0mloss_fn\u001b[0m \u001b[0;34m=\u001b[0m \u001b[0mSquaredClassification\u001b[0m\u001b[0;34m(\u001b[0m\u001b[0mout_dim\u001b[0m\u001b[0;34m)\u001b[0m\u001b[0;34m\u001b[0m\u001b[0;34m\u001b[0m\u001b[0m\n\u001b[0;32m----> 3\u001b[0;31m \u001b[0mlr_calibrate\u001b[0m\u001b[0;34m(\u001b[0m\u001b[0mmodel\u001b[0m\u001b[0;34m,\u001b[0m \u001b[0mds\u001b[0m\u001b[0;34m,\u001b[0m \u001b[0mloss_fn\u001b[0m\u001b[0;34m)\u001b[0m\u001b[0;34m\u001b[0m\u001b[0;34m\u001b[0m\u001b[0m\n\u001b[0m",
      "\u001b[0;32m/media/tristan/Samsung_T5/workspace/BlockHessian/Pytorch/src/lr_tools.py\u001b[0m in \u001b[0;36mlr_calibrate\u001b[0;34m(model, ds, loss_fn, start, stop, step, log_scale, width)\u001b[0m\n\u001b[1;32m     59\u001b[0m \u001b[0;32mdef\u001b[0m \u001b[0mlr_calibrate\u001b[0m\u001b[0;34m(\u001b[0m\u001b[0mmodel\u001b[0m\u001b[0;34m,\u001b[0m \u001b[0mds\u001b[0m\u001b[0;34m,\u001b[0m \u001b[0mloss_fn\u001b[0m\u001b[0;34m,\u001b[0m \u001b[0mstart\u001b[0m\u001b[0;34m=\u001b[0m\u001b[0;34m-\u001b[0m\u001b[0;36m8\u001b[0m\u001b[0;34m,\u001b[0m \u001b[0mstop\u001b[0m\u001b[0;34m=\u001b[0m\u001b[0;36m8\u001b[0m\u001b[0;34m,\u001b[0m \u001b[0mstep\u001b[0m\u001b[0;34m=\u001b[0m\u001b[0;36m1\u001b[0m\u001b[0;34m,\u001b[0m \u001b[0mlog_scale\u001b[0m\u001b[0;34m=\u001b[0m\u001b[0;32mFalse\u001b[0m\u001b[0;34m,\u001b[0m \u001b[0mwidth\u001b[0m\u001b[0;34m=\u001b[0m\u001b[0;36m1.e-4\u001b[0m\u001b[0;34m)\u001b[0m\u001b[0;34m:\u001b[0m\u001b[0;34m\u001b[0m\u001b[0;34m\u001b[0m\u001b[0m\n\u001b[1;32m     60\u001b[0m \u001b[0;34m\u001b[0m\u001b[0m\n\u001b[0;32m---> 61\u001b[0;31m     \u001b[0minf\u001b[0m\u001b[0;34m,\u001b[0m \u001b[0msup\u001b[0m\u001b[0;34m,\u001b[0m \u001b[0mbest\u001b[0m \u001b[0;34m=\u001b[0m \u001b[0mlr_search\u001b[0m\u001b[0;34m(\u001b[0m\u001b[0mmodel\u001b[0m\u001b[0;34m,\u001b[0m \u001b[0mds\u001b[0m\u001b[0;34m,\u001b[0m \u001b[0mloss_fn\u001b[0m\u001b[0;34m,\u001b[0m \u001b[0mstart\u001b[0m\u001b[0;34m,\u001b[0m \u001b[0mstop\u001b[0m\u001b[0;34m,\u001b[0m \u001b[0mstep\u001b[0m\u001b[0;34m,\u001b[0m \u001b[0mlog_scale\u001b[0m\u001b[0;34m)\u001b[0m\u001b[0;34m\u001b[0m\u001b[0;34m\u001b[0m\u001b[0m\n\u001b[0m\u001b[1;32m     62\u001b[0m     \u001b[0mprint\u001b[0m\u001b[0;34m(\u001b[0m\u001b[0minf\u001b[0m\u001b[0;34m,\u001b[0m \u001b[0mbest\u001b[0m\u001b[0;34m,\u001b[0m \u001b[0msup\u001b[0m\u001b[0;34m)\u001b[0m\u001b[0;34m\u001b[0m\u001b[0;34m\u001b[0m\u001b[0m\n\u001b[1;32m     63\u001b[0m \u001b[0;34m\u001b[0m\u001b[0m\n",
      "\u001b[0;32m/media/tristan/Samsung_T5/workspace/BlockHessian/Pytorch/src/lr_tools.py\u001b[0m in \u001b[0;36mlr_search\u001b[0;34m(model, ds, loss_fn, start, stop, step, log_scale)\u001b[0m\n\u001b[1;32m     41\u001b[0m     \u001b[0mprint\u001b[0m\u001b[0;34m(\u001b[0m\u001b[0mdiff\u001b[0m\u001b[0;34m)\u001b[0m\u001b[0;34m\u001b[0m\u001b[0;34m\u001b[0m\u001b[0m\n\u001b[1;32m     42\u001b[0m \u001b[0;34m\u001b[0m\u001b[0m\n\u001b[0;32m---> 43\u001b[0;31m     \u001b[0m_idx\u001b[0m \u001b[0;34m=\u001b[0m \u001b[0mnp\u001b[0m\u001b[0;34m.\u001b[0m\u001b[0margmin\u001b[0m\u001b[0;34m(\u001b[0m\u001b[0merror_list\u001b[0m\u001b[0;34m[\u001b[0m\u001b[0mdiff\u001b[0m\u001b[0;34m]\u001b[0m\u001b[0;34m)\u001b[0m\u001b[0;34m\u001b[0m\u001b[0;34m\u001b[0m\u001b[0m\n\u001b[0m\u001b[1;32m     44\u001b[0m     \u001b[0midx\u001b[0m \u001b[0;34m=\u001b[0m \u001b[0mnp\u001b[0m\u001b[0;34m.\u001b[0m\u001b[0mwhere\u001b[0m\u001b[0;34m(\u001b[0m\u001b[0mdiff\u001b[0m\u001b[0;34m)\u001b[0m\u001b[0;34m[\u001b[0m\u001b[0;36m0\u001b[0m\u001b[0;34m]\u001b[0m\u001b[0;34m[\u001b[0m\u001b[0m_idx\u001b[0m\u001b[0;34m]\u001b[0m\u001b[0;34m\u001b[0m\u001b[0;34m\u001b[0m\u001b[0m\n\u001b[1;32m     45\u001b[0m \u001b[0;34m\u001b[0m\u001b[0m\n",
      "\u001b[0;32m~/anaconda3/envs/torch1/lib/python3.6/site-packages/numpy/core/fromnumeric.py\u001b[0m in \u001b[0;36margmin\u001b[0;34m(a, axis, out)\u001b[0m\n\u001b[1;32m   1099\u001b[0m \u001b[0;34m\u001b[0m\u001b[0m\n\u001b[1;32m   1100\u001b[0m     \"\"\"\n\u001b[0;32m-> 1101\u001b[0;31m     \u001b[0;32mreturn\u001b[0m \u001b[0m_wrapfunc\u001b[0m\u001b[0;34m(\u001b[0m\u001b[0ma\u001b[0m\u001b[0;34m,\u001b[0m \u001b[0;34m'argmin'\u001b[0m\u001b[0;34m,\u001b[0m \u001b[0maxis\u001b[0m\u001b[0;34m=\u001b[0m\u001b[0maxis\u001b[0m\u001b[0;34m,\u001b[0m \u001b[0mout\u001b[0m\u001b[0;34m=\u001b[0m\u001b[0mout\u001b[0m\u001b[0;34m)\u001b[0m\u001b[0;34m\u001b[0m\u001b[0;34m\u001b[0m\u001b[0m\n\u001b[0m\u001b[1;32m   1102\u001b[0m \u001b[0;34m\u001b[0m\u001b[0m\n\u001b[1;32m   1103\u001b[0m \u001b[0;34m\u001b[0m\u001b[0m\n",
      "\u001b[0;32m~/anaconda3/envs/torch1/lib/python3.6/site-packages/numpy/core/fromnumeric.py\u001b[0m in \u001b[0;36m_wrapfunc\u001b[0;34m(obj, method, *args, **kwds)\u001b[0m\n\u001b[1;32m     49\u001b[0m \u001b[0;32mdef\u001b[0m \u001b[0m_wrapfunc\u001b[0m\u001b[0;34m(\u001b[0m\u001b[0mobj\u001b[0m\u001b[0;34m,\u001b[0m \u001b[0mmethod\u001b[0m\u001b[0;34m,\u001b[0m \u001b[0;34m*\u001b[0m\u001b[0margs\u001b[0m\u001b[0;34m,\u001b[0m \u001b[0;34m**\u001b[0m\u001b[0mkwds\u001b[0m\u001b[0;34m)\u001b[0m\u001b[0;34m:\u001b[0m\u001b[0;34m\u001b[0m\u001b[0;34m\u001b[0m\u001b[0m\n\u001b[1;32m     50\u001b[0m     \u001b[0;32mtry\u001b[0m\u001b[0;34m:\u001b[0m\u001b[0;34m\u001b[0m\u001b[0;34m\u001b[0m\u001b[0m\n\u001b[0;32m---> 51\u001b[0;31m         \u001b[0;32mreturn\u001b[0m \u001b[0mgetattr\u001b[0m\u001b[0;34m(\u001b[0m\u001b[0mobj\u001b[0m\u001b[0;34m,\u001b[0m \u001b[0mmethod\u001b[0m\u001b[0;34m)\u001b[0m\u001b[0;34m(\u001b[0m\u001b[0;34m*\u001b[0m\u001b[0margs\u001b[0m\u001b[0;34m,\u001b[0m \u001b[0;34m**\u001b[0m\u001b[0mkwds\u001b[0m\u001b[0;34m)\u001b[0m\u001b[0;34m\u001b[0m\u001b[0;34m\u001b[0m\u001b[0m\n\u001b[0m\u001b[1;32m     52\u001b[0m \u001b[0;34m\u001b[0m\u001b[0m\n\u001b[1;32m     53\u001b[0m     \u001b[0;31m# An AttributeError occurs if the object does not have\u001b[0m\u001b[0;34m\u001b[0m\u001b[0;34m\u001b[0m\u001b[0;34m\u001b[0m\u001b[0m\n",
      "\u001b[0;31mValueError\u001b[0m: attempt to get argmin of an empty sequence"
     ]
    }
   ],
   "source": [
    "model, ds, loss_fn = get_model_ds_loss()\n",
    "loss_fn = SquaredClassification(out_dim)\n",
    "lr_calibrate(model, ds, loss_fn)"
   ]
  },
  {
   "cell_type": "code",
   "execution_count": null,
   "metadata": {},
   "outputs": [],
   "source": []
  },
  {
   "cell_type": "code",
   "execution_count": null,
   "metadata": {},
   "outputs": [],
   "source": []
  },
  {
   "cell_type": "code",
   "execution_count": null,
   "metadata": {},
   "outputs": [],
   "source": []
  }
 ],
 "metadata": {
  "kernelspec": {
   "display_name": "Python 3",
   "language": "python",
   "name": "python3"
  },
  "language_info": {
   "codemirror_mode": {
    "name": "ipython",
    "version": 3
   },
   "file_extension": ".py",
   "mimetype": "text/x-python",
   "name": "python",
   "nbconvert_exporter": "python",
   "pygments_lexer": "ipython3",
   "version": "3.6.8"
  }
 },
 "nbformat": 4,
 "nbformat_minor": 4
}
