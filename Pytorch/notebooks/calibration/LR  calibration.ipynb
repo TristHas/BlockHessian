{
 "cells": [
  {
   "cell_type": "code",
   "execution_count": 6,
   "metadata": {},
   "outputs": [],
   "source": [
    "import sys\n",
    "import numpy as np\n",
    "import torch\n",
    "import matplotlib.pyplot as plt\n",
    "%matplotlib inline"
   ]
  },
  {
   "cell_type": "code",
   "execution_count": 7,
   "metadata": {},
   "outputs": [],
   "source": [
    "sys.path.append(\"../../src\")\n",
    "from lr_tools import lr_calibrate\n",
    "from models import MLP\n",
    "from data import gen_rnd_ds\n",
    "from losses import LinearClassification\n",
    "from block_analysis import block_hessian, curvature_effects"
   ]
  },
  {
   "cell_type": "markdown",
   "metadata": {},
   "source": [
    "## Helpers"
   ]
  },
  {
   "cell_type": "code",
   "execution_count": 8,
   "metadata": {},
   "outputs": [],
   "source": [
    "def get_model_ds_loss():    \n",
    "    model =  MLP(inp_dim, hid_dim, out_dim, nlayer, bias, mode).cuda(device)\n",
    "    ds = gen_rnd_ds(inp_dim, inp_mean, inp_var, \n",
    "                   out_dim, nsamp, device)\n",
    "    loss_fn = LinearClassification(out_dim)\n",
    "    return model, ds, loss_fn"
   ]
  },
  {
   "cell_type": "markdown",
   "metadata": {},
   "source": [
    "## Params"
   ]
  },
  {
   "cell_type": "code",
   "execution_count": 9,
   "metadata": {},
   "outputs": [],
   "source": [
    "# Model\n",
    "mode = \"linear\"\n",
    "bias = False\n",
    "nlayer = 5\n",
    "inp_dim = 10 \n",
    "out_dim = 10\n",
    "hid_dim = 100\n",
    "\n",
    "# Data parameters\n",
    "nsamp = 100\n",
    "inp_mean = 0\n",
    "inp_var = 1\n",
    "\n",
    "# Others\n",
    "device = 0\n",
    "lr = 7"
   ]
  },
  {
   "cell_type": "code",
   "execution_count": 10,
   "metadata": {},
   "outputs": [],
   "source": [
    "model, ds, loss_fn = get_model_ds_loss()"
   ]
  },
  {
   "cell_type": "code",
   "execution_count": 13,
   "metadata": {},
   "outputs": [
    {
     "name": "stdout",
     "output_type": "stream",
     "text": [
      "LR -8.00E+00 \t || Delta=-2.25E-01\t ||Error=6.49E-02  \t|| hoe=-1.03E-04 \t|| H=-1.10E-04\t||ratio=9.39E-01\n",
      "LR -7.00E+00 \t || Delta=-1.97E-01\t ||Error=5.62E-02  \t|| hoe=-1.04E-04 \t|| H=-1.10E-04\t||ratio=9.47E-01\n",
      "LR -6.00E+00 \t || Delta=-1.69E-01\t ||Error=4.76E-02  \t|| hoe=-1.05E-04 \t|| H=-1.10E-04\t||ratio=9.55E-01\n",
      "LR -5.00E+00 \t || Delta=-1.41E-01\t ||Error=3.93E-02  \t|| hoe=-1.06E-04 \t|| H=-1.10E-04\t||ratio=9.62E-01\n",
      "LR -4.00E+00 \t || Delta=-1.13E-01\t ||Error=3.11E-02  \t|| hoe=-1.07E-04 \t|| H=-1.10E-04\t||ratio=9.70E-01\n",
      "LR -3.00E+00 \t || Delta=-8.50E-02\t ||Error=2.30E-02  \t|| hoe=-1.08E-04 \t|| H=-1.10E-04\t||ratio=9.78E-01\n",
      "LR -2.00E+00 \t || Delta=-5.68E-02\t ||Error=1.52E-02  \t|| hoe=-1.08E-04 \t|| H=-1.10E-04\t||ratio=9.85E-01\n",
      "LR -1.00E+00 \t || Delta=-2.84E-02\t ||Error=7.67E-03  \t|| hoe=-1.09E-04 \t|| H=-1.10E-04\t||ratio=9.92E-01\n",
      "LR 0.00E+00 \t || Delta=0.00E+00\t ||Error=NAN  \t|| hoe=NAN \t|| H=NAN\t||ratio=NAN\n",
      "LR 1.00E+00 \t || Delta=2.85E-02\t ||Error=7.10E-03  \t|| hoe=-1.11E-04 \t|| H=-1.10E-04\t||ratio=1.01E+00\n",
      "LR 2.00E+00 \t || Delta=5.72E-02\t ||Error=1.48E-02  \t|| hoe=-1.12E-04 \t|| H=-1.10E-04\t||ratio=1.01E+00\n",
      "LR 3.00E+00 \t || Delta=8.60E-02\t ||Error=2.22E-02  \t|| hoe=-1.13E-04 \t|| H=-1.10E-04\t||ratio=1.02E+00\n",
      "LR 4.00E+00 \t || Delta=1.15E-01\t ||Error=2.95E-02  \t|| hoe=-1.13E-04 \t|| H=-1.10E-04\t||ratio=1.03E+00\n",
      "LR 5.00E+00 \t || Delta=1.44E-01\t ||Error=3.66E-02  \t|| hoe=-1.14E-04 \t|| H=-1.10E-04\t||ratio=1.04E+00\n",
      "LR 6.00E+00 \t || Delta=1.73E-01\t ||Error=4.38E-02  \t|| hoe=-1.15E-04 \t|| H=-1.10E-04\t||ratio=1.04E+00\n",
      "LR 7.00E+00 \t || Delta=2.02E-01\t ||Error=5.10E-02  \t|| hoe=-1.16E-04 \t|| H=-1.10E-04\t||ratio=1.05E+00\n",
      "-2 -1 0\n",
      "LR -2.00E+00 \t || Delta=-5.68E-02\t ||Error=1.52E-02  \t|| hoe=-1.08E-04 \t|| H=-1.10E-04\t||ratio=9.85E-01\n",
      "LR -1.80E+00 \t || Delta=-5.11E-02\t ||Error=1.38E-02  \t|| hoe=-1.09E-04 \t|| H=-1.10E-04\t||ratio=9.86E-01\n",
      "LR -1.60E+00 \t || Delta=-4.54E-02\t ||Error=1.21E-02  \t|| hoe=-1.09E-04 \t|| H=-1.10E-04\t||ratio=9.88E-01\n",
      "LR -1.40E+00 \t || Delta=-3.98E-02\t ||Error=1.06E-02  \t|| hoe=-1.09E-04 \t|| H=-1.10E-04\t||ratio=9.90E-01\n"
     ]
    },
    {
     "name": "stderr",
     "output_type": "stream",
     "text": [
      "../../src/lr_tools.py:36: RuntimeWarning: invalid value encountered in less\n",
      "  diff = abs(diff)<1e-4\n"
     ]
    },
    {
     "name": "stdout",
     "output_type": "stream",
     "text": [
      "LR -1.20E+00 \t || Delta=-3.41E-02\t ||Error=9.10E-03  \t|| hoe=-1.09E-04 \t|| H=-1.10E-04\t||ratio=9.91E-01\n",
      "LR -1.00E+00 \t || Delta=-2.84E-02\t ||Error=7.67E-03  \t|| hoe=-1.09E-04 \t|| H=-1.10E-04\t||ratio=9.92E-01\n",
      "LR -8.00E-01 \t || Delta=-2.28E-02\t ||Error=6.05E-03  \t|| hoe=-1.09E-04 \t|| H=-1.10E-04\t||ratio=9.94E-01\n",
      "LR -6.00E-01 \t || Delta=-1.71E-02\t ||Error=4.57E-03  \t|| hoe=-1.10E-04 \t|| H=-1.10E-04\t||ratio=9.95E-01\n",
      "LR -4.00E-01 \t || Delta=-1.14E-02\t ||Error=3.43E-03  \t|| hoe=-1.10E-04 \t|| H=-1.10E-04\t||ratio=9.97E-01\n",
      "LR -2.00E-01 \t || Delta=-5.70E-03\t ||Error=1.29E-03  \t|| hoe=-1.10E-04 \t|| H=-1.10E-04\t||ratio=9.99E-01\n",
      "LR -4.44E-16 \t || Delta=0.00E+00\t ||Error=6.54E-08  \t|| hoe=-1.28E+14 \t|| H=-1.28E+14\t||ratio=1.00E+00\n",
      "-0.40000000000000036 -0.2000000000000004 -4.440892098500626e-16\n",
      "LR -4.00E-01 \t || Delta=-1.14E-02\t ||Error=3.43E-03  \t|| hoe=-1.10E-04 \t|| H=-1.10E-04\t||ratio=9.97E-01\n",
      "LR -3.60E-01 \t || Delta=-1.02E-02\t ||Error=5.25E-03  \t|| hoe=-1.10E-04 \t|| H=-1.10E-04\t||ratio=9.95E-01\n",
      "LR -3.20E-01 \t || Delta=-9.11E-03\t ||Error=5.62E-03  \t|| hoe=-1.10E-04 \t|| H=-1.10E-04\t||ratio=9.94E-01\n",
      "LR -2.80E-01 \t || Delta=-7.97E-03\t ||Error=2.01E-03  \t|| hoe=-1.10E-04 \t|| H=-1.10E-04\t||ratio=9.98E-01\n",
      "LR -2.40E-01 \t || Delta=-6.83E-03\t ||Error=6.71E-04  \t|| hoe=-1.10E-04 \t|| H=-1.10E-04\t||ratio=9.99E-01\n",
      "LR -2.00E-01 \t || Delta=-5.70E-03\t ||Error=1.29E-03  \t|| hoe=-1.10E-04 \t|| H=-1.10E-04\t||ratio=9.99E-01\n",
      "LR -1.60E-01 \t || Delta=-4.56E-03\t ||Error=3.43E-03  \t|| hoe=-1.10E-04 \t|| H=-1.10E-04\t||ratio=1.00E+00\n",
      "LR -1.20E-01 \t || Delta=-3.42E-03\t ||Error=1.46E-02  \t|| hoe=-1.10E-04 \t|| H=-1.12E-04\t||ratio=9.86E-01\n",
      "LR -8.00E-02 \t || Delta=-2.28E-03\t ||Error=3.89E-03  \t|| hoe=-1.10E-04 \t|| H=-1.09E-04\t||ratio=1.00E+00\n",
      "LR -4.00E-02 \t || Delta=-1.14E-03\t ||Error=9.31E-02  \t|| hoe=-1.07E-04 \t|| H=-9.82E-05\t||ratio=1.09E+00\n",
      "LR -5.55E-16 \t || Delta=0.00E+00\t ||Error=2.45E-07  \t|| hoe=-1.03E+14 \t|| H=-1.03E+14\t||ratio=1.00E+00\n",
      "-0.2800000000000004 -0.24000000000000044 -0.20000000000000046\n",
      "LR -2.80E-01 \t || Delta=-7.97E-03\t ||Error=2.01E-03  \t|| hoe=-1.10E-04 \t|| H=-1.10E-04\t||ratio=9.98E-01\n",
      "LR -2.72E-01 \t || Delta=-7.75E-03\t ||Error=2.09E-03  \t|| hoe=-1.10E-04 \t|| H=-1.10E-04\t||ratio=9.98E-01\n",
      "LR -2.64E-01 \t || Delta=-7.52E-03\t ||Error=6.39E-03  \t|| hoe=-1.10E-04 \t|| H=-1.11E-04\t||ratio=9.94E-01\n",
      "LR -2.56E-01 \t || Delta=-7.29E-03\t ||Error=2.15E-03  \t|| hoe=-1.10E-04 \t|| H=-1.10E-04\t||ratio=9.98E-01\n",
      "LR -2.48E-01 \t || Delta=-7.06E-03\t ||Error=4.86E-03  \t|| hoe=-1.10E-04 \t|| H=-1.10E-04\t||ratio=9.95E-01\n",
      "LR -2.40E-01 \t || Delta=-6.83E-03\t ||Error=6.71E-04  \t|| hoe=-1.10E-04 \t|| H=-1.10E-04\t||ratio=9.99E-01\n",
      "LR -2.32E-01 \t || Delta=-6.61E-03\t ||Error=8.54E-03  \t|| hoe=-1.10E-04 \t|| H=-1.11E-04\t||ratio=9.92E-01\n",
      "LR -2.24E-01 \t || Delta=-6.38E-03\t ||Error=3.26E-03  \t|| hoe=-1.10E-04 \t|| H=-1.10E-04\t||ratio=9.97E-01\n",
      "LR -2.16E-01 \t || Delta=-6.15E-03\t ||Error=7.20E-03  \t|| hoe=-1.10E-04 \t|| H=-1.11E-04\t||ratio=9.93E-01\n",
      "LR -2.08E-01 \t || Delta=-5.92E-03\t ||Error=3.33E-03  \t|| hoe=-1.10E-04 \t|| H=-1.10E-04\t||ratio=9.97E-01\n",
      "LR -2.00E-01 \t || Delta=-5.70E-03\t ||Error=1.29E-03  \t|| hoe=-1.10E-04 \t|| H=-1.10E-04\t||ratio=9.99E-01\n",
      "-0.2480000000000004 -0.24000000000000038 -0.23200000000000037\n",
      "LR -2.48E-01 \t || Delta=-7.06E-03\t ||Error=4.86E-03  \t|| hoe=-1.10E-04 \t|| H=-1.10E-04\t||ratio=9.95E-01\n",
      "LR -2.46E-01 \t || Delta=-7.02E-03\t ||Error=3.40E-03  \t|| hoe=-1.10E-04 \t|| H=-1.10E-04\t||ratio=9.97E-01\n",
      "LR -2.45E-01 \t || Delta=-6.97E-03\t ||Error=4.48E-03  \t|| hoe=-1.10E-04 \t|| H=-1.10E-04\t||ratio=9.96E-01\n",
      "LR -2.43E-01 \t || Delta=-6.93E-03\t ||Error=2.21E-03  \t|| hoe=-1.10E-04 \t|| H=-1.10E-04\t||ratio=9.98E-01\n",
      "LR -2.42E-01 \t || Delta=-6.88E-03\t ||Error=4.25E-03  \t|| hoe=-1.10E-04 \t|| H=-1.10E-04\t||ratio=9.96E-01\n",
      "LR -2.40E-01 \t || Delta=-6.83E-03\t ||Error=6.71E-04  \t|| hoe=-1.10E-04 \t|| H=-1.10E-04\t||ratio=9.99E-01\n",
      "LR -2.38E-01 \t || Delta=-6.79E-03\t ||Error=3.92E-04  \t|| hoe=-1.10E-04 \t|| H=-1.10E-04\t||ratio=1.00E+00\n",
      "LR -2.37E-01 \t || Delta=-6.74E-03\t ||Error=1.77E-03  \t|| hoe=-1.10E-04 \t|| H=-1.10E-04\t||ratio=9.98E-01\n",
      "LR -2.35E-01 \t || Delta=-6.70E-03\t ||Error=3.60E-03  \t|| hoe=-1.10E-04 \t|| H=-1.10E-04\t||ratio=9.96E-01\n",
      "LR -2.34E-01 \t || Delta=-6.65E-03\t ||Error=8.64E-04  \t|| hoe=-1.10E-04 \t|| H=-1.10E-04\t||ratio=9.99E-01\n",
      "LR -2.32E-01 \t || Delta=-6.61E-03\t ||Error=8.54E-03  \t|| hoe=-1.10E-04 \t|| H=-1.11E-04\t||ratio=9.92E-01\n",
      "-0.24000000000000044 -0.23840000000000044 -0.23680000000000045\n",
      "LR -2.40E-01 \t || Delta=-6.83E-03\t ||Error=6.71E-04  \t|| hoe=-1.10E-04 \t|| H=-1.10E-04\t||ratio=9.99E-01\n",
      "LR -2.40E-01 \t || Delta=-6.83E-03\t ||Error=6.00E-03  \t|| hoe=-1.10E-04 \t|| H=-1.10E-04\t||ratio=9.94E-01\n",
      "LR -2.39E-01 \t || Delta=-6.82E-03\t ||Error=1.28E-03  \t|| hoe=-1.10E-04 \t|| H=-1.10E-04\t||ratio=9.99E-01\n",
      "LR -2.39E-01 \t || Delta=-6.81E-03\t ||Error=6.16E-03  \t|| hoe=-1.10E-04 \t|| H=-1.10E-04\t||ratio=9.94E-01\n",
      "LR -2.39E-01 \t || Delta=-6.80E-03\t ||Error=1.31E-03  \t|| hoe=-1.10E-04 \t|| H=-1.10E-04\t||ratio=9.99E-01\n",
      "LR -2.38E-01 \t || Delta=-6.79E-03\t ||Error=3.92E-04  \t|| hoe=-1.10E-04 \t|| H=-1.10E-04\t||ratio=1.00E+00\n",
      "LR -2.38E-01 \t || Delta=-6.78E-03\t ||Error=3.08E-04  \t|| hoe=-1.10E-04 \t|| H=-1.10E-04\t||ratio=1.00E+00\n",
      "LR -2.38E-01 \t || Delta=-6.77E-03\t ||Error=4.87E-03  \t|| hoe=-1.10E-04 \t|| H=-1.10E-04\t||ratio=9.95E-01\n",
      "LR -2.37E-01 \t || Delta=-6.76E-03\t ||Error=5.43E-03  \t|| hoe=-1.10E-04 \t|| H=-1.10E-04\t||ratio=9.95E-01\n",
      "LR -2.37E-01 \t || Delta=-6.75E-03\t ||Error=1.30E-03  \t|| hoe=-1.10E-04 \t|| H=-1.10E-04\t||ratio=9.99E-01\n",
      "LR -2.37E-01 \t || Delta=-6.74E-03\t ||Error=1.77E-03  \t|| hoe=-1.10E-04 \t|| H=-1.10E-04\t||ratio=9.98E-01\n",
      "-0.2384000000000005 -0.2380800000000005 -0.23776000000000053\n",
      "LR -2.38E-01 \t || Delta=-6.79E-03\t ||Error=3.92E-04  \t|| hoe=-1.10E-04 \t|| H=-1.10E-04\t||ratio=1.00E+00\n",
      "LR -2.38E-01 \t || Delta=-6.79E-03\t ||Error=1.52E-03  \t|| hoe=-1.10E-04 \t|| H=-1.10E-04\t||ratio=9.98E-01\n",
      "LR -2.38E-01 \t || Delta=-6.79E-03\t ||Error=3.29E-03  \t|| hoe=-1.10E-04 \t|| H=-1.10E-04\t||ratio=9.97E-01\n",
      "LR -2.38E-01 \t || Delta=-6.78E-03\t ||Error=1.11E-03  \t|| hoe=-1.10E-04 \t|| H=-1.10E-04\t||ratio=1.00E+00\n",
      "LR -2.38E-01 \t || Delta=-6.78E-03\t ||Error=3.94E-03  \t|| hoe=-1.10E-04 \t|| H=-1.10E-04\t||ratio=9.96E-01\n",
      "LR -2.38E-01 \t || Delta=-6.78E-03\t ||Error=3.08E-04  \t|| hoe=-1.10E-04 \t|| H=-1.10E-04\t||ratio=1.00E+00\n",
      "LR -2.38E-01 \t || Delta=-6.78E-03\t ||Error=2.54E-03  \t|| hoe=-1.10E-04 \t|| H=-1.10E-04\t||ratio=9.97E-01\n",
      "LR -2.38E-01 \t || Delta=-6.78E-03\t ||Error=6.46E-04  \t|| hoe=-1.10E-04 \t|| H=-1.10E-04\t||ratio=9.99E-01\n",
      "LR -2.38E-01 \t || Delta=-6.77E-03\t ||Error=1.20E-03  \t|| hoe=-1.10E-04 \t|| H=-1.10E-04\t||ratio=1.00E+00\n",
      "LR -2.38E-01 \t || Delta=-6.77E-03\t ||Error=6.41E-04  \t|| hoe=-1.10E-04 \t|| H=-1.10E-04\t||ratio=9.99E-01\n",
      "LR -2.38E-01 \t || Delta=-6.77E-03\t ||Error=4.87E-03  \t|| hoe=-1.10E-04 \t|| H=-1.10E-04\t||ratio=9.95E-01\n",
      "LR -2.38E-01 \t || Delta=-6.77E-03\t ||Error=1.85E-03  \t|| hoe=-1.10E-04 \t|| H=-1.10E-04\t||ratio=9.98E-01\n",
      "-0.23814400000000047 -0.23808000000000046 -0.23801600000000045\n",
      "LR -2.38E-01 \t || Delta=-6.78E-03\t ||Error=3.94E-03  \t|| hoe=-1.10E-04 \t|| H=-1.10E-04\t||ratio=9.96E-01\n",
      "LR -2.38E-01 \t || Delta=-6.78E-03\t ||Error=1.26E-03  \t|| hoe=-1.10E-04 \t|| H=-1.10E-04\t||ratio=9.99E-01\n",
      "LR -2.38E-01 \t || Delta=-6.78E-03\t ||Error=3.07E-03  \t|| hoe=-1.10E-04 \t|| H=-1.10E-04\t||ratio=9.97E-01\n",
      "LR -2.38E-01 \t || Delta=-6.78E-03\t ||Error=4.76E-03  \t|| hoe=-1.10E-04 \t|| H=-1.10E-04\t||ratio=9.95E-01\n",
      "LR -2.38E-01 \t || Delta=-6.78E-03\t ||Error=2.67E-03  \t|| hoe=-1.10E-04 \t|| H=-1.10E-04\t||ratio=9.97E-01\n",
      "LR -2.38E-01 \t || Delta=-6.78E-03\t ||Error=3.08E-04  \t|| hoe=-1.10E-04 \t|| H=-1.10E-04\t||ratio=1.00E+00\n",
      "LR -2.38E-01 \t || Delta=-6.78E-03\t ||Error=3.29E-03  \t|| hoe=-1.10E-04 \t|| H=-1.10E-04\t||ratio=9.97E-01\n",
      "LR -2.38E-01 \t || Delta=-6.78E-03\t ||Error=2.48E-03  \t|| hoe=-1.10E-04 \t|| H=-1.10E-04\t||ratio=9.98E-01\n",
      "LR -2.38E-01 \t || Delta=-6.78E-03\t ||Error=3.27E-03  \t|| hoe=-1.10E-04 \t|| H=-1.10E-04\t||ratio=9.97E-01\n",
      "LR -2.38E-01 \t || Delta=-6.78E-03\t ||Error=2.15E-03  \t|| hoe=-1.10E-04 \t|| H=-1.10E-04\t||ratio=1.00E+00\n",
      "LR -2.38E-01 \t || Delta=-6.78E-03\t ||Error=2.54E-03  \t|| hoe=-1.10E-04 \t|| H=-1.10E-04\t||ratio=9.97E-01\n",
      "LR -2.38E-01 \t || Delta=-6.78E-03\t ||Error=5.33E-04  \t|| hoe=-1.10E-04 \t|| H=-1.10E-04\t||ratio=9.99E-01\n",
      "-0.23809280000000044 -0.23808000000000043 -0.23806720000000042\n"
     ]
    },
    {
     "data": {
      "text/plain": [
       "-0.23808000000000043"
      ]
     },
     "execution_count": 13,
     "metadata": {},
     "output_type": "execute_result"
    }
   ],
   "source": [
    "lr_calibrate(model, ds, loss_fn)"
   ]
  },
  {
   "cell_type": "code",
   "execution_count": 14,
   "metadata": {},
   "outputs": [
    {
     "data": {
      "text/plain": [
       "<matplotlib.image.AxesImage at 0x7f69c01ec390>"
      ]
     },
     "execution_count": 14,
     "metadata": {},
     "output_type": "execute_result"
    },
    {
     "data": {
      "image/png": "[encoded data removed]",
      "text/plain": [
       "<Figure size 432x288 with 1 Axes>"
      ]
     },
     "metadata": {
      "needs_background": "light"
     },
     "output_type": "display_data"
    }
   ],
   "source": [
    "H = block_hessian(model, ds, loss_fn, lr)\n",
    "plt.imshow(H.abs().cpu().numpy())"
   ]
  },
  {
   "cell_type": "code",
   "execution_count": null,
   "metadata": {},
   "outputs": [],
   "source": []
  }
 ],
 "metadata": {
  "kernelspec": {
   "display_name": "Python 3",
   "language": "python",
   "name": "python3"
  },
  "language_info": {
   "codemirror_mode": {
    "name": "ipython",
    "version": 3
   },
   "file_extension": ".py",
   "mimetype": "text/x-python",
   "name": "python",
   "nbconvert_exporter": "python",
   "pygments_lexer": "ipython3",
   "version": "3.6.8"
  }
 },
 "nbformat": 4,
 "nbformat_minor": 4
}
