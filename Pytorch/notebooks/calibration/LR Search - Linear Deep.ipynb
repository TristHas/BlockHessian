{
 "cells": [
  {
   "cell_type": "code",
   "execution_count": 1,
   "metadata": {},
   "outputs": [],
   "source": [
    "import sys\n",
    "import numpy as np\n",
    "import torch\n",
    "import matplotlib.pyplot as plt\n",
    "plt.style.use(\"dark_background\")\n",
    "%matplotlib inline\n",
    "\n",
    "sys.path.append(\"../../src\")\n",
    "from models import MLP\n",
    "from data import gen_rnd_ds\n",
    "from losses import LinearClassification\n",
    "from block_analysis import block_hessian, curvature_effects"
   ]
  },
  {
   "cell_type": "markdown",
   "metadata": {},
   "source": [
    "## Helpers"
   ]
  },
  {
   "cell_type": "code",
   "execution_count": 2,
   "metadata": {},
   "outputs": [],
   "source": [
    "def get_model_ds_loss():    \n",
    "    model =  MLP(inp_dim, hid_dim, out_dim, nlayer, bias, mode).cuda(device)\n",
    "    ds = gen_rnd_ds(inp_dim, inp_mean, inp_var, \n",
    "                   out_dim, nsamp, device)\n",
    "    loss_fn = LinearClassification(out_dim)\n",
    "    return model, ds, loss_fn"
   ]
  },
  {
   "cell_type": "code",
   "execution_count": 6,
   "metadata": {},
   "outputs": [],
   "source": [
    "def pp(lr, delta, h, H):\n",
    "    \"\"\"\n",
    "    \"\"\"\n",
    "    rel = abs((h.item() - H.sum().item()) / min(abs(H.sum().item()), abs(h.item())))\n",
    "    print(f\"LR {lr:.2E} \\t ||Error={rel:.2E}  \\t ||H={h.item():.2E} \\t || BH={H.sum().item():.2E} \\t || Delta={delta:.2E}\")\n",
    "\n",
    "def lr_range(model, ds, loss_fn, start=-8, stop=8, step=1, log_scale=True):\n",
    "    \"\"\"\n",
    "    \"\"\"\n",
    "    for lr in range(start, stop, step):\n",
    "        if log_scale:\n",
    "            lr = 10**lr\n",
    "        H = block_hessian(model, ds, loss_fn, lr)\n",
    "        delta, h = curvature_effects(model, ds, loss_fn, lr)\n",
    "        pp(lr, delta, h, H)"
   ]
  },
  {
   "cell_type": "markdown",
   "metadata": {},
   "source": [
    "## Params"
   ]
  },
  {
   "cell_type": "code",
   "execution_count": 7,
   "metadata": {},
   "outputs": [],
   "source": [
    "# Model\n",
    "mode = \"linear\"\n",
    "bias = False\n",
    "nlayer = 3\n",
    "inp_dim = 10 \n",
    "out_dim = 10\n",
    "hid_dim = 100\n",
    "\n",
    "# Data parameters\n",
    "nsamp = 100\n",
    "inp_mean = 0\n",
    "inp_var = 1\n",
    "\n",
    "# Others\n",
    "device = 0\n",
    "lr = 7"
   ]
  },
  {
   "cell_type": "code",
   "execution_count": 8,
   "metadata": {},
   "outputs": [
    {
     "name": "stdout",
     "output_type": "stream",
     "text": [
      "LR 1.00E-08 \t ||Error=6.40E-08  \t ||H=4.89E+05 \t || BH=4.89E+05 \t || Delta=0.00E+00\n",
      "LR 1.00E-07 \t ||Error=0.00E+00  \t ||H=4.89E+04 \t || BH=4.89E+04 \t || Delta=0.00E+00\n",
      "LR 1.00E-06 \t ||Error=8.35E-02  \t ||H=3.02E+03 \t || BH=2.79E+03 \t || Delta=9.31E-10\n",
      "LR 1.00E-05 \t ||Error=1.47E-01  \t ||H=1.59E+01 \t || BH=1.82E+01 \t || Delta=2.36E-08\n",
      "LR 1.00E-04 \t ||Error=3.99E+00  \t ||H=-4.08E-02 \t || BH=-2.04E-01 \t || Delta=2.44E-07\n",
      "LR 1.00E-03 \t ||Error=2.91E-04  \t ||H=3.42E-04 \t || BH=3.42E-04 \t || Delta=2.44E-06\n",
      "LR 1.00E-02 \t ||Error=6.05E-01  \t ||H=3.89E-06 \t || BH=6.25E-06 \t || Delta=2.44E-05\n",
      "LR 1.00E-01 \t ||Error=2.44E-03  \t ||H=9.91E-06 \t || BH=9.94E-06 \t || Delta=2.44E-04\n",
      "LR 1.00E+00 \t ||Error=3.97E-04  \t ||H=9.94E-06 \t || BH=9.95E-06 \t || Delta=2.44E-03\n",
      "LR 1.00E+01 \t ||Error=2.54E-03  \t ||H=9.92E-06 \t || BH=9.95E-06 \t || Delta=2.39E-02\n",
      "LR 1.00E+02 \t ||Error=2.60E-02  \t ||H=9.69E-06 \t || BH=9.95E-06 \t || Delta=1.96E-01\n",
      "LR 1.00E+03 \t ||Error=3.40E-01  \t ||H=7.42E-06 \t || BH=9.95E-06 \t || Delta=-1.27E+00\n",
      "LR 1.00E+04 \t ||Error=2.54E+00  \t ||H=-1.53E-05 \t || BH=9.95E-06 \t || Delta=7.89E+02\n",
      "LR 1.00E+05 \t ||Error=2.54E+01  \t ||H=-2.42E-04 \t || BH=9.95E-06 \t || Delta=1.21E+06\n",
      "LR 1.00E+06 \t ||Error=2.54E+02  \t ||H=-2.51E-03 \t || BH=9.95E-06 \t || Delta=1.26E+09\n",
      "LR 1.00E+07 \t ||Error=2.54E+03  \t ||H=-2.52E-02 \t || BH=9.95E-06 \t || Delta=1.26E+12\n"
     ]
    }
   ],
   "source": [
    "model, ds, loss_fn = get_model_ds_loss()\n",
    "lr_range(model, ds, loss_fn, -8, 8, 1, True)"
   ]
  },
  {
   "cell_type": "code",
   "execution_count": 6,
   "metadata": {},
   "outputs": [
    {
     "name": "stdout",
     "output_type": "stream",
     "text": [
      "LR 1.00E+00 \t || Delta=4.14E-04\t ||Error=5.56E-04  \t|| hoe=-7.73E-07 \t|| H=-7.72E-07\n",
      "LR 2.00E+00 \t || Delta=8.28E-04\t ||Error=2.59E-04  \t|| hoe=-7.73E-07 \t|| H=-7.73E-07\n",
      "LR 3.00E+00 \t || Delta=1.24E-03\t ||Error=2.27E-04  \t|| hoe=-7.73E-07 \t|| H=-7.73E-07\n",
      "LR 4.00E+00 \t || Delta=1.66E-03\t ||Error=2.89E-04  \t|| hoe=-7.73E-07 \t|| H=-7.73E-07\n",
      "LR 5.00E+00 \t || Delta=2.08E-03\t ||Error=3.19E-04  \t|| hoe=-7.73E-07 \t|| H=-7.73E-07\n",
      "LR 6.00E+00 \t || Delta=2.49E-03\t ||Error=6.24E-04  \t|| hoe=-7.73E-07 \t|| H=-7.73E-07\n",
      "LR 7.00E+00 \t || Delta=2.91E-03\t ||Error=6.68E-04  \t|| hoe=-7.73E-07 \t|| H=-7.73E-07\n",
      "LR 8.00E+00 \t || Delta=3.33E-03\t ||Error=7.54E-04  \t|| hoe=-7.73E-07 \t|| H=-7.73E-07\n",
      "LR 9.00E+00 \t || Delta=3.75E-03\t ||Error=8.16E-04  \t|| hoe=-7.74E-07 \t|| H=-7.73E-07\n",
      "LR 1.00E+01 \t || Delta=4.17E-03\t ||Error=9.40E-04  \t|| hoe=-7.74E-07 \t|| H=-7.73E-07\n",
      "LR 1.10E+01 \t || Delta=4.59E-03\t ||Error=1.02E-03  \t|| hoe=-7.74E-07 \t|| H=-7.73E-07\n",
      "LR 1.20E+01 \t || Delta=5.01E-03\t ||Error=1.13E-03  \t|| hoe=-7.74E-07 \t|| H=-7.73E-07\n",
      "LR 1.30E+01 \t || Delta=5.44E-03\t ||Error=1.22E-03  \t|| hoe=-7.74E-07 \t|| H=-7.73E-07\n",
      "LR 1.40E+01 \t || Delta=5.86E-03\t ||Error=1.31E-03  \t|| hoe=-7.74E-07 \t|| H=-7.73E-07\n",
      "LR 1.50E+01 \t || Delta=6.28E-03\t ||Error=1.41E-03  \t|| hoe=-7.74E-07 \t|| H=-7.73E-07\n",
      "LR 1.60E+01 \t || Delta=6.71E-03\t ||Error=1.52E-03  \t|| hoe=-7.74E-07 \t|| H=-7.73E-07\n",
      "LR 1.70E+01 \t || Delta=7.14E-03\t ||Error=1.59E-03  \t|| hoe=-7.74E-07 \t|| H=-7.73E-07\n",
      "LR 1.80E+01 \t || Delta=7.56E-03\t ||Error=1.69E-03  \t|| hoe=-7.74E-07 \t|| H=-7.73E-07\n",
      "LR 1.90E+01 \t || Delta=7.99E-03\t ||Error=1.79E-03  \t|| hoe=-7.74E-07 \t|| H=-7.73E-07\n"
     ]
    }
   ],
   "source": [
    "lr_range(model, ds, loss_fn, 1, 20, 1, False)"
   ]
  },
  {
   "cell_type": "code",
   "execution_count": null,
   "metadata": {},
   "outputs": [],
   "source": []
  }
 ],
 "metadata": {
  "kernelspec": {
   "display_name": "Python 3",
   "language": "python",
   "name": "python3"
  },
  "language_info": {
   "codemirror_mode": {
    "name": "ipython",
    "version": 3
   },
   "file_extension": ".py",
   "mimetype": "text/x-python",
   "name": "python",
   "nbconvert_exporter": "python",
   "pygments_lexer": "ipython3",
   "version": "3.6.5"
  }
 },
 "nbformat": 4,
 "nbformat_minor": 2
}
