{
 "cells": [
  {
   "cell_type": "code",
   "execution_count": 1,
   "metadata": {},
   "outputs": [],
   "source": [
    "import sys\n",
    "import numpy as np\n",
    "import torch\n",
    "import torch.nn as nn\n",
    "import matplotlib.pyplot as plt\n",
    "from hessian_eigenthings import compute_hessian_eigenthings\n",
    "plt.style.use(\"dark_background\")\n",
    "%matplotlib inline"
   ]
  },
  {
   "cell_type": "code",
   "execution_count": 2,
   "metadata": {},
   "outputs": [],
   "source": [
    "sys.path.append(\"../../src\")\n",
    "from models import MLP\n",
    "from data import gen_rnd_ds\n",
    "from losses import LinearClassification, SquaredClassification\n",
    "from block_analysis import *\n",
    "from derivation import get_hessian_grad_block, block_norm"
   ]
  },
  {
   "cell_type": "markdown",
   "metadata": {},
   "source": [
    "## Params"
   ]
  },
  {
   "cell_type": "code",
   "execution_count": 6,
   "metadata": {},
   "outputs": [],
   "source": [
    "mode = \"linear\"\n",
    "bias = False\n",
    "nlayer = 2\n",
    "inp_dim = 10 \n",
    "out_dim = 10\n",
    "hid_dim = 10\n",
    "nsamp = 5000\n",
    "Neigen = 50\n",
    "device = 0"
   ]
  },
  {
   "cell_type": "markdown",
   "metadata": {},
   "source": [
    "### Understood"
   ]
  },
  {
   "cell_type": "code",
   "execution_count": 11,
   "metadata": {},
   "outputs": [
    {
     "data": {
      "text/plain": [
       "<matplotlib.collections.PathCollection at 0x7ff86c04b6d8>"
      ]
     },
     "execution_count": 11,
     "metadata": {},
     "output_type": "execute_result"
    },
    {
     "data": {
      "image/png": "[encoded data removed]",
      "text/plain": [
       "<Figure size 432x288 with 1 Axes>"
      ]
     },
     "metadata": {},
     "output_type": "display_data"
    }
   ],
   "source": [
    "inp_mean = 0\n",
    "inp_var = 1\n",
    "ds = gen_rnd_ds(inp_dim, inp_mean, inp_var, \n",
    "                out_dim, nsamp, device)\n",
    "loss_fn = SquaredClassification(out_dim)\n",
    "model = nn.Linear(inp_dim, out_dim, bias=False).cuda()\n",
    "\n",
    "eigenvals, eigenvecs = compute_hessian_eigenthings(model, ds,\n",
    "                                                  loss_fn, Neigen)\n",
    "\n",
    "plt.scatter(torch.arange(len(eigenvals)), eigenvals)"
   ]
  },
  {
   "cell_type": "code",
   "execution_count": 9,
   "metadata": {},
   "outputs": [
    {
     "data": {
      "text/plain": [
       "<matplotlib.collections.PathCollection at 0x7ff86c102550>"
      ]
     },
     "execution_count": 9,
     "metadata": {},
     "output_type": "execute_result"
    },
    {
     "data": {
      "image/png": "[encoded data removed]",
      "text/plain": [
       "<Figure size 432x288 with 1 Axes>"
      ]
     },
     "metadata": {},
     "output_type": "display_data"
    }
   ],
   "source": [
    "# Non-centered input create out_dim outlier eigen-values\n",
    "inp_mean = 1\n",
    "inp_var = 1\n",
    "\n",
    "ds = gen_rnd_ds(inp_dim, inp_mean, inp_var, \n",
    "                out_dim, nsamp, device)\n",
    "loss_fn = SquaredClassification(out_dim)\n",
    "model = nn.Linear(inp_dim, out_dim, bias=False).cuda()\n",
    "\n",
    "eigenvals, eigenvecs = compute_hessian_eigenthings(model, ds,\n",
    "                                                  loss_fn, Neigen)\n",
    "\n",
    "plt.scatter(torch.arange(len(eigenvals)), eigenvals)"
   ]
  },
  {
   "cell_type": "markdown",
   "metadata": {},
   "source": [
    "## Not Understood"
   ]
  },
  {
   "cell_type": "markdown",
   "metadata": {},
   "source": [
    "### Two layers - Squared loss\n",
    "\n",
    "The spectrum of centered inputs show some weird features\n",
    "\n",
    "The spectrum of non-centered inputs:\n",
    "- No longer shows a clean separation of the outliers\n",
    "- also has a weird, though less obvious, breaking point"
   ]
  },
  {
   "cell_type": "code",
   "execution_count": 13,
   "metadata": {},
   "outputs": [
    {
     "data": {
      "text/plain": [
       "<matplotlib.collections.PathCollection at 0x7ff872e82518>"
      ]
     },
     "execution_count": 13,
     "metadata": {},
     "output_type": "execute_result"
    },
    {
     "data": {
      "image/png": "[encoded data removed]",
      "text/plain": [
       "<Figure size 432x288 with 1 Axes>"
      ]
     },
     "metadata": {},
     "output_type": "display_data"
    }
   ],
   "source": [
    "inp_mean = 0\n",
    "inp_var = 1\n",
    "\n",
    "ds = gen_rnd_ds(inp_dim, inp_mean, inp_var, \n",
    "                out_dim, nsamp, device)\n",
    "loss_fn = SquaredClassification(out_dim)\n",
    "model = nn.Sequential(*[\n",
    "    nn.Linear(inp_dim, hid_dim, bias=False).cuda(),\n",
    "    nn.Linear(hid_dim, out_dim, bias=False).cuda()\n",
    "])\n",
    "\n",
    "eigenvals, eigenvecs = compute_hessian_eigenthings(model, ds,\n",
    "                                                  loss_fn, Neigen)\n",
    "\n",
    "plt.scatter(torch.arange(len(eigenvals)), eigenvals)"
   ]
  },
  {
   "cell_type": "code",
   "execution_count": 12,
   "metadata": {},
   "outputs": [
    {
     "data": {
      "text/plain": [
       "<matplotlib.collections.PathCollection at 0x7ff866fbffd0>"
      ]
     },
     "execution_count": 12,
     "metadata": {},
     "output_type": "execute_result"
    },
    {
     "data": {
      "image/png": "[encoded data removed]",
      "text/plain": [
       "<Figure size 432x288 with 1 Axes>"
      ]
     },
     "metadata": {},
     "output_type": "display_data"
    }
   ],
   "source": [
    "inp_mean = 1\n",
    "inp_var = 1\n",
    "\n",
    "ds = gen_rnd_ds(inp_dim, inp_mean, inp_var, \n",
    "                out_dim, nsamp, device)\n",
    "loss_fn = SquaredClassification(out_dim)\n",
    "model = nn.Sequential(*[\n",
    "    nn.Linear(inp_dim, hid_dim, bias=False).cuda(),\n",
    "    nn.Linear(hid_dim, out_dim, bias=False).cuda()\n",
    "])\n",
    "\n",
    "eigenvals, eigenvecs = compute_hessian_eigenthings(model, ds,\n",
    "                                                  loss_fn, Neigen)\n",
    "\n",
    "plt.scatter(torch.arange(len(eigenvals)), eigenvals)"
   ]
  },
  {
   "cell_type": "markdown",
   "metadata": {},
   "source": [
    "### Two layers, linear loss"
   ]
  },
  {
   "cell_type": "code",
   "execution_count": 15,
   "metadata": {},
   "outputs": [
    {
     "data": {
      "text/plain": [
       "<matplotlib.collections.PathCollection at 0x7ff866ec66a0>"
      ]
     },
     "execution_count": 15,
     "metadata": {},
     "output_type": "execute_result"
    },
    {
     "data": {
      "image/png": "[encoded data removed]",
      "text/plain": [
       "<Figure size 432x288 with 1 Axes>"
      ]
     },
     "metadata": {},
     "output_type": "display_data"
    }
   ],
   "source": [
    "inp_mean = 0\n",
    "inp_var = 1\n",
    "\n",
    "ds = gen_rnd_ds(inp_dim, inp_mean, inp_var, \n",
    "                out_dim, nsamp, device)\n",
    "loss_fn = LinearClassification(out_dim)\n",
    "model = nn.Sequential(*[\n",
    "    nn.Linear(inp_dim, hid_dim, bias=False).cuda(),\n",
    "    nn.Linear(hid_dim, out_dim, bias=False).cuda()\n",
    "])\n",
    "\n",
    "eigenvals, eigenvecs = compute_hessian_eigenthings(model, ds,\n",
    "                                                  loss_fn, Neigen)\n",
    "plt.scatter(torch.arange(len(eigenvals)), eigenvals)"
   ]
  },
  {
   "cell_type": "code",
   "execution_count": 14,
   "metadata": {},
   "outputs": [
    {
     "data": {
      "text/plain": [
       "<matplotlib.collections.PathCollection at 0x7ff872e97518>"
      ]
     },
     "execution_count": 14,
     "metadata": {},
     "output_type": "execute_result"
    },
    {
     "data": {
      "image/png": "[encoded data removed]",
      "text/plain": [
       "<Figure size 432x288 with 1 Axes>"
      ]
     },
     "metadata": {},
     "output_type": "display_data"
    }
   ],
   "source": [
    "inp_mean = 1\n",
    "inp_var = 1\n",
    "\n",
    "ds = gen_rnd_ds(inp_dim, inp_mean, inp_var, \n",
    "                out_dim, nsamp, device)\n",
    "loss_fn = LinearClassification(out_dim)\n",
    "model = nn.Sequential(*[\n",
    "    nn.Linear(inp_dim, hid_dim, bias=False).cuda(),\n",
    "    nn.Linear(hid_dim, out_dim, bias=False).cuda()\n",
    "])\n",
    "\n",
    "eigenvals, eigenvecs = compute_hessian_eigenthings(model, ds,\n",
    "                                                  loss_fn, Neigen)\n",
    "plt.scatter(torch.arange(len(eigenvals)), eigenvals)"
   ]
  },
  {
   "cell_type": "code",
   "execution_count": null,
   "metadata": {},
   "outputs": [],
   "source": []
  },
  {
   "cell_type": "code",
   "execution_count": null,
   "metadata": {},
   "outputs": [],
   "source": []
  },
  {
   "cell_type": "code",
   "execution_count": null,
   "metadata": {},
   "outputs": [],
   "source": []
  },
  {
   "cell_type": "code",
   "execution_count": null,
   "metadata": {},
   "outputs": [],
   "source": []
  },
  {
   "cell_type": "markdown",
   "metadata": {},
   "source": [
    "### Legacy: David Page's eigen tools adaptation"
   ]
  },
  {
   "cell_type": "code",
   "execution_count": null,
   "metadata": {},
   "outputs": [],
   "source": [
    "import scipy.sparse.linalg\n",
    "from itertools import count\n",
    "\n",
    "loss_grad = lambda model, x: to_vec(torch.autograd.grad( loss_fn(model(x[0]),x[1]),\n",
    "                                                            list(model.parameters()), \n",
    "                                                            create_graph=True\n",
    "                                                          )\n",
    "                                      )\n",
    "\n",
    "to_vec = lambda list_of_tensors: torch.cat([x.reshape(-1) for x in list_of_tensors])\n",
    "\n",
    "def flatten(x):\n",
    "    return x.view(x.size(0), x.size(1))\n",
    "\n",
    "def to_numpy(x):\n",
    "    if isinstance(x, torch.Tensor):\n",
    "        return x.detach().cpu().numpy()  \n",
    "    return x\n",
    "\n",
    "def compute_grad(model, batches, outputs, vec=None):\n",
    "    return sum(to_vec(torch.autograd.grad(outputs(model, batch), list(model.parameters()), grad_outputs=vec, only_inputs=True)).to(dtype=torch.float)\n",
    "        for batch in batches)/len(batches) #i believe sum(generator)/len is memory efficient but i haven't checked...\n",
    "\n",
    "\n",
    "class HvOperator(scipy.sparse.linalg.LinearOperator):\n",
    "    def __init__(self, model, batches, projection=None):\n",
    "        self.model, self.batches, self.projection = model, batches, projection\n",
    "        params = list(model.parameters())\n",
    "        size = int(sum(x.numel() for x in params))\n",
    "        self.shape = (size, size)\n",
    "        self.dtype, self.torch_dtype = np.dtype('float32'), params[0].dtype\n",
    "        #self.iteration, self.table, self.timer = count(1), Table(report_every=10), Timer()\n",
    "\n",
    "    def _matvec(self, v):\n",
    "        v = torch.tensor(v, dtype=self.torch_dtype, device=device)\n",
    "        Hv = to_numpy(compute_grad(self.model, self.batches, loss_grad, v))\n",
    "        #self.table.append({'iteration': next(self.iteration), 'time': self.timer(), 'total time': self.timer.total_time})\n",
    "        return self.projection(Hv) if self.projection else Hv\n",
    "\n",
    "def compute_top_k_eigens(op, k, tol=1e-4):\n",
    "    eigenvals, eigenvecs = scipy.sparse.linalg.eigsh(A=op, k=k, tol=tol, return_eigenvectors=True)\n",
    "    return eigenvals[-1::-1], eigenvecs.T[-1::-1]\n",
    "\n",
    "Neigen = 5\n",
    "model, ds, loss_fn = get_model_ds_loss()\n",
    "model = nn.Linear(inp_dim, out_dim, bias=False).cuda()\n",
    "\n",
    "op = HvOperator(model, ds)\n",
    "eigenvals, eigenvecs = compute_top_k_eigens(op, k=Neigen)\n",
    "plt.scatter(torch.arange(len(eigenvals)), eigenvals)"
   ]
  }
 ],
 "metadata": {
  "kernelspec": {
   "display_name": "Python 3",
   "language": "python",
   "name": "python3"
  },
  "language_info": {
   "codemirror_mode": {
    "name": "ipython",
    "version": 3
   },
   "file_extension": ".py",
   "mimetype": "text/x-python",
   "name": "python",
   "nbconvert_exporter": "python",
   "pygments_lexer": "ipython3",
   "version": "3.6.5"
  }
 },
 "nbformat": 4,
 "nbformat_minor": 2
}
