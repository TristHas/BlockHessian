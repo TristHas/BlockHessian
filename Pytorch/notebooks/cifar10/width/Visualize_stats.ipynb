{
 "cells": [
  {
   "cell_type": "code",
   "execution_count": null,
   "metadata": {},
   "outputs": [],
   "source": [
    "import sys\n",
    "import matplotlib.pyplot as plt\n",
    "%matplotlib inline\n",
    "import pickle\n",
    "import numpy as np\n",
    "from matplotlib.animation import FuncAnimation\n",
    "from IPython.display import HTML\n",
    "import matplotlib\n",
    "matplotlib.rcParams['animation.embed_limit']=200\n",
    "from matplotlib.gridspec import GridSpec\n",
    "import glob\n",
    "\n",
    "sys.path.append(\"../../../src\")\n",
    "from visualize import vals_anime"
   ]
  },
  {
   "cell_type": "code",
   "execution_count": null,
   "metadata": {},
   "outputs": [],
   "source": [
    "def vis_width(data, nframes=2000, title=None):\n",
    "    \n",
    "    fig = plt.figure(figsize=(12,8))\n",
    "    gs = GridSpec(1,2)\n",
    "    ax_loss = plt.subplot(gs[0])\n",
    "    ax_acc = plt.subplot(gs[1])\n",
    "    animes = []\n",
    "\n",
    "    for i, fname in enumerate(sorted(glob.iglob(data))):\n",
    "        f = open(fname,'rb')\n",
    "        stat = pickle.load(f)\n",
    "        f.close()\n",
    "        loss = stat[\"loss\"]\n",
    "        acc = stat[\"acc\"]\n",
    "        animes.append(vals_anime(loss[:nframes], ax_loss, \"loss\"))\n",
    "        animes.append(vals_anime(acc[:nframes], ax_acc, \"acc\"))\n",
    "    ax_loss.legend([\"16\",\"16\",\"32\",\"32\",\"64\",\"64\",\"128\",\"128\"])\n",
    "    ax_acc.legend([\"16\",\"16\",\"32\",\"32\",\"64\",\"64\",\"128\",\"128\"])\n",
    "            \n",
    "    def init():\n",
    "        for anime in animes:\n",
    "            anime.init()\n",
    "        fig.suptitle(f\"[{title}] i=0\")\n",
    "        return\n",
    "\n",
    "    def update(i):\n",
    "        #t = i*valfreq\n",
    "        for anime in animes:\n",
    "            anime.update(i)        \n",
    "        fig.suptitle(f\"[{title}] i={i}\")\n",
    "        return\n",
    "\n",
    "    ani = FuncAnimation(fig, update, init_func=init, frames=nframes,\n",
    "                        interval=50)\n",
    "    ani = ani.to_jshtml()\n",
    "    #ani = ani.to_html5_video()\n",
    "    plt.close()\n",
    "    return ani#HTML(ani)\n"
   ]
  },
  {
   "cell_type": "code",
   "execution_count": null,
   "metadata": {},
   "outputs": [],
   "source": [
    "ani_width = vis_width(\"loss_acc/*\", nframes=20, title=\"Layer Width Analysis\")"
   ]
  },
  {
   "cell_type": "code",
   "execution_count": null,
   "metadata": {},
   "outputs": [],
   "source": [
    "HTML(ani_width)"
   ]
  },
  {
   "cell_type": "code",
   "execution_count": null,
   "metadata": {},
   "outputs": [],
   "source": []
  }
 ],
 "metadata": {
  "kernelspec": {
   "display_name": "Python 3",
   "language": "python",
   "name": "python3"
  },
  "language_info": {
   "codemirror_mode": {
    "name": "ipython",
    "version": 3
   },
   "file_extension": ".py",
   "mimetype": "text/x-python",
   "name": "python",
   "nbconvert_exporter": "python",
   "pygments_lexer": "ipython3",
   "version": "3.7.3"
  }
 },
 "nbformat": 4,
 "nbformat_minor": 4
}
