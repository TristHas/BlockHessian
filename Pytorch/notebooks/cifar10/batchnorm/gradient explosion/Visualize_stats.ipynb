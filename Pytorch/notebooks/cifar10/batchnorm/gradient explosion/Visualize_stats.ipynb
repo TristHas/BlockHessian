{
 "cells": [
  {
   "cell_type": "code",
   "execution_count": null,
   "metadata": {},
   "outputs": [],
   "source": [
    "import sys\n",
    "import matplotlib.pyplot as plt\n",
    "%matplotlib inline\n",
    "import pickle\n",
    "import numpy as np\n",
    "from matplotlib.animation import FuncAnimation\n",
    "from IPython.display import HTML\n",
    "import matplotlib\n",
    "matplotlib.rcParams['animation.embed_limit']=200\n",
    "from matplotlib.gridspec import GridSpec\n",
    "import glob\n",
    "\n",
    "sys.path.append(\"../../../../src\")\n",
    "from visualize import vals_anime, imgs_anime, bars_anime\n",
    "\n",
    "sys.path.append(\"../..\")\n",
    "from helpers import get_delta_fo_ho"
   ]
  },
  {
   "cell_type": "code",
   "execution_count": null,
   "metadata": {},
   "outputs": [],
   "source": [
    "def vis_GE(data, nframes=2000, title=None):\n",
    "    \n",
    "    fig = plt.figure(figsize=(12,8))\n",
    "    gs = GridSpec(2,3)\n",
    "        \n",
    "    animes = []\n",
    "\n",
    "    for i, fname in enumerate(sorted(glob.iglob(data))):\n",
    "        ax = plt.subplot(gs[i])\n",
    "        f = open(fname,'rb')\n",
    "        stat = pickle.load(f)\n",
    "        f.close()\n",
    "        bn = fname.split(\"_\")[-1].split(\".\")[0]\n",
    "        delta = get_delta_fo_ho(stat, bn_code=bn)\n",
    "        animes.append(bars_anime(delta[:nframes], ax, fname.split(\"_\")[2], True))\n",
    "        ax.legend([\"delta\",\"fo\",\"ho\"])\n",
    "            \n",
    "    def init():\n",
    "        for anime in animes:\n",
    "            anime.init()\n",
    "        fig.suptitle(f\"[{title}] i=0\")\n",
    "        return\n",
    "\n",
    "    def update(i):\n",
    "        #t = i*valfreq\n",
    "        for anime in animes:\n",
    "            anime.update(i)        \n",
    "        fig.suptitle(f\"[{title}] i={i}\")\n",
    "        return\n",
    "\n",
    "    ani = FuncAnimation(fig, update, init_func=init, frames=nframes,\n",
    "                        interval=50)\n",
    "    ani = ani.to_jshtml()\n",
    "    #ani = ani.to_html5_video()\n",
    "    plt.close()\n",
    "    return ani#HTML(ani)"
   ]
  },
  {
   "cell_type": "code",
   "execution_count": null,
   "metadata": {},
   "outputs": [],
   "source": [
    "ani_GE = vis_GE(\"H_lr_fostat/*\", nframes=10, title=\"Gradient Explosion\")"
   ]
  },
  {
   "cell_type": "code",
   "execution_count": null,
   "metadata": {},
   "outputs": [],
   "source": [
    "HTML(ani_GE)"
   ]
  },
  {
   "cell_type": "code",
   "execution_count": null,
   "metadata": {},
   "outputs": [],
   "source": []
  }
 ],
 "metadata": {
  "kernelspec": {
   "display_name": "Python 3",
   "language": "python",
   "name": "python3"
  },
  "language_info": {
   "codemirror_mode": {
    "name": "ipython",
    "version": 3
   },
   "file_extension": ".py",
   "mimetype": "text/x-python",
   "name": "python",
   "nbconvert_exporter": "python",
   "pygments_lexer": "ipython3",
   "version": "3.7.3"
  }
 },
 "nbformat": 4,
 "nbformat_minor": 4
}
