{
 "cells": [
  {
   "cell_type": "code",
   "execution_count": null,
   "metadata": {},
   "outputs": [],
   "source": [
    "import sys\n",
    "import matplotlib.pyplot as plt\n",
    "%matplotlib inline\n",
    "import pickle\n",
    "import numpy as np\n",
    "from matplotlib.animation import FuncAnimation\n",
    "from IPython.display import HTML\n",
    "import matplotlib\n",
    "matplotlib.rcParams['animation.embed_limit']=200\n",
    "import glob\n",
    "\n",
    "sys.path.append(\"../../../../src\")\n",
    "from visualize import vals_anime"
   ]
  },
  {
   "cell_type": "code",
   "execution_count": null,
   "metadata": {},
   "outputs": [],
   "source": [
    "def sort_legend(ax):\n",
    "    handles, labels = ax.get_legend_handles_labels()\n",
    "    handles = [handles[i] for i in np.argsort(labels)]\n",
    "    labels = np.sort(labels)\n",
    "    ax.legend(handles, labels)\n",
    "\n",
    "def vis_LRlim(data_dirs, nframes=2000, title=None):\n",
    "    \n",
    "    fig, ax = plt.subplots(2, len(data_dirs), figsize=(16,8))\n",
    "        \n",
    "    animes = []\n",
    "    \n",
    "    for i, data_dir in enumerate(sorted(data_dirs)):        \n",
    "        for j, fname in enumerate(sorted(glob.iglob(f\"{data_dir}/*\"))):\n",
    "            f = open(fname,'rb')\n",
    "            stat = pickle.load(f)\n",
    "            f.close()\n",
    "            bn = fname.split(\"_\")[-1].split(\".\")[0]\n",
    "            lr = stat[\"lr\"]\n",
    "            loss = stat[\"loss\"]\n",
    "            acc = stat[\"acc\"]\n",
    "            animes.append(vals_anime(loss[:nframes], ax[0,i], f\"loss_{bn}\"))\n",
    "            animes.append(vals_anime(acc[:nframes], ax[1,i], f\"acc_{bn}\"))\n",
    "            animes[-2].ln.set_label(lr)\n",
    "            animes[-1].ln.set_label(lr)\n",
    "            \n",
    "    for i in range(len(data_dirs)):\n",
    "        sort_legend(ax[0,i])\n",
    "        sort_legend(ax[1,i])\n",
    "            \n",
    "    def init():\n",
    "        for anime in animes:\n",
    "            anime.init()\n",
    "        fig.suptitle(f\"[{title}] i=0\")\n",
    "        return\n",
    "\n",
    "    def update(i):\n",
    "        for anime in animes:\n",
    "            anime.update(i)        \n",
    "        fig.suptitle(f\"[{title}] i={i}\")\n",
    "        return\n",
    "\n",
    "    ani = FuncAnimation(fig, update, init_func=init, frames=nframes,\n",
    "                        interval=50)\n",
    "    ani = ani.to_jshtml()\n",
    "    #ani = ani.to_html5_video()\n",
    "    plt.close()\n",
    "    return ani#HTML(ani)\n"
   ]
  },
  {
   "cell_type": "code",
   "execution_count": null,
   "metadata": {},
   "outputs": [],
   "source": [
    "data_dirs = glob.glob(\"loss_acc_lr/*\")\n",
    "\n",
    "ani_LRlim = vis_LRlim(data_dirs, nframes=20, title=\"LR limitation\")"
   ]
  },
  {
   "cell_type": "code",
   "execution_count": null,
   "metadata": {},
   "outputs": [],
   "source": [
    "HTML(ani_LRlim)"
   ]
  },
  {
   "cell_type": "code",
   "execution_count": null,
   "metadata": {},
   "outputs": [],
   "source": []
  }
 ],
 "metadata": {
  "kernelspec": {
   "display_name": "Python 3",
   "language": "python",
   "name": "python3"
  },
  "language_info": {
   "codemirror_mode": {
    "name": "ipython",
    "version": 3
   },
   "file_extension": ".py",
   "mimetype": "text/x-python",
   "name": "python",
   "nbconvert_exporter": "python",
   "pygments_lexer": "ipython3",
   "version": "3.7.3"
  }
 },
 "nbformat": 4,
 "nbformat_minor": 4
}
