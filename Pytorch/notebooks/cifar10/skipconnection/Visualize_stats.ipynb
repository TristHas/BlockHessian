{
 "cells": [
  {
   "cell_type": "code",
   "execution_count": null,
   "metadata": {},
   "outputs": [],
   "source": [
    "import sys\n",
    "import matplotlib.pyplot as plt\n",
    "%matplotlib inline\n",
    "import pickle\n",
    "import numpy as np\n",
    "from matplotlib.animation import FuncAnimation\n",
    "from IPython.display import HTML\n",
    "import matplotlib\n",
    "matplotlib.rcParams['animation.embed_limit']=1000\n",
    "import glob\n",
    "\n",
    "sys.path.append(\"../../../src\")\n",
    "from visualize import imgs_anime, bars_anime\n",
    "\n",
    "sys.path.append(\"..\")\n",
    "from helpers import get_delta_fo_ho, skip_BN_params"
   ]
  },
  {
   "cell_type": "code",
   "execution_count": null,
   "metadata": {},
   "outputs": [],
   "source": [
    "def vis_BH_bar(data, nframes=2000, title=None):\n",
    "    \n",
    "    fig, ax = plt.subplots(2, 4, figsize=(18,10))\n",
    "\n",
    "    animes = []\n",
    "    count = 0\n",
    "    for i, fname in enumerate(sorted(glob.iglob(data))):\n",
    "        with open(fname,'rb') as f:\n",
    "            stat = pickle.load(f)\n",
    "        nskip = fname.split(\"_\")[-2]\n",
    "        bn = fname.split(\"_\")[-1].split(\".\")[0]\n",
    "        BH = skip_BN_params(stat[\"H\"], bn)\n",
    "        delta = get_delta_fo_ho(stat, bn_code=bn, BH=BH)\n",
    "        animes.append(imgs_anime(BH, ax[0,count], f\"{nskip}\"))\n",
    "        animes.append(bars_anime(delta, ax[1,count], f\"{nskip}\"))\n",
    "        count += 1\n",
    "        #ax[i].legend([\"loss\", \"loss\", \"delta_loss_sum\", \"delta_loss_sum\", \"fo\", \"fo\", \"ho\", \"ho\"])\n",
    "\n",
    "    def init():\n",
    "        for anime in animes:\n",
    "            anime.init()\n",
    "        fig.suptitle(f\"[{title}] i=0\")\n",
    "        return\n",
    "\n",
    "    def update(i):\n",
    "        #t = i*valfreq\n",
    "        for anime in animes:\n",
    "            anime.update(i)        \n",
    "        fig.suptitle(f\"[{title}] i={i}\")\n",
    "        return\n",
    "\n",
    "    ani = FuncAnimation(fig, update, init_func=init, frames=nframes,\n",
    "                        interval=50)\n",
    "    ani = ani.to_jshtml()\n",
    "    #ani = ani.to_html5_video()\n",
    "    plt.close()\n",
    "    return ani#HTML(ani)\n"
   ]
  },
  {
   "cell_type": "code",
   "execution_count": null,
   "metadata": {},
   "outputs": [],
   "source": [
    "ani_bh = vis_BH_bar(\"data1111/*\", nframes=5000, title=\"Skip Connection\")\n",
    "HTML(ani_bh)"
   ]
  },
  {
   "cell_type": "code",
   "execution_count": null,
   "metadata": {},
   "outputs": [],
   "source": [
    "ani_bh = vis_BH_bar(\"data1111_pre-skip/*\", nframes=5000, title=\"Skip Connection\")\n",
    "HTML(ani_bh)"
   ]
  },
  {
   "cell_type": "code",
   "execution_count": null,
   "metadata": {},
   "outputs": [],
   "source": [
    "with open(\"fig/1111.html\", \"w\") as f:\n",
    "    print(ani_bh, file=f)"
   ]
  },
  {
   "cell_type": "code",
   "execution_count": null,
   "metadata": {},
   "outputs": [],
   "source": []
  }
 ],
 "metadata": {
  "kernelspec": {
   "display_name": "Python 3",
   "language": "python",
   "name": "python3"
  },
  "language_info": {
   "codemirror_mode": {
    "name": "ipython",
    "version": 3
   },
   "file_extension": ".py",
   "mimetype": "text/x-python",
   "name": "python",
   "nbconvert_exporter": "python",
   "pygments_lexer": "ipython3",
   "version": "3.7.3"
  }
 },
 "nbformat": 4,
 "nbformat_minor": 4
}
