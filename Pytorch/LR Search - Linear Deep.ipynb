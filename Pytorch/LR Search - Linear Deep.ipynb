{
 "cells": [
  {
   "cell_type": "code",
   "execution_count": 1,
   "metadata": {},
   "outputs": [],
   "source": [
    "import numpy as np\n",
    "import torch\n",
    "import matplotlib.pyplot as plt\n",
    "%matplotlib inline"
   ]
  },
  {
   "cell_type": "code",
   "execution_count": 2,
   "metadata": {},
   "outputs": [],
   "source": [
    "from models import MLP\n",
    "from data import gen_rnd_ds\n",
    "from losses import LinearClassification\n",
    "from block_analysis import block_hessian, curvature_effects"
   ]
  },
  {
   "cell_type": "markdown",
   "metadata": {},
   "source": [
    "## Helpers"
   ]
  },
  {
   "cell_type": "code",
   "execution_count": 3,
   "metadata": {},
   "outputs": [],
   "source": [
    "def get_model_ds_loss():    \n",
    "    model =  MLP(inp_dim, hid_dim, out_dim, nlayer, bias, mode).cuda(device)\n",
    "    ds = gen_rnd_ds(inp_dim, inp_mean, inp_var, \n",
    "                   out_dim, nsamp, device)\n",
    "    loss_fn = LinearClassification(out_dim)\n",
    "    return model, ds, loss_fn"
   ]
  },
  {
   "cell_type": "code",
   "execution_count": 4,
   "metadata": {},
   "outputs": [],
   "source": [
    "def pp(lr, delta, h, H):\n",
    "    rel = abs((h.item() - H.sum().item()) / min(abs(H.sum().item()), abs(h.item())))\n",
    "    wari = h.item() / H.sum().item()\n",
    "    print(f\"LR {lr:.2E} \\t || Delta={delta:.2E}\\t ||Error={rel:.2E}  \\t|| hoe={h.item()} \\t|| H={H.sum().item()}\\t||wari={wari}\")\n",
    "\n",
    "def lr_range(model, ds, loss_fn, start=-8, stop=8, step=1, log_scale=False):\n",
    "    for lr in range(start, stop, step):\n",
    "        if log_scale:\n",
    "            lr = 10**lr\n",
    "        H = block_hessian(model, ds, loss_fn, lr)\n",
    "        delta, h = curvature_effects(model, ds, loss_fn, lr)\n",
    "        pp(lr, delta, h, H)"
   ]
  },
  {
   "cell_type": "markdown",
   "metadata": {},
   "source": [
    "## Params"
   ]
  },
  {
   "cell_type": "code",
   "execution_count": 5,
   "metadata": {},
   "outputs": [],
   "source": [
    "# Model\n",
    "mode = \"linear\"\n",
    "bias = False\n",
    "nlayer = 3\n",
    "inp_dim = 10 \n",
    "out_dim = 10\n",
    "hid_dim = 100\n",
    "\n",
    "# Data parameters\n",
    "nsamp = 100\n",
    "inp_mean = 0\n",
    "inp_var = 1\n",
    "\n",
    "# Others\n",
    "device = 0\n",
    "lr = 7"
   ]
  },
  {
   "cell_type": "code",
   "execution_count": 6,
   "metadata": {},
   "outputs": [
    {
     "name": "stdout",
     "output_type": "stream",
     "text": [
      "LR 1.00E-08 \t || Delta=0.00E+00\t ||Error=3.06E-07  \t|| hoe=153226.953125 \t|| H=153226.90625\t||wari=1.000000305918857\n",
      "LR 1.00E-07 \t || Delta=0.00E+00\t ||Error=6.37E-08  \t|| hoe=15322.6943359375 \t|| H=15322.693359375\t||wari=1.0000000637330837\n",
      "LR 1.00E-06 \t || Delta=5.82E-11\t ||Error=2.59E-07  \t|| hoe=1415.8541259765625 \t|| H=1415.853759765625\t||wari=1.000000258650256\n",
      "LR 1.00E-05 \t || Delta=6.69E-09\t ||Error=1.37E-01  \t|| hoe=19.349321365356445 \t|| H=17.02098846435547\t||wari=1.1367918735082194\n",
      "LR 1.00E-04 \t || Delta=7.62E-08\t ||Error=9.59E-06  \t|| hoe=0.08392788469791412 \t|| H=0.08392708003520966\t||wari=1.0000095876408917\n",
      "LR 1.00E-03 \t || Delta=7.66E-07\t ||Error=9.15E-01  \t|| hoe=0.00024385825963690877 \t|| H=0.00012732927280012518\t||wari=1.9151782954081948\n",
      "LR 1.00E-02 \t || Delta=7.66E-06\t ||Error=9.87E-01  \t|| hoe=-4.729372449219227e-06 \t|| H=-9.396786481374875e-06\t||wari=0.5032967875340354\n",
      "LR 1.00E-01 \t || Delta=7.66E-05\t ||Error=2.33E-02  \t|| hoe=-2.5451299734413624e-06 \t|| H=-2.487195160938427e-06\t||wari=1.023293231433064\n",
      "LR 1.00E+00 \t || Delta=7.67E-04\t ||Error=2.76E-04  \t|| hoe=-2.532149665057659e-06 \t|| H=-2.5314511731266975e-06\t||wari=1.000275925500115\n",
      "LR 1.00E+01 \t || Delta=7.79E-03\t ||Error=1.47E-03  \t|| hoe=-2.5361496227560565e-06 \t|| H=-2.532425469325972e-06\t||wari=1.0014705875751106\n",
      "LR 1.00E+02 \t || Delta=8.95E-02\t ||Error=1.48E-02  \t|| hoe=-2.5699048364913324e-06 \t|| H=-2.5324052330688573e-06\t||wari=1.0148078999888306\n",
      "LR 1.00E+03 \t || Delta=2.22E+00\t ||Error=1.48E-01  \t|| hoe=-2.9074426493025385e-06 \t|| H=-2.532402504584752e-06\t||wari=1.1480965778697503\n",
      "LR 1.00E+04 \t || Delta=3.22E+02\t ||Error=1.48E+00  \t|| hoe=-6.282801678025862e-06 \t|| H=-2.532402504584752e-06\t||wari=2.480964880839935\n",
      "LR 1.00E+05 \t || Delta=2.00E+05\t ||Error=1.48E+01  \t|| hoe=-4.0036400605458766e-05 \t|| H=-2.532402504584752e-06\t||wari=15.80965132240054\n",
      "LR 1.00E+06 \t || Delta=1.89E+08\t ||Error=1.48E+02  \t|| hoe=-0.00037757225800305605 \t|| H=-2.532402504584752e-06\t||wari=149.09646366226764\n",
      "LR 1.00E+07 \t || Delta=1.88E+11\t ||Error=1.48E+03  \t|| hoe=-0.003752931486815214 \t|| H=-2.532402504584752e-06\t||wari=1481.9648456439184\n"
     ]
    }
   ],
   "source": [
    "model, ds, loss_fn = get_model_ds_loss()\n",
    "lr_range(model, ds, loss_fn, -8, 8, 1, True)"
   ]
  },
  {
   "cell_type": "code",
   "execution_count": 7,
   "metadata": {},
   "outputs": [
    {
     "name": "stdout",
     "output_type": "stream",
     "text": [
      "LR 1.00E+00 \t || Delta=7.67E-04\t ||Error=2.76E-04  \t|| hoe=-2.532149665057659e-06 \t|| H=-2.5314511731266975e-06\t||wari=1.000275925500115\n",
      "LR 2.00E+00 \t || Delta=1.54E-03\t ||Error=3.56E-04  \t|| hoe=-2.5329645723104477e-06 \t|| H=-2.532062353566289e-06\t||wari=1.0003563177434742\n",
      "LR 3.00E+00 \t || Delta=2.31E-03\t ||Error=4.39E-04  \t|| hoe=-2.5336114504170837e-06 \t|| H=-2.5324991383968154e-06\t||wari=1.0004392151623682\n",
      "LR 4.00E+00 \t || Delta=3.08E-03\t ||Error=5.83E-04  \t|| hoe=-2.5338376872241497e-06 \t|| H=-2.5323606678284705e-06\t||wari=1.0005832579120515\n",
      "LR 5.00E+00 \t || Delta=3.86E-03\t ||Error=7.02E-04  \t|| hoe=-2.534203076720587e-06 \t|| H=-2.5324243324575946e-06\t||wari=1.0007023879214059\n",
      "LR 6.00E+00 \t || Delta=4.64E-03\t ||Error=8.55E-04  \t|| hoe=-2.5345943868160248e-06 \t|| H=-2.5324279704364017e-06\t||wari=1.0008554700883554\n",
      "LR 7.00E+00 \t || Delta=5.43E-03\t ||Error=1.03E-03  \t|| hoe=-2.5350029773107963e-06 \t|| H=-2.532394319132436e-06\t||wari=1.0010301153176073\n",
      "LR 8.00E+00 \t || Delta=6.21E-03\t ||Error=1.17E-03  \t|| hoe=-2.5354092940688133e-06 \t|| H=-2.532446160330437e-06\t||wari=1.0011700678122175\n",
      "LR 9.00E+00 \t || Delta=7.00E-03\t ||Error=1.33E-03  \t|| hoe=-2.535795829317067e-06 \t|| H=-2.5324243324575946e-06\t||wari=1.0013313317267807\n",
      "LR 1.00E+01 \t || Delta=7.79E-03\t ||Error=1.47E-03  \t|| hoe=-2.5361496227560565e-06 \t|| H=-2.532425469325972e-06\t||wari=1.0014705875751106\n",
      "LR 1.10E+01 \t || Delta=8.58E-03\t ||Error=1.62E-03  \t|| hoe=-2.5365070541738532e-06 \t|| H=-2.532398866605945e-06\t||wari=1.001622251384678\n",
      "LR 1.20E+01 \t || Delta=9.38E-03\t ||Error=1.78E-03  \t|| hoe=-2.5369097329530632e-06 \t|| H=-2.532410690037068e-06\t||wari=1.0017765850277347\n",
      "LR 1.30E+01 \t || Delta=1.02E-02\t ||Error=1.92E-03  \t|| hoe=-2.5372644358867547e-06 \t|| H=-2.5324052330688573e-06\t||wari=1.0019188093415874\n",
      "LR 1.40E+01 \t || Delta=1.10E-02\t ||Error=2.07E-03  \t|| hoe=-2.53765438174014e-06 \t|| H=-2.5324150101369014e-06\t||wari=1.002068922977579\n",
      "LR 1.50E+01 \t || Delta=1.18E-02\t ||Error=2.22E-03  \t|| hoe=-2.538032049415051e-06 \t|| H=-2.5324161470052786e-06\t||wari=1.002217606461092\n",
      "LR 1.60E+01 \t || Delta=1.26E-02\t ||Error=2.37E-03  \t|| hoe=-2.5383924366906285e-06 \t|| H=-2.532393864385085e-06\t||wari=1.0023687359181783\n",
      "LR 1.70E+01 \t || Delta=1.34E-02\t ||Error=2.50E-03  \t|| hoe=-2.5387853384017944e-06 \t|| H=-2.53244252235163e-06\t||wari=1.002504623893408\n",
      "LR 1.80E+01 \t || Delta=1.42E-02\t ||Error=2.67E-03  \t|| hoe=-2.5391705094079953e-06 \t|| H=-2.532417283873656e-06\t||wari=1.0026667112001422\n",
      "LR 1.90E+01 \t || Delta=1.50E-02\t ||Error=2.80E-03  \t|| hoe=-2.5395231659786077e-06 \t|| H=-2.532425469325972e-06\t||wari=1.0028027267687072\n"
     ]
    }
   ],
   "source": [
    "lr_range(model, ds, loss_fn, 1, 20, 1, False)"
   ]
  },
  {
   "cell_type": "code",
   "execution_count": null,
   "metadata": {},
   "outputs": [],
   "source": []
  }
 ],
 "metadata": {
  "kernelspec": {
   "display_name": "Python 3",
   "language": "python",
   "name": "python3"
  },
  "language_info": {
   "codemirror_mode": {
    "name": "ipython",
    "version": 3
   },
   "file_extension": ".py",
   "mimetype": "text/x-python",
   "name": "python",
   "nbconvert_exporter": "python",
   "pygments_lexer": "ipython3",
   "version": "3.6.5"
  }
 },
 "nbformat": 4,
 "nbformat_minor": 2
}
