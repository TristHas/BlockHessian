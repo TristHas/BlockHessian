{
 "cells": [
  {
   "cell_type": "code",
   "execution_count": 1,
   "metadata": {},
   "outputs": [],
   "source": [
    "import numpy as np\n",
    "import torch\n",
    "import sys\n",
    "import matplotlib.pyplot as plt\n",
    "%matplotlib inline\n",
    "\n",
    "sys.path.append(\"../src\")\n",
    "from models import MLP\n",
    "from data import gen_rnd_ds\n",
    "from losses import LinearClassification\n",
    "from block_analysis import block_hessian, curvature_effects\n",
    "\n",
    "from lr_calibrate import lr_calibrate"
   ]
  },
  {
   "cell_type": "markdown",
   "metadata": {},
   "source": [
    "## Helpers"
   ]
  },
  {
   "cell_type": "code",
   "execution_count": 2,
   "metadata": {},
   "outputs": [],
   "source": [
    "def get_model_ds_loss():    \n",
    "    model =  MLP(inp_dim, hid_dim, out_dim, nlayer, bias, mode).cuda(device)\n",
    "    ds = gen_rnd_ds(inp_dim, inp_mean, inp_var, \n",
    "                   out_dim, nsamp, device)\n",
    "    loss_fn = LinearClassification(out_dim)\n",
    "    return model, ds, loss_fn"
   ]
  },
  {
   "cell_type": "markdown",
   "metadata": {},
   "source": [
    "## Params"
   ]
  },
  {
   "cell_type": "code",
   "execution_count": 3,
   "metadata": {},
   "outputs": [],
   "source": [
    "# Model\n",
    "mode = \"linear\"\n",
    "bias = False\n",
    "nlayer = 5\n",
    "inp_dim = 10 \n",
    "out_dim = 10\n",
    "hid_dim = 100\n",
    "\n",
    "# Data parameters\n",
    "nsamp = 100\n",
    "inp_mean = 0\n",
    "inp_var = 1\n",
    "\n",
    "# Others\n",
    "device = 0\n"
   ]
  },
  {
   "cell_type": "code",
   "execution_count": 4,
   "metadata": {},
   "outputs": [
    {
     "name": "stdout",
     "output_type": "stream",
     "text": [
      "LR 1.00E-08 \t || Delta=0.00E+00\t ||Error=8.06E-08  \t|| hoe=96923.421875 \t|| H=96923.4140625\t||ratio=1.0000000806048783\n",
      "LR 1.00E-07 \t || Delta=0.00E+00\t ||Error=1.01E-07  \t|| hoe=9692.341796875 \t|| H=9692.3408203125\t||ratio=1.0000001007561041\n",
      "LR 1.00E-06 \t || Delta=0.00E+00\t ||Error=3.29E-01  \t|| hoe=969.234130859375 \t|| H=729.12744140625\t||ratio=1.32930688905363\n",
      "LR 1.00E-05 \t || Delta=2.92E-09\t ||Error=3.16E-02  \t|| hoe=38.515663146972656 \t|| H=39.734375\t||ratio=0.9693285259167322\n",
      "LR 1.00E-04 \t || Delta=4.84E-08\t ||Error=2.86E-02  \t|| hoe=0.006586730945855379 \t|| H=0.006403583101928234\t||ratio=1.028600838157624\n",
      "LR 1.00E-03 \t || Delta=4.84E-07\t ||Error=7.89E+00  \t|| hoe=0.0003021796001121402 \t|| H=-0.0020825937390327454\t||ratio=-0.14509771850773287\n",
      "LR 1.00E-02 \t || Delta=4.85E-06\t ||Error=1.72E+01  \t|| hoe=6.239133654162288e-06 \t|| H=-3.8482994568767026e-07\t||ratio=-16.212703101920237\n",
      "LR 1.00E-01 \t || Delta=4.85E-05\t ||Error=1.16E-01  \t|| hoe=-1.215084921568632e-07 \t|| H=-1.0886651580221951e-07\t||ratio=1.1161236424394319\n",
      "LR 1.00E+00 \t || Delta=4.85E-04\t ||Error=2.10E-02  \t|| hoe=-1.2799864634871483e-07 \t|| H=-1.3068893167655915e-07\t||ratio=0.9794145893356716\n",
      "LR 1.00E+01 \t || Delta=4.85E-03\t ||Error=2.44E-01  \t|| hoe=-1.0492279756135758e-07 \t|| H=-1.3050259894953342e-07\t||ratio=0.8039900998594841\n",
      "LR 1.00E+02 \t || Delta=4.78E-02\t ||Error=2.04E+00  \t|| hoe=1.2597291743077221e-07 \t|| H=-1.3047103664121096e-07\t||ratio=-0.9655240019069645\n",
      "LR 1.00E+03 \t || Delta=-7.60E-01\t ||Error=2.01E+01  \t|| hoe=2.4889798169169808e-06 \t|| H=-1.3047109348462982e-07\t||ratio=-19.076867913352743\n",
      "LR 1.00E+04 \t || Delta=3.98E+02\t ||Error=5.93E+01  \t|| hoe=-7.86589862400433e-06 \t|| H=-1.3047073821326194e-07\t||ratio=60.28860364955601\n",
      "LR 1.00E+05 \t || Delta=2.15E+08\t ||Error=3.29E+05  \t|| hoe=-0.042903319001197815 \t|| H=-1.3047073821326194e-07\t||ratio=328834.7991951258\n",
      "LR 1.00E+06 \t || Delta=2.21E+13\t ||Error=3.38E+08  \t|| hoe=-44.14445114135742 \t|| H=-1.304707950566808e-07\t||ratio=338347375.91795635\n",
      "LR 1.00E+07 \t || Delta=2.21E+18\t ||Error=3.39E+11  \t|| hoe=-44245.81640625 \t|| H=-1.3047073821326194e-07\t||ratio=339124442861.1085\n",
      "0.1 1.0 10.0\n",
      "LR 1.00E-01 \t || Delta=4.85E-05\t ||Error=1.16E-01  \t|| hoe=-1.215084921568632e-07 \t|| H=-1.0886651580221951e-07\t||ratio=1.1161236424394319\n",
      "LR 1.58E-01 \t || Delta=7.68E-05\t ||Error=3.96E-01  \t|| hoe=-1.0485730683740258e-07 \t|| H=-7.513084909760437e-08\t||ratio=1.3956624754923217\n",
      "LR 2.51E-01 \t || Delta=1.22E-04\t ||Error=1.83E-01  \t|| hoe=-1.3284422095694026e-07 \t|| H=-1.1231794161403741e-07\t||ratio=1.1827515626438216\n",
      "LR 3.98E-01 \t || Delta=1.93E-04\t ||Error=7.56E-02  \t|| hoe=-1.2578844632571418e-07 \t|| H=-1.3530294040720037e-07\t||ratio=0.9296800642110815\n",
      "LR 6.31E-01 \t || Delta=3.06E-04\t ||Error=4.16E-02  \t|| hoe=-1.2910433611068584e-07 \t|| H=-1.3447302649183257e-07\t||ratio=0.9600760797818974\n",
      "LR 1.00E+00 \t || Delta=4.85E-04\t ||Error=2.10E-02  \t|| hoe=-1.2799864634871483e-07 \t|| H=-1.3068893167655915e-07\t||ratio=0.9794145893356716\n",
      "LR 1.58E+00 \t || Delta=7.68E-04\t ||Error=4.24E-02  \t|| hoe=-1.2606051313923672e-07 \t|| H=-1.3141053045728768e-07\t||ratio=0.9592877579944792\n",
      "LR 2.51E+00 \t || Delta=1.22E-03\t ||Error=5.12E-02  \t|| hoe=-1.2398793103329808e-07 \t|| H=-1.30336658799024e-07\t||ratio=0.951289776612154\n",
      "LR 3.98E+00 \t || Delta=1.93E-03\t ||Error=8.43E-02  \t|| hoe=-1.202721051640765e-07 \t|| H=-1.304059082940512e-07\t||ratio=0.9222903067618373\n",
      "LR 6.31E+00 \t || Delta=3.06E-03\t ||Error=1.41E-01  \t|| hoe=-1.143253243185427e-07 \t|| H=-1.304326673334799e-07\t||ratio=0.8765083675414286\n",
      "LR 1.00E+01 \t || Delta=4.85E-03\t ||Error=2.44E-01  \t|| hoe=-1.0492279756135758e-07 \t|| H=-1.3050259894953342e-07\t||ratio=0.8039900998594841\n",
      "0.630957344480193 0.9999999999999994 1.5848931924611125\n",
      "LR 6.31E-01 \t || Delta=3.06E-04\t ||Error=4.16E-02  \t|| hoe=-1.2910433611068584e-07 \t|| H=-1.3447302649183257e-07\t||ratio=0.9600760797818974\n",
      "LR 6.92E-01 \t || Delta=3.35E-04\t ||Error=3.32E-02  \t|| hoe=-1.2720724384962523e-07 \t|| H=-1.314256934392688e-07\t||ratio=0.967902398083272\n",
      "LR 7.59E-01 \t || Delta=3.68E-04\t ||Error=2.45E-02  \t|| hoe=-1.2755434397604404e-07 \t|| H=-1.3068377313629753e-07\t||ratio=0.9760534220496554\n",
      "LR 8.32E-01 \t || Delta=4.03E-04\t ||Error=2.90E-02  \t|| hoe=-1.2771793933552544e-07 \t|| H=-1.3142518184849905e-07\t||ratio=0.971791992517483\n",
      "LR 9.12E-01 \t || Delta=4.42E-04\t ||Error=6.70E-03  \t|| hoe=-1.2757536183016782e-07 \t|| H=-1.2843045738009096e-07\t||ratio=0.993341956671598\n",
      "LR 1.00E+00 \t || Delta=4.85E-04\t ||Error=2.10E-02  \t|| hoe=-1.2799864634871483e-07 \t|| H=-1.3068893167655915e-07\t||ratio=0.9794145893356716\n",
      "LR 1.10E+00 \t || Delta=5.31E-04\t ||Error=2.05E-02  \t|| hoe=-1.271378522460509e-07 \t|| H=-1.2974470564586227e-07\t||ratio=0.9799078244708747\n",
      "LR 1.20E+00 \t || Delta=5.83E-04\t ||Error=2.55E-02  \t|| hoe=-1.2749437416914589e-07 \t|| H=-1.3074364346721268e-07\t||ratio=0.9751477837705996\n",
      "LR 1.32E+00 \t || Delta=6.39E-04\t ||Error=3.41E-02  \t|| hoe=-1.266781310960141e-07 \t|| H=-1.3100108731123328e-07\t||ratio=0.9670006081327505\n",
      "LR 1.45E+00 \t || Delta=7.01E-04\t ||Error=3.14E-02  \t|| hoe=-1.26762714103279e-07 \t|| H=-1.3074146920644125e-07\t||ratio=0.9695677650915809\n",
      "LR 1.58E+00 \t || Delta=7.68E-04\t ||Error=4.24E-02  \t|| hoe=-1.2606051313923672e-07 \t|| H=-1.3141053045728768e-07\t||ratio=0.9592877579944792\n",
      "0.8317637711026707 0.9120108393559095 0.9999999999999998\n",
      "LR 8.32E-01 \t || Delta=4.03E-04\t ||Error=2.90E-02  \t|| hoe=-1.2771793933552544e-07 \t|| H=-1.3142518184849905e-07\t||ratio=0.971791992517483\n",
      "LR 8.47E-01 \t || Delta=4.11E-04\t ||Error=1.10E-02  \t|| hoe=-1.2780161284808855e-07 \t|| H=-1.2920298786411877e-07\t||ratio=0.9891536949787568\n",
      "LR 8.63E-01 \t || Delta=4.18E-04\t ||Error=1.78E-02  \t|| hoe=-1.2802478011053608e-07 \t|| H=-1.3030361856181116e-07\t||ratio=0.9825113187459634\n",
      "LR 8.79E-01 \t || Delta=4.26E-04\t ||Error=2.40E-02  \t|| hoe=-1.279139354437575e-07 \t|| H=-1.3098841122882732e-07\t||ratio=0.976528642830098\n",
      "LR 8.95E-01 \t || Delta=4.34E-04\t ||Error=1.40E-02  \t|| hoe=-1.2778880886799016e-07 \t|| H=-1.2957904971244716e-07\t||ratio=0.9861841798621784\n",
      "LR 9.12E-01 \t || Delta=4.42E-04\t ||Error=6.70E-03  \t|| hoe=-1.2757536183016782e-07 \t|| H=-1.2843045738009096e-07\t||ratio=0.993341956671598\n",
      "LR 9.29E-01 \t || Delta=4.50E-04\t ||Error=1.96E-02  \t|| hoe=-1.2761486800627608e-07 \t|| H=-1.3011681687657983e-07\t||ratio=0.9807715180069543\n",
      "LR 9.46E-01 \t || Delta=4.59E-04\t ||Error=2.60E-02  \t|| hoe=-1.2748461131195654e-07 \t|| H=-1.3079605309940234e-07\t||ratio=0.9746824028021001\n",
      "LR 9.64E-01 \t || Delta=4.67E-04\t ||Error=2.08E-02  \t|| hoe=-1.2744743571602157e-07 \t|| H=-1.3010064492391393e-07\t||ratio=0.9796064868898688\n",
      "LR 9.82E-01 \t || Delta=4.76E-04\t ||Error=2.30E-02  \t|| hoe=-1.2754811962167878e-07 \t|| H=-1.3048278901806043e-07\t||ratio=0.9775091457006222\n",
      "LR 1.00E+00 \t || Delta=4.85E-04\t ||Error=2.10E-02  \t|| hoe=-1.2799864634871483e-07 \t|| H=-1.3068893167655915e-07\t||ratio=0.9794145893356716\n",
      "LR 1.02E+00 \t || Delta=4.94E-04\t ||Error=3.31E-02  \t|| hoe=-1.274642755788591e-07 \t|| H=-1.3167721135687316e-07\t||ratio=0.9680055817206205\n",
      "0.8953647655495935 0.9120108393559095 0.9289663867799361\n",
      "LR 8.95E-01 \t || Delta=4.34E-04\t ||Error=1.40E-02  \t|| hoe=-1.2778880886799016e-07 \t|| H=-1.2957904971244716e-07\t||ratio=0.9861841798621784\n",
      "LR 8.99E-01 \t || Delta=4.36E-04\t ||Error=4.22E-03  \t|| hoe=-1.275714254234117e-07 \t|| H=-1.2810973260002356e-07\t||ratio=0.9957980774318488\n",
      "LR 9.02E-01 \t || Delta=4.37E-04\t ||Error=3.10E-02  \t|| hoe=-1.279227177519715e-07 \t|| H=-1.3189124103973882e-07\t||ratio=0.9699106380644974\n",
      "LR 9.05E-01 \t || Delta=4.39E-04\t ||Error=2.20E-02  \t|| hoe=-1.2740972010760743e-07 \t|| H=-1.3021721656514273e-07\t||ratio=0.97843989810571\n",
      "LR 9.09E-01 \t || Delta=4.40E-04\t ||Error=4.45E-02  \t|| hoe=-1.2837784879593528e-07 \t|| H=-1.3409263033281604e-07\t||ratio=0.9573818372963767\n",
      "LR 9.12E-01 \t || Delta=4.42E-04\t ||Error=6.70E-03  \t|| hoe=-1.2757536183016782e-07 \t|| H=-1.2843045738009096e-07\t||ratio=0.993341956671598\n",
      "LR 9.15E-01 \t || Delta=4.44E-04\t ||Error=3.27E-02  \t|| hoe=-1.2775028324085724e-07 \t|| H=-1.3193351833251654e-07\t||ratio=0.9682928557918379\n",
      "LR 9.19E-01 \t || Delta=4.45E-04\t ||Error=7.58E-03  \t|| hoe=-1.2819158712318313e-07 \t|| H=-1.291634674771558e-07\t||ratio=0.9924755786372447\n",
      "LR 9.22E-01 \t || Delta=4.47E-04\t ||Error=4.74E-02  \t|| hoe=-1.2772966329066548e-07 \t|| H=-1.3378115681916825e-07\t||ratio=0.9547657258138188\n",
      "LR 9.26E-01 \t || Delta=4.49E-04\t ||Error=3.98E-02  \t|| hoe=-1.2821890038594574e-07 \t|| H=-1.3332777371033444e-07\t||ratio=0.961681852308671\n",
      "LR 9.29E-01 \t || Delta=4.50E-04\t ||Error=1.96E-02  \t|| hoe=-1.2761486800627608e-07 \t|| H=-1.3011681687657983e-07\t||ratio=0.9807715180069543\n",
      "0.8953647655495935 0.8986694950475259 0.9019864220737448\n",
      "LR 8.95E-01 \t || Delta=4.34E-04\t ||Error=1.40E-02  \t|| hoe=-1.2778880886799016e-07 \t|| H=-1.2957904971244716e-07\t||ratio=0.9861841798621784\n",
      "LR 8.96E-01 \t || Delta=4.34E-04\t ||Error=5.21E-03  \t|| hoe=-1.2789062964202458e-07 \t|| H=-1.2855672082423553e-07\t||ratio=0.9948186980973042\n",
      "LR 8.97E-01 \t || Delta=4.35E-04\t ||Error=1.31E-02  \t|| hoe=-1.2799186777101568e-07 \t|| H=-1.2967048235168477e-07\t||ratio=0.9870547672051034\n",
      "LR 8.97E-01 \t || Delta=4.35E-04\t ||Error=4.04E-02  \t|| hoe=-1.2751425515489245e-07 \t|| H=-1.3266244991427811e-07\t||ratio=0.9611932784091335\n",
      "LR 8.98E-01 \t || Delta=4.35E-04\t ||Error=2.71E-02  \t|| hoe=-1.2761520906678925e-07 \t|| H=-1.3107987228977436e-07\t||ratio=0.9735683048628101\n",
      "LR 8.99E-01 \t || Delta=4.36E-04\t ||Error=4.22E-03  \t|| hoe=-1.275714254234117e-07 \t|| H=-1.2810973260002356e-07\t||ratio=0.9957980774318488\n",
      "LR 8.99E-01 \t || Delta=4.36E-04\t ||Error=3.70E-02  \t|| hoe=-1.282471941976837e-07 \t|| H=-1.3299259649102169e-07\t||ratio=0.9643182972695902\n",
      "LR 9.00E-01 \t || Delta=4.36E-04\t ||Error=2.48E-02  \t|| hoe=-1.2784275327248906e-07 \t|| H=-1.3101366391765623e-07\t||ratio=0.9757970997043475\n",
      "LR 9.01E-01 \t || Delta=4.37E-04\t ||Error=2.73E-02  \t|| hoe=-1.2837205076721148e-07 \t|| H=-1.3187688807647646e-07\t||ratio=0.973423415123107\n",
      "LR 9.01E-01 \t || Delta=4.37E-04\t ||Error=2.39E-02  \t|| hoe=-1.2760980894199747e-07 \t|| H=-1.306594441530251e-07\t||ratio=0.9766596648960486\n",
      "LR 9.02E-01 \t || Delta=4.37E-04\t ||Error=3.10E-02  \t|| hoe=-1.279227177519715e-07 \t|| H=-1.3189124103973882e-07\t||ratio=0.9699106380644974\n",
      "LR 9.03E-01 \t || Delta=4.37E-04\t ||Error=5.18E-02  \t|| hoe=-1.2773433866186679e-07 \t|| H=-1.343559148381246e-07\t||ratio=0.9507161542963282\n",
      "0.8980075747834064 0.8986694950475259 0.8993319032122472\n"
     ]
    },
    {
     "data": {
      "text/plain": [
       "<matplotlib.image.AxesImage at 0x7efc10cb1518>"
      ]
     },
     "execution_count": 4,
     "metadata": {},
     "output_type": "execute_result"
    },
    {
     "data": {
      "image/png": "[encoded data removed]",
      "text/plain": [
       "<Figure size 432x288 with 1 Axes>"
      ]
     },
     "metadata": {
      "needs_background": "light"
     },
     "output_type": "display_data"
    }
   ],
   "source": [
    "model, ds, loss_fn = get_model_ds_loss()\n",
    "lr = lr_calibrate(model, ds, loss_fn, -8, 8, 1, True, True)\n",
    "H = block_hessian(model, ds, loss_fn, lr)\n",
    "plt.imshow(H.abs().cpu().numpy())"
   ]
  },
  {
   "cell_type": "code",
   "execution_count": 5,
   "metadata": {},
   "outputs": [
    {
     "data": {
      "text/plain": [
       "0.8986694950475259"
      ]
     },
     "execution_count": 5,
     "metadata": {},
     "output_type": "execute_result"
    }
   ],
   "source": [
    "lr"
   ]
  },
  {
   "cell_type": "code",
   "execution_count": null,
   "metadata": {},
   "outputs": [],
   "source": []
  },
  {
   "cell_type": "code",
   "execution_count": null,
   "metadata": {},
   "outputs": [],
   "source": []
  }
 ],
 "metadata": {
  "kernelspec": {
   "display_name": "Python 3",
   "language": "python",
   "name": "python3"
  },
  "language_info": {
   "codemirror_mode": {
    "name": "ipython",
    "version": 3
   },
   "file_extension": ".py",
   "mimetype": "text/x-python",
   "name": "python",
   "nbconvert_exporter": "python",
   "pygments_lexer": "ipython3",
   "version": "3.7.3"
  }
 },
 "nbformat": 4,
 "nbformat_minor": 4
}
