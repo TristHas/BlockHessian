{
 "cells": [
  {
   "cell_type": "code",
   "execution_count": 1,
   "metadata": {},
   "outputs": [],
   "source": [
    "import numpy as np\n",
    "import torch\n",
    "import matplotlib.pyplot as plt\n",
    "%matplotlib inline"
   ]
  },
  {
   "cell_type": "code",
   "execution_count": 2,
   "metadata": {},
   "outputs": [],
   "source": [
    "from models import MLP\n",
    "from data import gen_rnd_ds\n",
    "from losses import LinearClassification\n",
    "from block_analysis import block_hessian, curvature_effects\n",
    "\n",
    "from lr_calibrate import lr_calibrate"
   ]
  },
  {
   "cell_type": "markdown",
   "metadata": {},
   "source": [
    "## Helpers"
   ]
  },
  {
   "cell_type": "code",
   "execution_count": 3,
   "metadata": {},
   "outputs": [],
   "source": [
    "def get_model_ds_loss():    \n",
    "    model =  MLP(inp_dim, hid_dim, out_dim, nlayer, bias, mode).cuda(device)\n",
    "    ds = gen_rnd_ds(inp_dim, inp_mean, inp_var, \n",
    "                   out_dim, nsamp, device)\n",
    "    loss_fn = LinearClassification(out_dim)\n",
    "    return model, ds, loss_fn"
   ]
  },
  {
   "cell_type": "markdown",
   "metadata": {},
   "source": [
    "## Params"
   ]
  },
  {
   "cell_type": "code",
   "execution_count": 4,
   "metadata": {},
   "outputs": [],
   "source": [
    "# Model\n",
    "mode = \"linear\"\n",
    "bias = False\n",
    "nlayer = 5\n",
    "inp_dim = 10 \n",
    "out_dim = 10\n",
    "hid_dim = 100\n",
    "\n",
    "# Data parameters\n",
    "nsamp = 100\n",
    "inp_mean = 0\n",
    "inp_var = 1\n",
    "\n",
    "# Others\n",
    "device = 0\n",
    "lr = 7"
   ]
  },
  {
   "cell_type": "code",
   "execution_count": 6,
   "metadata": {},
   "outputs": [
    {
     "name": "stdout",
     "output_type": "stream",
     "text": [
      "LR 1.00E-08 \t || Delta=0.00E+00\t ||Error=5.60E+00  \t|| hoe=-694959.6875 \t|| H=3196333.25\t||ratio=-0.21742403971801125\n",
      "LR 1.00E-07 \t || Delta=4.95E-10\t ||Error=2.91E+00  \t|| hoe=-44757.70703125 \t|| H=85347.46875\t||ratio=-0.5244175098192353\n",
      "LR 1.00E-06 \t || Delta=1.38E-08\t ||Error=2.38E+01  \t|| hoe=-51.9886360168457 \t|| H=-1287.796875\t||ratio=0.040370214453925975\n",
      "LR 1.00E-05 \t || Delta=1.39E-07\t ||Error=7.66E+00  \t|| hoe=0.18538059294223785 \t|| H=1.6051604747772217\t||ratio=0.11549037984377643\n",
      "LR 1.00E-04 \t || Delta=1.39E-06\t ||Error=3.53E+01  \t|| hoe=0.0025295321829617023 \t|| H=-0.08685745298862457\t||ratio=-0.02912279943660087\n",
      "LR 1.00E-03 \t || Delta=1.39E-05\t ||Error=3.88E-01  \t|| hoe=0.0016202648403123021 \t|| H=0.0022484981454908848\t||ratio=0.7205986998750987\n",
      "LR 1.00E-02 \t || Delta=1.39E-04\t ||Error=1.22E+00  \t|| hoe=0.0015210389392450452 \t|| H=0.0033715968020260334\t||ratio=0.45113310652419486\n",
      "LR 1.00E-01 \t || Delta=1.42E-03\t ||Error=1.20E+00  \t|| hoe=0.0015264027751982212 \t|| H=0.003365296870470047\t||ratio=0.45357150764087606\n",
      "LR 1.00E+00 \t || Delta=1.71E-02\t ||Error=1.12E+00  \t|| hoe=0.0015840190462768078 \t|| H=0.003365345997735858\t||ratio=0.47068534627420366\n",
      "LR 1.00E+01 \t || Delta=5.84E-01\t ||Error=5.13E-01  \t|| hoe=0.002224660711362958 \t|| H=0.0033653508871793747\t||ratio=0.6610486650405505\n",
      "LR 1.00E+02 \t || Delta=3.38E+02\t ||Error=4.01E+00  \t|| hoe=0.016846301034092903 \t|| H=0.0033653501886874437\t||ratio=5.005809229221197\n",
      "LR 1.00E+03 \t || Delta=5.53E+06\t ||Error=8.20E+02  \t|| hoe=2.7629287242889404 \t|| H=0.0033653504215180874\t||ratio=820.9928768851956\n",
      "LR 1.00E+04 \t || Delta=4.14E+11\t ||Error=6.15E+05  \t|| hoe=2068.553466796875 \t|| H=0.0033653504215180874\t||ratio=614662.1325287618\n",
      "LR 1.00E+05 \t || Delta=4.01E+16\t ||Error=5.96E+08  \t|| hoe=2004903.25 \t|| H=0.0033653504215180874\t||ratio=595748733.0830771\n",
      "LR 1.00E+06 \t || Delta=4.00E+21\t ||Error=5.94E+11  \t|| hoe=1998594432.0 \t|| H=0.0033653504215180874\t||ratio=593874093830.1597\n",
      "LR 1.00E+07 \t || Delta=4.00E+26\t ||Error=5.94E+14  \t|| hoe=1997964050432.0 \t|| H=0.0033653504215180874\t||ratio=593686778546743.9\n",
      "1.0 10.0 100.0\n",
      "LR 1.00E+00 \t || Delta=1.71E-02\t ||Error=1.12E+00  \t|| hoe=0.0015840190462768078 \t|| H=0.003365345997735858\t||ratio=0.47068534627420366\n",
      "LR 1.09E+01 \t || Delta=6.97E-01\t ||Error=4.66E-01  \t|| hoe=0.0022953541483730078 \t|| H=0.0033653504215180874\t||ratio=0.6820550197971921\n",
      "LR 2.08E+01 \t || Delta=3.02E+00\t ||Error=6.61E-02  \t|| hoe=0.003156758612021804 \t|| H=0.0033653494901955128\t||ratio=0.9380180635677186\n",
      "LR 3.07E+01 \t || Delta=8.31E+00\t ||Error=2.42E-01  \t|| hoe=0.004179867450147867 \t|| H=0.003365350654348731\t||ratio=1.242030290289843\n",
      "LR 4.06E+01 \t || Delta=1.83E+01\t ||Error=5.98E-01  \t|| hoe=0.00537630682811141 \t|| H=0.0033653499558568\t||ratio=1.5975476246548723\n",
      "LR 5.05E+01 \t || Delta=3.52E+01\t ||Error=1.01E+00  \t|| hoe=0.006757712922990322 \t|| H=0.0033653499558568\t||ratio=2.008026806017517\n",
      "LR 6.04E+01 \t || Delta=6.17E+01\t ||Error=1.48E+00  \t|| hoe=0.008335713297128677 \t|| H=0.0033653504215180874\t||ratio=2.4769228321157986\n",
      "LR 7.03E+01 \t || Delta=1.01E+02\t ||Error=2.01E+00  \t|| hoe=0.010121943429112434 \t|| H=0.0033653508871793747\t||ratio=3.007693333753976\n",
      "LR 8.02E+01 \t || Delta=1.57E+02\t ||Error=2.60E+00  \t|| hoe=0.012128026224672794 \t|| H=0.0033653501886874437\t||ratio=3.6037932294359463\n",
      "LR 9.01E+01 \t || Delta=2.34E+02\t ||Error=3.27E+00  \t|| hoe=0.01436560321599245 \t|| H=0.0033653508871793747\t||ratio=4.268679165289892\n",
      "LR 1.00E+02 \t || Delta=3.38E+02\t ||Error=4.01E+00  \t|| hoe=0.016846301034092903 \t|| H=0.0033653501886874437\t||ratio=5.005809229221197\n",
      "10.9 20.8 30.700000000000003\n",
      "LR 1.09E+01 \t || Delta=6.97E-01\t ||Error=4.66E-01  \t|| hoe=0.0022953541483730078 \t|| H=0.0033653504215180874\t||ratio=0.6820550197971921\n",
      "LR 1.29E+01 \t || Delta=9.94E-01\t ||Error=3.71E-01  \t|| hoe=0.002455257810652256 \t|| H=0.0033653511200100183\t||ratio=0.729569582220873\n",
      "LR 1.49E+01 \t || Delta=1.36E+00\t ||Error=2.84E-01  \t|| hoe=0.0026212562806904316 \t|| H=0.003365350654348731\t||ratio=0.7788954405993993\n",
      "LR 1.68E+01 \t || Delta=1.82E+00\t ||Error=2.05E-01  \t|| hoe=0.0027934445533901453 \t|| H=0.0033653499558568\t||ratio=0.8300606445188995\n",
      "LR 1.88E+01 \t || Delta=2.37E+00\t ||Error=1.32E-01  \t|| hoe=0.002971914131194353 \t|| H=0.0033653499558568\t||ratio=0.88309215094325\n",
      "LR 2.08E+01 \t || Delta=3.02E+00\t ||Error=6.61E-02  \t|| hoe=0.003156758612021804 \t|| H=0.0033653494901955128\t||ratio=0.9380180635677186\n",
      "LR 2.28E+01 \t || Delta=3.79E+00\t ||Error=5.16E-03  \t|| hoe=0.003348072525113821 \t|| H=0.0033653504215180874\t||ratio=0.9948659443326343\n",
      "LR 2.48E+01 \t || Delta=4.69E+00\t ||Error=5.37E-02  \t|| hoe=0.0035459473729133606 \t|| H=0.0033653499558568\t||ratio=1.0536637851710675\n",
      "LR 2.67E+01 \t || Delta=5.74E+00\t ||Error=1.14E-01  \t|| hoe=0.0037504753563553095 \t|| H=0.0033653504215180874\t||ratio=1.1144382862404845\n",
      "LR 2.87E+01 \t || Delta=6.93E+00\t ||Error=1.77E-01  \t|| hoe=0.00396175030618906 \t|| H=0.0033653499558568\t||ratio=1.1772179292362537\n",
      "LR 3.07E+01 \t || Delta=8.31E+00\t ||Error=2.42E-01  \t|| hoe=0.004179867450147867 \t|| H=0.003365350654348731\t||ratio=1.242030290289843\n",
      "LR 3.27E+01 \t || Delta=9.86E+00\t ||Error=3.09E-01  \t|| hoe=0.004404916428029537 \t|| H=0.0033653504215180874\t||ratio=1.3089027519584449\n",
      "20.800000000000004 22.78 24.760000000000005\n",
      "LR 2.08E+01 \t || Delta=3.02E+00\t ||Error=6.61E-02  \t|| hoe=0.003156758612021804 \t|| H=0.0033653494901955128\t||ratio=0.9380180635677186\n",
      "LR 2.12E+01 \t || Delta=3.16E+00\t ||Error=5.35E-02  \t|| hoe=0.003194501856341958 \t|| H=0.0033653497230261564\t||ratio=0.9492332504062697\n",
      "LR 2.16E+01 \t || Delta=3.31E+00\t ||Error=4.11E-02  \t|| hoe=0.003232502844184637 \t|| H=0.0033653494901955128\t||ratio=0.9605251560356788\n",
      "LR 2.20E+01 \t || Delta=3.47E+00\t ||Error=2.89E-02  \t|| hoe=0.0032707657665014267 \t|| H=0.0033653504215180874\t||ratio=0.9718945598021872\n",
      "LR 2.24E+01 \t || Delta=3.63E+00\t ||Error=1.69E-02  \t|| hoe=0.0033092882949858904 \t|| H=0.0033653504215180874\t||ratio=0.9833413702853245\n",
      "LR 2.28E+01 \t || Delta=3.79E+00\t ||Error=5.16E-03  \t|| hoe=0.003348072525113821 \t|| H=0.0033653504215180874\t||ratio=0.9948659443326343\n",
      "LR 2.32E+01 \t || Delta=3.96E+00\t ||Error=6.47E-03  \t|| hoe=0.003387120086699724 \t|| H=0.003365350654348731\t||ratio=1.006468696604576\n",
      "LR 2.36E+01 \t || Delta=4.14E+00\t ||Error=1.81E-02  \t|| hoe=0.0034264307469129562 \t|| H=0.0033653504215180874\t||ratio=1.0181497668130846\n",
      "LR 2.40E+01 \t || Delta=4.32E+00\t ||Error=2.99E-02  \t|| hoe=0.00346600404009223 \t|| H=0.0033653504215180874\t||ratio=1.0299088076922278\n",
      "LR 2.44E+01 \t || Delta=4.50E+00\t ||Error=4.17E-02  \t|| hoe=0.003505843225866556 \t|| H=0.0033653504215180874\t||ratio=1.0417468574595252\n",
      "LR 2.48E+01 \t || Delta=4.69E+00\t ||Error=5.37E-02  \t|| hoe=0.0035459473729133606 \t|| H=0.0033653499558568\t||ratio=1.0536637851710675\n",
      "LR 2.52E+01 \t || Delta=4.89E+00\t ||Error=6.57E-02  \t|| hoe=0.0035863181110471487 \t|| H=0.0033653504215180874\t||ratio=1.0656596377352539\n",
      "22.384000000000007 22.78000000000001 23.17600000000001\n",
      "LR 2.24E+01 \t || Delta=3.63E+00\t ||Error=1.69E-02  \t|| hoe=0.0033092882949858904 \t|| H=0.0033653504215180874\t||ratio=0.9833413702853245\n",
      "LR 2.25E+01 \t || Delta=3.66E+00\t ||Error=1.46E-02  \t|| hoe=0.0033170238602906466 \t|| H=0.0033653499558568\t||ratio=0.9856400979987088\n",
      "LR 2.25E+01 \t || Delta=3.69E+00\t ||Error=1.22E-02  \t|| hoe=0.0033247703686356544 \t|| H=0.0033653499558568\t||ratio=0.9879419413275211\n",
      "LR 2.26E+01 \t || Delta=3.73E+00\t ||Error=9.85E-03  \t|| hoe=0.003332527121528983 \t|| H=0.0033653499558568\t||ratio=0.9902468287820425\n",
      "LR 2.27E+01 \t || Delta=3.76E+00\t ||Error=7.50E-03  \t|| hoe=0.003340295050293207 \t|| H=0.0033653504215180874\t||ratio=0.9925548997617972\n",
      "LR 2.28E+01 \t || Delta=3.79E+00\t ||Error=5.16E-03  \t|| hoe=0.003348072525113821 \t|| H=0.0033653504215180874\t||ratio=0.9948659443326343\n",
      "LR 2.29E+01 \t || Delta=3.82E+00\t ||Error=2.83E-03  \t|| hoe=0.0033558604773133993 \t|| H=0.0033653499558568\t||ratio=0.997180240192588\n",
      "LR 2.29E+01 \t || Delta=3.86E+00\t ||Error=5.02E-04  \t|| hoe=0.0033636600710451603 \t|| H=0.0033653499558568\t||ratio=0.9994978576273476\n",
      "LR 2.30E+01 \t || Delta=3.89E+00\t ||Error=1.82E-03  \t|| hoe=0.0033714687451720238 \t|| H=0.0033653499558568\t||ratio=1.0018181732644402\n",
      "LR 2.31E+01 \t || Delta=3.93E+00\t ||Error=4.14E-03  \t|| hoe=0.0033792892936617136 \t|| H=0.0033653499558568\t||ratio=1.0041420173199684\n",
      "LR 2.32E+01 \t || Delta=3.96E+00\t ||Error=6.47E-03  \t|| hoe=0.003387120086699724 \t|| H=0.003365350654348731\t||ratio=1.006468696604576\n",
      "22.85920000000001 22.93840000000001 23.01760000000001\n",
      "LR 2.29E+01 \t || Delta=3.82E+00\t ||Error=2.83E-03  \t|| hoe=0.0033558604773133993 \t|| H=0.0033653499558568\t||ratio=0.997180240192588\n",
      "LR 2.29E+01 \t || Delta=3.83E+00\t ||Error=2.36E-03  \t|| hoe=0.0033574197441339493 \t|| H=0.0033653504215180874\t||ratio=0.9976434319191757\n",
      "LR 2.29E+01 \t || Delta=3.84E+00\t ||Error=1.90E-03  \t|| hoe=0.00335897970944643 \t|| H=0.0033653508871793747\t||ratio=0.9981068310715485\n",
      "LR 2.29E+01 \t || Delta=3.85E+00\t ||Error=1.43E-03  \t|| hoe=0.00336053897626698 \t|| H=0.0033653499558568\t||ratio=0.9985704370561976\n",
      "LR 2.29E+01 \t || Delta=3.85E+00\t ||Error=9.67E-04  \t|| hoe=0.0033620987087488174 \t|| H=0.0033653499558568\t||ratio=0.9990339051954094\n",
      "LR 2.29E+01 \t || Delta=3.86E+00\t ||Error=5.02E-04  \t|| hoe=0.0033636600710451603 \t|| H=0.0033653499558568\t||ratio=0.9994978576273476\n",
      "LR 2.30E+01 \t || Delta=3.87E+00\t ||Error=3.84E-05  \t|| hoe=0.0033652212005108595 \t|| H=0.0033653504215180874\t||ratio=0.9999616025105732\n",
      "LR 2.30E+01 \t || Delta=3.87E+00\t ||Error=4.26E-04  \t|| hoe=0.003366782097145915 \t|| H=0.0033653499558568\t||ratio=1.0004255549371983\n",
      "LR 2.30E+01 \t || Delta=3.88E+00\t ||Error=8.90E-04  \t|| hoe=0.003368343925103545 \t|| H=0.0033653499558568\t||ratio=1.0008896457384868\n",
      "LR 2.30E+01 \t || Delta=3.89E+00\t ||Error=1.35E-03  \t|| hoe=0.0033699069172143936 \t|| H=0.0033653504215180874\t||ratio=1.0013539439064567\n",
      "LR 2.30E+01 \t || Delta=3.89E+00\t ||Error=1.82E-03  \t|| hoe=0.0033714687451720238 \t|| H=0.0033653499558568\t||ratio=1.0018181732644402\n",
      "LR 2.30E+01 \t || Delta=3.90E+00\t ||Error=2.28E-03  \t|| hoe=0.003373031970113516 \t|| H=0.0033653501886874437\t||ratio=1.0022826098311832\n",
      "22.938400000000012 22.954240000000013 22.970080000000014\n",
      "LR 2.29E+01 \t || Delta=3.86E+00\t ||Error=5.02E-04  \t|| hoe=0.0033636600710451603 \t|| H=0.0033653499558568\t||ratio=0.9994978576273476\n",
      "LR 2.29E+01 \t || Delta=3.86E+00\t ||Error=4.10E-04  \t|| hoe=0.0033639720641076565 \t|| H=0.0033653504215180874\t||ratio=0.9995904267794469\n",
      "LR 2.29E+01 \t || Delta=3.86E+00\t ||Error=3.17E-04  \t|| hoe=0.0033642842900007963 \t|| H=0.0033653504215180874\t||ratio=0.9996832034160621\n",
      "LR 2.29E+01 \t || Delta=3.86E+00\t ||Error=2.24E-04  \t|| hoe=0.00336459674872458 \t|| H=0.0033653499558568\t||ratio=0.9997761875757053\n",
      "LR 2.30E+01 \t || Delta=3.86E+00\t ||Error=1.31E-04  \t|| hoe=0.003364908741787076 \t|| H=0.0033653499558568\t||ratio=0.9998688950404827\n",
      "LR 2.30E+01 \t || Delta=3.87E+00\t ||Error=3.84E-05  \t|| hoe=0.0033652212005108595 \t|| H=0.0033653504215180874\t||ratio=0.9999616025105732\n",
      "LR 2.30E+01 \t || Delta=3.87E+00\t ||Error=5.43E-05  \t|| hoe=0.0033655331935733557 \t|| H=0.0033653504215180874\t||ratio=1.0000543099625228\n",
      "LR 2.30E+01 \t || Delta=3.87E+00\t ||Error=1.47E-04  \t|| hoe=0.003365845186635852 \t|| H=0.0033653499558568\t||ratio=1.0001471558041652\n",
      "LR 2.30E+01 \t || Delta=3.87E+00\t ||Error=2.40E-04  \t|| hoe=0.0033661576453596354 \t|| H=0.0033653497230261564\t||ratio=1.0002400708395776\n",
      "LR 2.30E+01 \t || Delta=3.87E+00\t ||Error=3.33E-04  \t|| hoe=0.0033664696384221315 \t|| H=0.0033653494901955128\t||ratio=1.0003328475184767\n",
      "LR 2.30E+01 \t || Delta=3.87E+00\t ||Error=4.26E-04  \t|| hoe=0.003366782097145915 \t|| H=0.0033653499558568\t||ratio=1.0004255549371983\n",
      "22.951072000000007 22.954240000000006 22.957408000000004\n",
      "LR 2.30E+01 \t || Delta=3.86E+00\t ||Error=1.31E-04  \t|| hoe=0.003364908741787076 \t|| H=0.0033653499558568\t||ratio=0.9998688950404827\n",
      "LR 2.30E+01 \t || Delta=3.86E+00\t ||Error=1.13E-04  \t|| hoe=0.0033649711403995752 \t|| H=0.0033653504215180874\t||ratio=0.9998872981796822\n",
      "LR 2.30E+01 \t || Delta=3.86E+00\t ||Error=9.42E-05  \t|| hoe=0.003365033306181431 \t|| H=0.0033653504215180874\t||ratio=0.9999057704854065\n",
      "LR 2.30E+01 \t || Delta=3.86E+00\t ||Error=7.56E-05  \t|| hoe=0.0033650954719632864 \t|| H=0.0033653497230261564\t||ratio=0.9999244503294471\n",
      "LR 2.30E+01 \t || Delta=3.87E+00\t ||Error=5.69E-05  \t|| hoe=0.003365158336237073 \t|| H=0.0033653499558568\t||ratio=0.9999430610123047\n",
      "LR 2.30E+01 \t || Delta=3.87E+00\t ||Error=3.84E-05  \t|| hoe=0.0033652212005108595 \t|| H=0.0033653504215180874\t||ratio=0.9999616025105732\n",
      "LR 2.30E+01 \t || Delta=3.87E+00\t ||Error=1.98E-05  \t|| hoe=0.0033652838319540024 \t|| H=0.0033653504215180874\t||ratio=0.9999802131856287\n",
      "LR 2.30E+01 \t || Delta=3.87E+00\t ||Error=1.18E-06  \t|| hoe=0.003365345997735858 \t|| H=0.0033653499558568\t||ratio=0.9999988238605215\n",
      "LR 2.30E+01 \t || Delta=3.87E+00\t ||Error=1.72E-05  \t|| hoe=0.003365408396348357 \t|| H=0.0033653504215180874\t||ratio=1.000017226981743\n",
      "LR 2.30E+01 \t || Delta=3.87E+00\t ||Error=3.58E-05  \t|| hoe=0.003365470562130213 \t|| H=0.0033653499558568\t||ratio=1.0000358376617573\n",
      "LR 2.30E+01 \t || Delta=3.87E+00\t ||Error=5.43E-05  \t|| hoe=0.0033655331935733557 \t|| H=0.0033653504215180874\t||ratio=1.0000543099625228\n",
      "LR 2.30E+01 \t || Delta=3.87E+00\t ||Error=7.30E-05  \t|| hoe=0.0033655960578471422 \t|| H=0.0033653504215180874\t||ratio=1.0000729898222438\n",
      "22.95487360000001 22.95550720000001 22.95614080000001\n",
      "LR 2.30E+01 \t || Delta=3.87E+00\t ||Error=1.98E-05  \t|| hoe=0.0033652838319540024 \t|| H=0.0033653504215180874\t||ratio=0.9999802131856287\n",
      "LR 2.30E+01 \t || Delta=3.87E+00\t ||Error=1.61E-05  \t|| hoe=0.0033652957063168287 \t|| H=0.0033653499558568\t||ratio=0.9999838799706767\n",
      "LR 2.30E+01 \t || Delta=3.87E+00\t ||Error=1.24E-05  \t|| hoe=0.0033653087448328733 \t|| H=0.0033653504215180874\t||ratio=0.9999876159448515\n",
      "LR 2.30E+01 \t || Delta=3.87E+00\t ||Error=8.79E-06  \t|| hoe=0.0033653208520263433 \t|| H=0.0033653504215180874\t||ratio=0.9999912135474645\n",
      "LR 2.30E+01 \t || Delta=3.87E+00\t ||Error=5.12E-06  \t|| hoe=0.0033653336577117443 \t|| H=0.0033653508871793747\t||ratio=0.9999948803354515\n",
      "LR 2.30E+01 \t || Delta=3.87E+00\t ||Error=1.18E-06  \t|| hoe=0.003365345997735858 \t|| H=0.0033653499558568\t||ratio=0.9999988238605215\n",
      "LR 2.30E+01 \t || Delta=3.87E+00\t ||Error=2.28E-06  \t|| hoe=0.003365358104929328 \t|| H=0.0033653504215180874\t||ratio=1.0000022830939659\n",
      "LR 2.30E+01 \t || Delta=3.87E+00\t ||Error=6.09E-06  \t|| hoe=0.003365370910614729 \t|| H=0.0033653504215180874\t||ratio=1.0000060882505757\n",
      "LR 2.30E+01 \t || Delta=3.87E+00\t ||Error=9.69E-06  \t|| hoe=0.0033653827849775553 \t|| H=0.0033653501886874437\t||ratio=1.000009685853859\n",
      "LR 2.30E+01 \t || Delta=3.87E+00\t ||Error=1.34E-05  \t|| hoe=0.0033653958234936 \t|| H=0.003365350654348731\t||ratio=1.0000134218242045\n",
      "LR 2.30E+01 \t || Delta=3.87E+00\t ||Error=1.72E-05  \t|| hoe=0.003365408396348357 \t|| H=0.0033653504215180874\t||ratio=1.000017226981743\n",
      "LR 2.30E+01 \t || Delta=3.87E+00\t ||Error=2.09E-05  \t|| hoe=0.003365420503541827 \t|| H=0.0033653501886874437\t||ratio=1.0000208937704669\n",
      "22.955380480000013 22.955507200000014 22.955633920000015\n",
      "LR 2.30E+01 \t || Delta=3.87E+00\t ||Error=5.12E-06  \t|| hoe=0.0033653336577117443 \t|| H=0.0033653508871793747\t||ratio=0.9999948803354515\n",
      "LR 2.30E+01 \t || Delta=3.87E+00\t ||Error=4.29E-06  \t|| hoe=0.003365335753187537 \t|| H=0.0033653501886874437\t||ratio=0.9999957105504339\n",
      "LR 2.30E+01 \t || Delta=3.87E+00\t ||Error=3.39E-06  \t|| hoe=0.0033653383143246174 \t|| H=0.0033653497230261564\t||ratio=0.9999966099506803\n",
      "LR 2.30E+01 \t || Delta=3.87E+00\t ||Error=2.77E-06  \t|| hoe=0.003365340642631054 \t|| H=0.0033653499558568\t||ratio=0.9999972326129917\n",
      "LR 2.30E+01 \t || Delta=3.87E+00\t ||Error=1.94E-06  \t|| hoe=0.0033653434365987778 \t|| H=0.0033653499558568\t||ratio=0.9999980628290942\n",
      "LR 2.30E+01 \t || Delta=3.87E+00\t ||Error=1.18E-06  \t|| hoe=0.003365345997735858 \t|| H=0.0033653499558568\t||ratio=0.9999988238605215\n",
      "LR 2.30E+01 \t || Delta=3.87E+00\t ||Error=6.23E-07  \t|| hoe=0.003365348093211651 \t|| H=0.0033653501886874437\t||ratio=0.9999993773379662\n",
      "LR 2.30E+01 \t || Delta=3.87E+00\t ||Error=2.08E-07  \t|| hoe=0.0033653511200100183 \t|| H=0.0033653504215180874\t||ratio=1.0000002075539969\n",
      "LR 2.30E+01 \t || Delta=3.87E+00\t ||Error=8.99E-07  \t|| hoe=0.0033653532154858112 \t|| H=0.0033653501886874437\t||ratio=1.0000008994007155\n",
      "LR 2.30E+01 \t || Delta=3.87E+00\t ||Error=1.66E-06  \t|| hoe=0.003365356009453535 \t|| H=0.0033653504215180874\t||ratio=1.0000016604319752\n",
      "LR 2.30E+01 \t || Delta=3.87E+00\t ||Error=2.28E-06  \t|| hoe=0.003365358104929328 \t|| H=0.0033653504215180874\t||ratio=1.0000022830939659\n",
      "LR 2.30E+01 \t || Delta=3.87E+00\t ||Error=3.11E-06  \t|| hoe=0.0033653611317276955 \t|| H=0.003365350654348731\t||ratio=1.0000031133097382\n",
      "22.955532544000018 22.95555788800002 22.95558323200002\n"
     ]
    },
    {
     "data": {
      "text/plain": [
       "<matplotlib.image.AxesImage at 0x7efc5591a9e8>"
      ]
     },
     "execution_count": 6,
     "metadata": {},
     "output_type": "execute_result"
    },
    {
     "data": {
      "image/png": "[encoded data removed]",
      "text/plain": [
       "<Figure size 432x288 with 1 Axes>"
      ]
     },
     "metadata": {
      "needs_background": "light"
     },
     "output_type": "display_data"
    }
   ],
   "source": [
    "model, ds, loss_fn = get_model_ds_loss()\n",
    "lr = lr_calibrate(model, ds, loss_fn, -8, 8, 1, True)\n",
    "H = block_hessian(model, ds, loss_fn, lr)\n",
    "plt.imshow(H.abs().cpu().numpy())"
   ]
  },
  {
   "cell_type": "code",
   "execution_count": null,
   "metadata": {},
   "outputs": [],
   "source": []
  }
 ],
 "metadata": {
  "kernelspec": {
   "display_name": "Python 3",
   "language": "python",
   "name": "python3"
  },
  "language_info": {
   "codemirror_mode": {
    "name": "ipython",
    "version": 3
   },
   "file_extension": ".py",
   "mimetype": "text/x-python",
   "name": "python",
   "nbconvert_exporter": "python",
   "pygments_lexer": "ipython3",
   "version": "3.7.3"
  }
 },
 "nbformat": 4,
 "nbformat_minor": 4
}
