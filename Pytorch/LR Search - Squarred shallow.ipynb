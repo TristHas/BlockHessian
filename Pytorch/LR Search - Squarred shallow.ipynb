{
 "cells": [
  {
   "cell_type": "code",
   "execution_count": 1,
   "metadata": {},
   "outputs": [],
   "source": [
    "import numpy as np\n",
    "import torch\n",
    "import matplotlib.pyplot as plt\n",
    "%matplotlib inline\n",
    "\n",
    "from models import MLP\n",
    "from data import gen_rnd_ds\n",
    "from losses import SquaredClassification\n",
    "from block_analysis import block_hessian, curvature_effects, block_hessian_diag, block_hessian_off_diag"
   ]
  },
  {
   "cell_type": "markdown",
   "metadata": {},
   "source": [
    "## Helpers"
   ]
  },
  {
   "cell_type": "code",
   "execution_count": 2,
   "metadata": {},
   "outputs": [],
   "source": [
    "def get_model_ds_loss():    \n",
    "    model =  MLP(inp_dim, hid_dim, out_dim, nlayer, bias, mode).cuda(device)\n",
    "    ds = gen_rnd_ds(inp_dim, inp_mean, inp_var, \n",
    "                   out_dim, nsamp, device)\n",
    "    loss_fn = SquaredClassification(out_dim)\n",
    "    return model, ds, loss_fn\n",
    "\n",
    "def pp(lr, delta, h, H):\n",
    "    rel = abs((h.item() - H.sum().item()) / min(abs(H.sum().item()), abs(h.item())))\n",
    "    print(f\"LR {lr:.2E} \\t || Delta={delta:.2E}\\t ||Error={rel:.2E}  \\t|| h={h.item()} \\t|| H={H.sum().item()}\")\n",
    "\n",
    "def lr_range(model, ds, loss_fn, start=-8, stop=8, step=1, log_scale=False):\n",
    "    for lr in range(start, stop, step):\n",
    "        if log_scale:\n",
    "            lr = 10**lr\n",
    "        H = block_hessian(model, ds, loss_fn, lr)\n",
    "        delta, h = curvature_effects(model, ds, loss_fn, lr)\n",
    "        pp(lr, delta, h, H)"
   ]
  },
  {
   "cell_type": "markdown",
   "metadata": {},
   "source": [
    "## Params"
   ]
  },
  {
   "cell_type": "code",
   "execution_count": 8,
   "metadata": {},
   "outputs": [],
   "source": [
    "# Model\n",
    "mode = \"linear\"\n",
    "bias = False\n",
    "nlayer = 2\n",
    "inp_dim = 100\n",
    "hid_dim = 100\n",
    "out_dim = 10\n",
    "\n",
    "# Data parameters\n",
    "nsamp = 100\n",
    "inp_mean = 0\n",
    "inp_var = 1\n",
    "\n",
    "# Others\n",
    "device = 0"
   ]
  },
  {
   "cell_type": "code",
   "execution_count": 12,
   "metadata": {},
   "outputs": [],
   "source": [
    "model, ds, loss_fn = get_model_ds_loss()\n",
    "#lr_range(model, ds, loss_fn, -8, 8, 1, True)\n",
    "#lr_range(model, ds, loss_fn, 10, 100, 1, False)"
   ]
  },
  {
   "cell_type": "code",
   "execution_count": 24,
   "metadata": {},
   "outputs": [
    {
     "name": "stdout",
     "output_type": "stream",
     "text": [
      "0 nan nan\n",
      "1 0.039547525346279144 0.0537184402346611\n",
      "2 0.04295935854315758 0.05371849238872528\n",
      "3 0.04637118801474571 0.05371849983930588\n",
      "4 0.049783021211624146 0.05371849238872528\n",
      "5 0.05319485068321228 0.053718503564596176\n",
      "6 0.05660667642951012 0.053718507289886475\n",
      "7 0.06001850962638855 0.053718503564596176\n",
      "8 0.06343034654855728 0.05371851101517677\n",
      "9 0.06684217602014542 0.05371851474046707\n"
     ]
    }
   ],
   "source": [
    "for lr in range(10): \n",
    "    H = block_hessian(model, ds, loss_fn, lr)\n",
    "    h = curvature_effects(model, ds, loss_fn, lr)\n",
    "    print(lr, h.item(), H.sum().item())"
   ]
  },
  {
   "cell_type": "code",
   "execution_count": 19,
   "metadata": {},
   "outputs": [
    {
     "name": "stdout",
     "output_type": "stream",
     "text": [
      "0 nan nan\n",
      "1 0.0027682632207870483 0.005076628178358078\n",
      "2 0.00315653532743454 0.0050767287611961365\n",
      "3 0.003544833976775408 0.005076732020825148\n",
      "4 0.003933116793632507 0.005076744593679905\n",
      "5 0.004321407992392778 0.005076759494841099\n",
      "6 0.004709700588136911 0.005076758563518524\n",
      "7 0.005097983870655298 0.00507675064727664\n",
      "8 0.005486276000738144 0.0050767529755830765\n",
      "9 0.00587456626817584 0.005076766014099121\n"
     ]
    }
   ],
   "source": [
    "for lr in range(10): \n",
    "    H = block_hessian(model, ds, loss_fn, lr)\n",
    "    h = curvature_effects(model, ds, loss_fn, lr)\n",
    "    print(lr, h.item(), H.sum().item())"
   ]
  },
  {
   "cell_type": "code",
   "execution_count": 47,
   "metadata": {},
   "outputs": [
    {
     "data": {
      "text/plain": [
       "<matplotlib.image.AxesImage at 0x7ff93553ecf8>"
      ]
     },
     "execution_count": 47,
     "metadata": {},
     "output_type": "execute_result"
    },
    {
     "data": {
      "image/png": "[encoded data removed]",
      "text/plain": [
       "<Figure size 432x288 with 1 Axes>"
      ]
     },
     "metadata": {
      "needs_background": "light"
     },
     "output_type": "display_data"
    }
   ],
   "source": [
    "lr = .001\n",
    "H = block_hessian(model, ds, loss_fn, lr)\n",
    "plt.imshow(H.cpu().numpy())"
   ]
  },
  {
   "cell_type": "code",
   "execution_count": 45,
   "metadata": {},
   "outputs": [
    {
     "data": {
      "text/plain": [
       "tensor([[ 0.0020, -0.0030],\n",
       "        [-0.0030,  0.0041]], device='cuda:0')"
      ]
     },
     "execution_count": 45,
     "metadata": {},
     "output_type": "execute_result"
    }
   ],
   "source": [
    "H"
   ]
  },
  {
   "cell_type": "code",
   "execution_count": null,
   "metadata": {},
   "outputs": [],
   "source": []
  },
  {
   "cell_type": "code",
   "execution_count": null,
   "metadata": {},
   "outputs": [],
   "source": []
  },
  {
   "cell_type": "code",
   "execution_count": null,
   "metadata": {},
   "outputs": [],
   "source": []
  },
  {
   "cell_type": "code",
   "execution_count": null,
   "metadata": {},
   "outputs": [],
   "source": []
  }
 ],
 "metadata": {
  "kernelspec": {
   "display_name": "Python 3",
   "language": "python",
   "name": "python3"
  },
  "language_info": {
   "codemirror_mode": {
    "name": "ipython",
    "version": 3
   },
   "file_extension": ".py",
   "mimetype": "text/x-python",
   "name": "python",
   "nbconvert_exporter": "python",
   "pygments_lexer": "ipython3",
   "version": "3.7.3"
  }
 },
 "nbformat": 4,
 "nbformat_minor": 2
}
